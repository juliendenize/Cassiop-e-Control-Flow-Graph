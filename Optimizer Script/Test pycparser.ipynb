{
 "cells": [
  {
   "cell_type": "code",
   "execution_count": 1,
   "metadata": {},
   "outputs": [],
   "source": [
    "from pycparser import parse_file, c_ast\n",
    "global parents\n",
    "parents = {}"
   ]
  },
  {
   "cell_type": "code",
   "execution_count": 2,
   "metadata": {},
   "outputs": [
    {
     "name": "stdout",
     "output_type": "stream",
     "text": [
      "<class 'pycparser.c_ast.FileAST'>\n",
      "FileAST: \n",
      "  FuncDef: \n",
      "    Decl: foo, [], [], []\n",
      "      FuncDecl: \n",
      "        ParamList: \n",
      "          Decl: a, ['const'], [], []\n",
      "            TypeDecl: a, ['const']\n",
      "              IdentifierType: ['int']\n",
      "          Decl: d, ['const'], [], []\n",
      "            TypeDecl: d, ['const']\n",
      "              IdentifierType: ['unsigned', 'int']\n",
      "        TypeDecl: foo, []\n",
      "          IdentifierType: ['int']\n",
      "    Compound: \n",
      "      Decl: b, [], [], []\n",
      "        TypeDecl: b, []\n",
      "          IdentifierType: ['int']\n",
      "        BinaryOp: +\n",
      "          ID: a\n",
      "          ID: d\n",
      "      Decl: w, [], [], []\n",
      "        TypeDecl: w, []\n",
      "          IdentifierType: ['int']\n",
      "        BinaryOp: +\n",
      "          ID: a\n",
      "          Constant: int, 10\n",
      "      If: \n",
      "        BinaryOp: <\n",
      "          ID: b\n",
      "          BinaryOp: +\n",
      "            ID: a\n",
      "            Constant: int, 10\n",
      "        Compound: \n",
      "          FuncCall: \n",
      "            ID: printf\n",
      "            ExprList: \n",
      "              Constant: string, \"hello world\"\n",
      "          If: \n",
      "            BinaryOp: <\n",
      "              ID: d\n",
      "              Constant: int, 10\n",
      "            Compound: \n",
      "              Assignment: +=\n",
      "                ID: w\n",
      "                ID: a\n",
      "            Compound: \n",
      "              FuncCall: \n",
      "                ID: printf\n",
      "                ExprList: \n",
      "                  Constant: string, \"yolo\"\n",
      "          Assignment: =\n",
      "            ID: b\n",
      "            Constant: int, 6\n",
      "        If: \n",
      "          BinaryOp: >\n",
      "            ID: d\n",
      "            Constant: int, 10\n",
      "          Compound: \n",
      "            Assignment: =\n",
      "              ID: b\n",
      "              Constant: int, 92\n",
      "          Compound: \n",
      "            Assignment: =\n",
      "              ID: w\n",
      "              Constant: int, 6\n",
      "            Assignment: =\n",
      "              ID: b\n",
      "              BinaryOp: -\n",
      "                BinaryOp: +\n",
      "                  ID: d\n",
      "                  ID: a\n",
      "                Constant: int, 10\n",
      "      Return: \n",
      "        ID: b\n",
      "  FuncDef: \n",
      "    Decl: main, [], [], []\n",
      "      FuncDecl: \n",
      "        ParamList: \n",
      "          Typename: None, []\n",
      "            TypeDecl: None, []\n",
      "              IdentifierType: ['void']\n",
      "        TypeDecl: main, []\n",
      "          IdentifierType: ['int']\n",
      "    Compound: \n",
      "      Return: \n",
      "        Constant: int, 0\n"
     ]
    }
   ],
   "source": [
    "filename = './C files/if.c'\n",
    "ast = parse_file(filename, use_cpp=True,\n",
    "        cpp_path='gcc',\n",
    "        cpp_args=['-E', r'-Iutils/fake_libc_include'])\n",
    "print(type(ast))\n",
    "ast.show()"
   ]
  },
  {
   "cell_type": "code",
   "execution_count": 3,
   "metadata": {},
   "outputs": [
    {
     "data": {
      "text/plain": [
       "[Decl(name='a',\n",
       "      quals=['const'\n",
       "            ],\n",
       "      storage=[\n",
       "              ],\n",
       "      funcspec=[\n",
       "               ],\n",
       "      type=TypeDecl(declname='a',\n",
       "                    quals=['const'\n",
       "                          ],\n",
       "                    type=IdentifierType(names=['int'\n",
       "                                              ]\n",
       "                                        )\n",
       "                    ),\n",
       "      init=None,\n",
       "      bitsize=None\n",
       "      ), Decl(name='d',\n",
       "      quals=['const'\n",
       "            ],\n",
       "      storage=[\n",
       "              ],\n",
       "      funcspec=[\n",
       "               ],\n",
       "      type=TypeDecl(declname='d',\n",
       "                    quals=['const'\n",
       "                          ],\n",
       "                    type=IdentifierType(names=['unsigned',\n",
       "                                               'int'\n",
       "                                              ]\n",
       "                                        )\n",
       "                    ),\n",
       "      init=None,\n",
       "      bitsize=None\n",
       "      )]"
      ]
     },
     "execution_count": 3,
     "metadata": {},
     "output_type": "execute_result"
    }
   ],
   "source": [
    "foo = ast.ext[0]\n",
    "foo.decl.type.args.params"
   ]
  },
  {
   "cell_type": "code",
   "execution_count": null,
   "metadata": {},
   "outputs": [],
   "source": []
  },
  {
   "cell_type": "code",
   "execution_count": null,
   "metadata": {},
   "outputs": [],
   "source": []
  },
  {
   "cell_type": "code",
   "execution_count": 18,
   "metadata": {},
   "outputs": [
    {
     "name": "stdout",
     "output_type": "stream",
     "text": [
      "Decl: b, [], [], []\n",
      "  TypeDecl: b, []\n",
      "    IdentifierType: ['int']\n",
      "  BinaryOp: +\n",
      "    ID: a\n",
      "    ID: d\n",
      "type\n",
      "<class 'pycparser.c_ast.TypeDecl'>\n",
      "init\n",
      "<class 'pycparser.c_ast.BinaryOp'>\n"
     ]
    }
   ],
   "source": [
    "b_foo = foo.body.block_items[0]\n",
    "b_foo.show()\n",
    "b_foo.children()\n",
    "for (x, child) in b_foo.children():\n",
    "    print(x)\n",
    "    print(type(child))"
   ]
  },
  {
   "cell_type": "code",
   "execution_count": null,
   "metadata": {},
   "outputs": [],
   "source": [
    "b_foo.init.left"
   ]
  },
  {
   "cell_type": "code",
   "execution_count": null,
   "metadata": {},
   "outputs": [],
   "source": [
    "w_foo = foo.body.block_items[1]\n",
    "w_foo.show()"
   ]
  },
  {
   "cell_type": "code",
   "execution_count": null,
   "metadata": {},
   "outputs": [],
   "source": [
    "type(w_foo.init.left)"
   ]
  },
  {
   "cell_type": "code",
   "execution_count": null,
   "metadata": {},
   "outputs": [],
   "source": [
    "def computeParents(node, parent):\n",
    "    global parents\n",
    "    parents[node] = parent\n",
    "    for (child, value) in node.children():\n",
    "        computeParents(value, node)"
   ]
  },
  {
   "cell_type": "code",
   "execution_count": null,
   "metadata": {},
   "outputs": [],
   "source": [
    "computeParents(ast, None)"
   ]
  },
  {
   "cell_type": "code",
   "execution_count": null,
   "metadata": {},
   "outputs": [],
   "source": [
    "parents[return_foo]"
   ]
  },
  {
   "cell_type": "code",
   "execution_count": null,
   "metadata": {},
   "outputs": [],
   "source": [
    "conditions = []\n",
    "def findConditions(node):\n",
    "    if(type(node) == c_ast.While or type(node) == c_ast.If\\\n",
    "       or type(node) == c_ast.For):\n",
    "        conditions.append(node.cond)\n",
    "    for (child, value) in node.children():\n",
    "        findConditions(value)\n",
    "findConditions(ast)"
   ]
  },
  {
   "cell_type": "code",
   "execution_count": null,
   "metadata": {},
   "outputs": [],
   "source": [
    "conditions[0].show()"
   ]
  },
  {
   "cell_type": "code",
   "execution_count": null,
   "metadata": {},
   "outputs": [],
   "source": [
    "print(return_foo.coord)"
   ]
  },
  {
   "cell_type": "code",
   "execution_count": null,
   "metadata": {},
   "outputs": [],
   "source": [
    "for_foo = foo.body.block_items[0]\n",
    "type(for_foo)"
   ]
  },
  {
   "cell_type": "code",
   "execution_count": null,
   "metadata": {},
   "outputs": [],
   "source": [
    "type(for_foo.init)"
   ]
  },
  {
   "cell_type": "code",
   "execution_count": null,
   "metadata": {},
   "outputs": [],
   "source": []
  }
 ],
 "metadata": {
  "kernelspec": {
   "display_name": "Python 3",
   "language": "python",
   "name": "python3"
  },
  "language_info": {
   "codemirror_mode": {
    "name": "ipython",
    "version": 3
   },
   "file_extension": ".py",
   "mimetype": "text/x-python",
   "name": "python",
   "nbconvert_exporter": "python",
   "pygments_lexer": "ipython3",
   "version": "3.7.3"
  }
 },
 "nbformat": 4,
 "nbformat_minor": 2
}
