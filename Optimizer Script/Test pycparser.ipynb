{
 "cells": [
  {
   "cell_type": "code",
   "execution_count": 8,
   "metadata": {},
   "outputs": [
    {
     "name": "stdout",
     "output_type": "stream",
     "text": [
      "<class 'pycparser.c_ast.FileAST'>\n",
      "FileAST: \n",
      "  FuncDef: \n",
      "    Decl: foo, [], [], []\n",
      "      FuncDecl: \n",
      "        ParamList: \n",
      "          Decl: a, ['const'], [], []\n",
      "            TypeDecl: a, ['const']\n",
      "              IdentifierType: ['int']\n",
      "          Decl: d, ['const'], [], []\n",
      "            TypeDecl: d, ['const']\n",
      "              IdentifierType: ['unsigned', 'int']\n",
      "        TypeDecl: foo, []\n",
      "          IdentifierType: ['int']\n",
      "    Compound: \n",
      "      Decl: b, [], [], []\n",
      "        TypeDecl: b, []\n",
      "          IdentifierType: ['int']\n",
      "        BinaryOp: +\n",
      "          ID: a\n",
      "          ID: d\n",
      "      If: \n",
      "        BinaryOp: <\n",
      "          ID: b\n",
      "          ID: a\n",
      "        Compound: \n",
      "          Return: \n",
      "            Constant: int, 11\n",
      "      Return: \n",
      "        ID: b\n",
      "  FuncDef: \n",
      "    Decl: main, [], [], []\n",
      "      FuncDecl: \n",
      "        ParamList: \n",
      "          Typename: None, []\n",
      "            TypeDecl: None, []\n",
      "              IdentifierType: ['void']\n",
      "        TypeDecl: main, []\n",
      "          IdentifierType: ['int']\n",
      "    Compound: \n",
      "      Return: \n",
      "        Constant: int, 0\n"
     ]
    }
   ],
   "source": [
    "from pycparser import parse_file\n",
    "\n",
    "filename = './C files/if.c'\n",
    "\n",
    "ast = parse_file(filename, use_cpp=True,\n",
    "        cpp_path='gcc',\n",
    "        cpp_args=['-E', r'-Iutils/fake_libc_include'])\n",
    "print(type(ast))\n",
    "ast.show()"
   ]
  },
  {
   "cell_type": "code",
   "execution_count": 9,
   "metadata": {},
   "outputs": [],
   "source": [
    "foo = ast.ext[0]\n",
    "foo_body = foo.body"
   ]
  },
  {
   "cell_type": "code",
   "execution_count": 10,
   "metadata": {},
   "outputs": [
    {
     "name": "stdout",
     "output_type": "stream",
     "text": [
      "Compound: \n",
      "  Decl: b, [], [], []\n",
      "    TypeDecl: b, []\n",
      "      IdentifierType: ['int']\n",
      "    BinaryOp: +\n",
      "      ID: a\n",
      "      ID: d\n",
      "  If: \n",
      "    BinaryOp: <\n",
      "      ID: b\n",
      "      ID: a\n",
      "    Compound: \n",
      "      Return: \n",
      "        Constant: int, 11\n",
      "  Return: \n",
      "    ID: b\n"
     ]
    }
   ],
   "source": [
    "foo_body.show()"
   ]
  },
  {
   "cell_type": "code",
   "execution_count": 20,
   "metadata": {},
   "outputs": [],
   "source": [
    "b = foo.body.block_items[0].type"
   ]
  },
  {
   "cell_type": "code",
   "execution_count": 23,
   "metadata": {},
   "outputs": [
    {
     "data": {
      "text/plain": [
       "'b'"
      ]
     },
     "execution_count": 23,
     "metadata": {},
     "output_type": "execute_result"
    }
   ],
   "source": [
    "b.declname"
   ]
  },
  {
   "cell_type": "code",
   "execution_count": null,
   "metadata": {},
   "outputs": [],
   "source": []
  }
 ],
 "metadata": {
  "kernelspec": {
   "display_name": "Python 3",
   "language": "python",
   "name": "python3"
  },
  "language_info": {
   "codemirror_mode": {
    "name": "ipython",
    "version": 3
   },
   "file_extension": ".py",
   "mimetype": "text/x-python",
   "name": "python",
   "nbconvert_exporter": "python",
   "pygments_lexer": "ipython3",
   "version": "3.7.1"
  }
 },
 "nbformat": 4,
 "nbformat_minor": 2
}
