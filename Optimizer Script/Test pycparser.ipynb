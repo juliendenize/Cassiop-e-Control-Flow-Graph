{
 "cells": [
  {
   "cell_type": "code",
   "execution_count": 51,
   "metadata": {},
   "outputs": [],
   "source": [
    "from pycparser import parse_file, c_ast\n",
    "global parents\n",
    "parents = {}"
   ]
  },
  {
   "cell_type": "code",
   "execution_count": 39,
   "metadata": {},
   "outputs": [
    {
     "name": "stdout",
     "output_type": "stream",
     "text": [
      "<class 'pycparser.c_ast.FileAST'>\n",
      "FileAST: \n",
      "  FuncDef: \n",
      "    Decl: foo2, [], [], []\n",
      "      FuncDecl: \n",
      "        ParamList: \n",
      "          Decl: a, ['const'], [], []\n",
      "            PtrDecl: []\n",
      "              TypeDecl: a, ['const']\n",
      "                IdentifierType: ['int']\n",
      "          Decl: d, ['const'], [], []\n",
      "            TypeDecl: d, ['const']\n",
      "              IdentifierType: ['unsigned', 'int']\n",
      "        TypeDecl: foo2, []\n",
      "          IdentifierType: ['int']\n",
      "    Compound: \n",
      "      For: \n",
      "        DeclList: \n",
      "          Decl: b, [], [], []\n",
      "            TypeDecl: b, []\n",
      "              IdentifierType: ['int']\n",
      "            BinaryOp: +\n",
      "              ID: a\n",
      "              ID: d\n",
      "        BinaryOp: <\n",
      "          ID: b\n",
      "          ID: a\n",
      "        UnaryOp: p++\n",
      "          ID: b\n",
      "        Compound: \n",
      "          If: \n",
      "            BinaryOp: <\n",
      "              ID: b\n",
      "              BinaryOp: +\n",
      "                ID: a\n",
      "                Constant: int, 10\n",
      "            Compound: \n",
      "              Return: \n",
      "                Constant: int, 11\n",
      "            If: \n",
      "              BinaryOp: >\n",
      "                ID: b\n",
      "                ID: a\n",
      "              Compound: \n",
      "                Return: \n",
      "                  Constant: int, 10\n",
      "              Compound: \n",
      "                Return: \n",
      "                  Constant: int, 9\n",
      "      Return: \n",
      "        Constant: int, 0\n",
      "  FuncDef: \n",
      "    Decl: foo, [], [], []\n",
      "      FuncDecl: \n",
      "        ParamList: \n",
      "          Decl: a, ['const'], [], []\n",
      "            TypeDecl: a, ['const']\n",
      "              IdentifierType: ['int']\n",
      "          Decl: d, ['const'], [], []\n",
      "            TypeDecl: d, ['const']\n",
      "              IdentifierType: ['int']\n",
      "        TypeDecl: foo, []\n",
      "          IdentifierType: ['int']\n",
      "    Compound: \n",
      "      Decl: b, [], [], []\n",
      "        TypeDecl: b, []\n",
      "          IdentifierType: ['int']\n",
      "        BinaryOp: +\n",
      "          ID: a\n",
      "          ID: d\n",
      "      While: \n",
      "        BinaryOp: <\n",
      "          ID: b\n",
      "          ID: a\n",
      "        Compound: \n",
      "          If: \n",
      "            BinaryOp: <\n",
      "              ID: b\n",
      "              BinaryOp: +\n",
      "                ID: a\n",
      "                Constant: int, 10\n",
      "            Compound: \n",
      "              Return: \n",
      "                Constant: int, 11\n",
      "          Return: \n",
      "            Constant: int, 10\n",
      "      Return: \n",
      "        ID: b\n",
      "  FuncDef: \n",
      "    Decl: main, [], [], []\n",
      "      FuncDecl: \n",
      "        ParamList: \n",
      "          Typename: None, []\n",
      "            TypeDecl: None, []\n",
      "              IdentifierType: ['void']\n",
      "        TypeDecl: main, []\n",
      "          IdentifierType: ['int']\n",
      "    Compound: \n",
      "      Return: \n",
      "        Constant: int, 0\n"
     ]
    }
   ],
   "source": [
    "filename = './C files/while.c'\n",
    "ast = parse_file(filename, use_cpp=True,\n",
    "        cpp_path='gcc',\n",
    "        cpp_args=['-E', r'-Iutils/fake_libc_include'])\n",
    "print(type(ast))\n",
    "ast.show()"
   ]
  },
  {
   "cell_type": "code",
   "execution_count": 3,
   "metadata": {},
   "outputs": [],
   "source": [
    "foo = ast.ext[0]\n",
    "foo_body = foo.body"
   ]
  },
  {
   "cell_type": "code",
   "execution_count": 4,
   "metadata": {},
   "outputs": [
    {
     "name": "stdout",
     "output_type": "stream",
     "text": [
      "Compound: \n",
      "  Decl: b, [], [], []\n",
      "    TypeDecl: b, []\n",
      "      IdentifierType: ['int']\n",
      "    BinaryOp: +\n",
      "      ID: a\n",
      "      ID: d\n",
      "  While: \n",
      "    BinaryOp: <\n",
      "      ID: b\n",
      "      ID: a\n",
      "    Compound: \n",
      "      If: \n",
      "        BinaryOp: <\n",
      "          ID: b\n",
      "          BinaryOp: +\n",
      "            ID: a\n",
      "            Constant: int, 10\n",
      "        Compound: \n",
      "          Return: \n",
      "            Constant: int, 11\n",
      "      Return: \n",
      "        Constant: int, 10\n",
      "  Return: \n",
      "    ID: b\n"
     ]
    }
   ],
   "source": [
    "foo_body.show()"
   ]
  },
  {
   "cell_type": "code",
   "execution_count": 23,
   "metadata": {},
   "outputs": [],
   "source": [
    "foo_body = foo.body"
   ]
  },
  {
   "cell_type": "code",
   "execution_count": 45,
   "metadata": {},
   "outputs": [
    {
     "ename": "AttributeError",
     "evalue": "'Decl' object has no attribute 'cond'",
     "output_type": "error",
     "traceback": [
      "\u001b[0;31m---------------------------------------------------------------------------\u001b[0m",
      "\u001b[0;31mAttributeError\u001b[0m                            Traceback (most recent call last)",
      "\u001b[0;32m<ipython-input-45-832d4a4bbce6>\u001b[0m in \u001b[0;36m<module>\u001b[0;34m\u001b[0m\n\u001b[0;32m----> 1\u001b[0;31m \u001b[0mwhile_foo\u001b[0m \u001b[0;34m=\u001b[0m \u001b[0mfoo\u001b[0m\u001b[0;34m.\u001b[0m\u001b[0mbody\u001b[0m\u001b[0;34m.\u001b[0m\u001b[0mblock_items\u001b[0m\u001b[0;34m[\u001b[0m\u001b[0;36m0\u001b[0m\u001b[0;34m]\u001b[0m\u001b[0;34m.\u001b[0m\u001b[0mcond\u001b[0m\u001b[0;34m\u001b[0m\u001b[0;34m\u001b[0m\u001b[0m\n\u001b[0m\u001b[1;32m      2\u001b[0m \u001b[0mtype\u001b[0m\u001b[0;34m(\u001b[0m\u001b[0mwhile_foo\u001b[0m\u001b[0;34m)\u001b[0m\u001b[0;34m\u001b[0m\u001b[0;34m\u001b[0m\u001b[0m\n",
      "\u001b[0;31mAttributeError\u001b[0m: 'Decl' object has no attribute 'cond'"
     ]
    }
   ],
   "source": [
    "while_foo = foo.body.block_items[1]\n",
    "type(while_foo)"
   ]
  },
  {
   "cell_type": "code",
   "execution_count": 7,
   "metadata": {},
   "outputs": [
    {
     "data": {
      "text/plain": [
       "pycparser.c_ast.TypeDecl"
      ]
     },
     "execution_count": 7,
     "metadata": {},
     "output_type": "execute_result"
    }
   ],
   "source": [
    "type(b)"
   ]
  },
  {
   "cell_type": "code",
   "execution_count": 27,
   "metadata": {},
   "outputs": [],
   "source": [
    "def computeParents(node, parent):\n",
    "    global parents\n",
    "    parents[node] = parent\n",
    "    for (child, value) in node.children():\n",
    "        computeParents(value, node)"
   ]
  },
  {
   "cell_type": "code",
   "execution_count": 28,
   "metadata": {},
   "outputs": [],
   "source": [
    "computeParents(ast, None)"
   ]
  },
  {
   "cell_type": "code",
   "execution_count": 29,
   "metadata": {},
   "outputs": [
    {
     "data": {
      "text/plain": [
       "FuncDef(decl=Decl(name='foo',\n",
       "                  quals=[\n",
       "                        ],\n",
       "                  storage=[\n",
       "                          ],\n",
       "                  funcspec=[\n",
       "                           ],\n",
       "                  type=FuncDecl(args=ParamList(params=[Decl(name='a',\n",
       "                                                            quals=['const'\n",
       "                                                                  ],\n",
       "                                                            storage=[\n",
       "                                                                    ],\n",
       "                                                            funcspec=[\n",
       "                                                                     ],\n",
       "                                                            type=TypeDecl(declname='a',\n",
       "                                                                          quals=['const'\n",
       "                                                                                ],\n",
       "                                                                          type=IdentifierType(names=['int'\n",
       "                                                                                                    ]\n",
       "                                                                                              )\n",
       "                                                                          ),\n",
       "                                                            init=None,\n",
       "                                                            bitsize=None\n",
       "                                                            ),\n",
       "                                                       Decl(name='d',\n",
       "                                                            quals=['const'\n",
       "                                                                  ],\n",
       "                                                            storage=[\n",
       "                                                                    ],\n",
       "                                                            funcspec=[\n",
       "                                                                     ],\n",
       "                                                            type=TypeDecl(declname='d',\n",
       "                                                                          quals=['const'\n",
       "                                                                                ],\n",
       "                                                                          type=IdentifierType(names=['int'\n",
       "                                                                                                    ]\n",
       "                                                                                              )\n",
       "                                                                          ),\n",
       "                                                            init=None,\n",
       "                                                            bitsize=None\n",
       "                                                            )\n",
       "                                                      ]\n",
       "                                               ),\n",
       "                                type=TypeDecl(declname='foo',\n",
       "                                              quals=[\n",
       "                                                    ],\n",
       "                                              type=IdentifierType(names=['int'\n",
       "                                                                        ]\n",
       "                                                                  )\n",
       "                                              )\n",
       "                                ),\n",
       "                  init=None,\n",
       "                  bitsize=None\n",
       "                  ),\n",
       "        param_decls=None,\n",
       "        body=Compound(block_items=[Decl(name='b',\n",
       "                                        quals=[\n",
       "                                              ],\n",
       "                                        storage=[\n",
       "                                                ],\n",
       "                                        funcspec=[\n",
       "                                                 ],\n",
       "                                        type=TypeDecl(declname='b',\n",
       "                                                      quals=[\n",
       "                                                            ],\n",
       "                                                      type=IdentifierType(names=['int'\n",
       "                                                                                ]\n",
       "                                                                          )\n",
       "                                                      ),\n",
       "                                        init=BinaryOp(op='+',\n",
       "                                                      left=ID(name='a'\n",
       "                                                              ),\n",
       "                                                      right=ID(name='d'\n",
       "                                                               )\n",
       "                                                      ),\n",
       "                                        bitsize=None\n",
       "                                        ),\n",
       "                                   While(cond=BinaryOp(op='<',\n",
       "                                                       left=ID(name='b'\n",
       "                                                               ),\n",
       "                                                       right=ID(name='a'\n",
       "                                                                )\n",
       "                                                       ),\n",
       "                                         stmt=Compound(block_items=[If(cond=BinaryOp(op='<',\n",
       "                                                                                     left=ID(name='b'\n",
       "                                                                                             ),\n",
       "                                                                                     right=BinaryOp(op='+',\n",
       "                                                                                                    left=ID(name='a'\n",
       "                                                                                                            ),\n",
       "                                                                                                    right=Constant(type='int',\n",
       "                                                                                                                   value='10'\n",
       "                                                                                                                   )\n",
       "                                                                                                    )\n",
       "                                                                                     ),\n",
       "                                                                       iftrue=Compound(block_items=[Return(expr=Constant(type='int',\n",
       "                                                                                                                         value='11'\n",
       "                                                                                                                         )\n",
       "                                                                                                           )\n",
       "                                                                                                   ]\n",
       "                                                                                       ),\n",
       "                                                                       iffalse=None\n",
       "                                                                       ),\n",
       "                                                                    Return(expr=Constant(type='int',\n",
       "                                                                                         value='10'\n",
       "                                                                                         )\n",
       "                                                                           )\n",
       "                                                                   ]\n",
       "                                                       )\n",
       "                                         ),\n",
       "                                   Return(expr=ID(name='b'\n",
       "                                                  )\n",
       "                                          )\n",
       "                                  ]\n",
       "                      )\n",
       "        )"
      ]
     },
     "execution_count": 29,
     "metadata": {},
     "output_type": "execute_result"
    }
   ],
   "source": [
    "parents[b]"
   ]
  },
  {
   "cell_type": "code",
   "execution_count": 52,
   "metadata": {},
   "outputs": [],
   "source": [
    "conditions = []\n",
    "def findConditions(node):\n",
    "    if(type(node) == c_ast.While or type(node) == c_ast.If\\\n",
    "       or type(node) == c_ast.For):\n",
    "        conditions.append(node.cond)\n",
    "    for (child, value) in node.children():\n",
    "        findConditions(value)\n",
    "findConditions(ast)"
   ]
  },
  {
   "cell_type": "code",
   "execution_count": 53,
   "metadata": {},
   "outputs": [
    {
     "data": {
      "text/plain": [
       "[BinaryOp(op='<',\n",
       "          left=ID(name='b'\n",
       "                  ),\n",
       "          right=ID(name='a'\n",
       "                   )\n",
       "          ), BinaryOp(op='<',\n",
       "          left=ID(name='b'\n",
       "                  ),\n",
       "          right=BinaryOp(op='+',\n",
       "                         left=ID(name='a'\n",
       "                                 ),\n",
       "                         right=Constant(type='int',\n",
       "                                        value='10'\n",
       "                                        )\n",
       "                         )\n",
       "          ), BinaryOp(op='>',\n",
       "          left=ID(name='b'\n",
       "                  ),\n",
       "          right=ID(name='a'\n",
       "                   )\n",
       "          ), BinaryOp(op='<',\n",
       "          left=ID(name='b'\n",
       "                  ),\n",
       "          right=ID(name='a'\n",
       "                   )\n",
       "          ), BinaryOp(op='<',\n",
       "          left=ID(name='b'\n",
       "                  ),\n",
       "          right=BinaryOp(op='+',\n",
       "                         left=ID(name='a'\n",
       "                                 ),\n",
       "                         right=Constant(type='int',\n",
       "                                        value='10'\n",
       "                                        )\n",
       "                         )\n",
       "          )]"
      ]
     },
     "execution_count": 53,
     "metadata": {},
     "output_type": "execute_result"
    }
   ],
   "source": [
    "conditions"
   ]
  },
  {
   "cell_type": "code",
   "execution_count": null,
   "metadata": {},
   "outputs": [],
   "source": []
  }
 ],
 "metadata": {
  "kernelspec": {
   "display_name": "Python 3",
   "language": "python",
   "name": "python3"
  },
  "language_info": {
   "codemirror_mode": {
    "name": "ipython",
    "version": 3
   },
   "file_extension": ".py",
   "mimetype": "text/x-python",
   "name": "python",
   "nbconvert_exporter": "python",
   "pygments_lexer": "ipython3",
   "version": "3.7.1"
  }
 },
 "nbformat": 4,
 "nbformat_minor": 2
}
