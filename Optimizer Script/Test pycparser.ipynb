{
 "cells": [
  {
   "cell_type": "code",
   "execution_count": 1,
   "metadata": {},
   "outputs": [],
   "source": [
    "from pycparser import parse_file, c_ast\n",
    "global parents\n",
    "parents = {}"
   ]
  },
  {
   "cell_type": "code",
   "execution_count": 26,
   "metadata": {},
   "outputs": [
    {
     "name": "stdout",
     "output_type": "stream",
     "text": [
      "<class 'pycparser.c_ast.FileAST'>\n",
      "FileAST: \n",
      "  FuncDef: \n",
      "    Decl: foo2, [], [], []\n",
      "      FuncDecl: \n",
      "        ParamList: \n",
      "          Decl: a, ['const'], [], []\n",
      "            PtrDecl: []\n",
      "              TypeDecl: a, ['const']\n",
      "                IdentifierType: ['int']\n",
      "          Decl: d, ['const'], [], []\n",
      "            TypeDecl: d, ['const']\n",
      "              IdentifierType: ['unsigned', 'int']\n",
      "        TypeDecl: foo2, []\n",
      "          IdentifierType: ['int']\n",
      "    Compound: \n",
      "      Decl: b, [], [], []\n",
      "        PtrDecl: []\n",
      "          TypeDecl: b, []\n",
      "            IdentifierType: ['int']\n",
      "        FuncCall: \n",
      "          ID: malloc\n",
      "          ExprList: \n",
      "            UnaryOp: sizeof\n",
      "              Typename: None, []\n",
      "                TypeDecl: None, []\n",
      "                  IdentifierType: ['int']\n",
      "      If: \n",
      "        BinaryOp: ==\n",
      "          ID: b\n",
      "          ID: a\n",
      "        Compound: \n",
      "          Decl: d, [], [], []\n",
      "            TypeDecl: d, []\n",
      "              IdentifierType: ['int']\n",
      "            Constant: int, 5\n",
      "          Assignment: =\n",
      "            ID: d\n",
      "            BinaryOp: +\n",
      "              ID: a\n",
      "              ID: b\n",
      "          Return: \n",
      "            Constant: int, 11\n",
      "      Return: \n",
      "        ID: b\n",
      "  FuncDef: \n",
      "    Decl: foo, [], [], []\n",
      "      FuncDecl: \n",
      "        ParamList: \n",
      "          Decl: a, ['const'], [], []\n",
      "            TypeDecl: a, ['const']\n",
      "              IdentifierType: ['int']\n",
      "          Decl: d, ['const'], [], []\n",
      "            TypeDecl: d, ['const']\n",
      "              IdentifierType: ['unsigned', 'int']\n",
      "        TypeDecl: foo, []\n",
      "          IdentifierType: ['int']\n",
      "    Compound: \n",
      "      Decl: b, [], [], []\n",
      "        TypeDecl: b, []\n",
      "          IdentifierType: ['int']\n",
      "        BinaryOp: +\n",
      "          ID: a\n",
      "          ID: d\n",
      "      If: \n",
      "        BinaryOp: <\n",
      "          ID: b\n",
      "          ID: a\n",
      "        Compound: \n",
      "          Return: \n",
      "            Constant: int, 11\n",
      "      Return: \n",
      "        ID: b\n",
      "  FuncDef: \n",
      "    Decl: main, [], [], []\n",
      "      FuncDecl: \n",
      "        ParamList: \n",
      "          Typename: None, []\n",
      "            TypeDecl: None, []\n",
      "              IdentifierType: ['void']\n",
      "        TypeDecl: main, []\n",
      "          IdentifierType: ['int']\n",
      "    Compound: \n",
      "      Return: \n",
      "        Constant: int, 0\n"
     ]
    }
   ],
   "source": [
    "filename = './C files/if.c'\n",
    "ast = parse_file(filename, use_cpp=True,\n",
    "        cpp_path='gcc',\n",
    "        cpp_args=['-E', r'-Iutils/fake_libc_include'])\n",
    "print(type(ast))\n",
    "ast.show()"
   ]
  },
  {
   "cell_type": "code",
   "execution_count": 3,
   "metadata": {},
   "outputs": [],
   "source": [
    "foo = ast.ext[0]\n",
    "foo_body = foo.body"
   ]
  },
  {
   "cell_type": "code",
   "execution_count": 4,
   "metadata": {},
   "outputs": [
    {
     "name": "stdout",
     "output_type": "stream",
     "text": [
      "Compound: \n",
      "  For: \n",
      "    DeclList: \n",
      "      Decl: b, [], [], []\n",
      "        TypeDecl: b, []\n",
      "          IdentifierType: ['int']\n",
      "        BinaryOp: +\n",
      "          ID: a\n",
      "          ID: d\n",
      "    BinaryOp: <\n",
      "      ID: b\n",
      "      ID: a\n",
      "    UnaryOp: p++\n",
      "      ID: b\n",
      "    Compound: \n",
      "      If: \n",
      "        BinaryOp: <\n",
      "          ID: b\n",
      "          BinaryOp: +\n",
      "            ID: a\n",
      "            Constant: int, 10\n",
      "        Compound: \n",
      "          Return: \n",
      "            Constant: int, 11\n",
      "        If: \n",
      "          BinaryOp: >\n",
      "            ID: b\n",
      "            ID: a\n",
      "          Compound: \n",
      "            Return: \n",
      "              Constant: int, 10\n",
      "          Compound: \n",
      "            Return: \n",
      "              Constant: int, 9\n",
      "  Return: \n",
      "    Constant: int, 0\n"
     ]
    }
   ],
   "source": [
    "foo_body.show()"
   ]
  },
  {
   "cell_type": "code",
   "execution_count": 5,
   "metadata": {},
   "outputs": [],
   "source": [
    "foo_body = foo.body"
   ]
  },
  {
   "cell_type": "code",
   "execution_count": 6,
   "metadata": {},
   "outputs": [
    {
     "data": {
      "text/plain": [
       "pycparser.c_ast.Return"
      ]
     },
     "execution_count": 6,
     "metadata": {},
     "output_type": "execute_result"
    }
   ],
   "source": [
    "return_foo = foo.body.block_items[1]\n",
    "type(return_foo)"
   ]
  },
  {
   "cell_type": "code",
   "execution_count": 7,
   "metadata": {},
   "outputs": [
    {
     "data": {
      "text/plain": [
       "pycparser.c_ast.Return"
      ]
     },
     "execution_count": 7,
     "metadata": {},
     "output_type": "execute_result"
    }
   ],
   "source": [
    "type(return_foo)"
   ]
  },
  {
   "cell_type": "code",
   "execution_count": 8,
   "metadata": {},
   "outputs": [],
   "source": [
    "def computeParents(node, parent):\n",
    "    global parents\n",
    "    parents[node] = parent\n",
    "    for (child, value) in node.children():\n",
    "        computeParents(value, node)"
   ]
  },
  {
   "cell_type": "code",
   "execution_count": 9,
   "metadata": {},
   "outputs": [],
   "source": [
    "computeParents(ast, None)"
   ]
  },
  {
   "cell_type": "code",
   "execution_count": 10,
   "metadata": {},
   "outputs": [
    {
     "data": {
      "text/plain": [
       "<pycparser.c_ast.Compound at 0x7f17384efac8>"
      ]
     },
     "execution_count": 10,
     "metadata": {},
     "output_type": "execute_result"
    }
   ],
   "source": [
    "parents[return_foo]"
   ]
  },
  {
   "cell_type": "code",
   "execution_count": 11,
   "metadata": {},
   "outputs": [],
   "source": [
    "conditions = []\n",
    "def findConditions(node):\n",
    "    if(type(node) == c_ast.While or type(node) == c_ast.If\\\n",
    "       or type(node) == c_ast.For):\n",
    "        conditions.append(node.cond)\n",
    "    for (child, value) in node.children():\n",
    "        findConditions(value)\n",
    "findConditions(ast)"
   ]
  },
  {
   "cell_type": "code",
   "execution_count": 12,
   "metadata": {},
   "outputs": [
    {
     "name": "stdout",
     "output_type": "stream",
     "text": [
      "BinaryOp: <\n",
      "  ID: b\n",
      "  ID: a\n"
     ]
    }
   ],
   "source": [
    "conditions[0].show()"
   ]
  },
  {
   "cell_type": "code",
   "execution_count": 13,
   "metadata": {},
   "outputs": [
    {
     "name": "stdout",
     "output_type": "stream",
     "text": [
      "./C files/while.c:13:5\n"
     ]
    }
   ],
   "source": [
    "print(return_foo.coord)"
   ]
  },
  {
   "cell_type": "code",
   "execution_count": 14,
   "metadata": {},
   "outputs": [
    {
     "data": {
      "text/plain": [
       "pycparser.c_ast.For"
      ]
     },
     "execution_count": 14,
     "metadata": {},
     "output_type": "execute_result"
    }
   ],
   "source": [
    "for_foo = foo.body.block_items[0]\n",
    "type(for_foo)"
   ]
  },
  {
   "cell_type": "code",
   "execution_count": 23,
   "metadata": {},
   "outputs": [
    {
     "data": {
      "text/plain": [
       "pycparser.c_ast.DeclList"
      ]
     },
     "execution_count": 23,
     "metadata": {},
     "output_type": "execute_result"
    }
   ],
   "source": [
    "type(for_foo.init)"
   ]
  },
  {
   "cell_type": "code",
   "execution_count": null,
   "metadata": {},
   "outputs": [],
   "source": []
  }
 ],
 "metadata": {
  "kernelspec": {
   "display_name": "Python 3",
   "language": "python",
   "name": "python3"
  },
  "language_info": {
   "codemirror_mode": {
    "name": "ipython",
    "version": 3
   },
   "file_extension": ".py",
   "mimetype": "text/x-python",
   "name": "python",
   "nbconvert_exporter": "python",
   "pygments_lexer": "ipython3",
   "version": "3.7.2"
  }
 },
 "nbformat": 4,
 "nbformat_minor": 2
}
