{
 "cells": [
  {
   "cell_type": "code",
   "execution_count": 33,
   "metadata": {},
   "outputs": [],
   "source": [
    "from pycparser import parse_file, c_ast\n",
    "global parents\n",
    "parents = {}"
   ]
  },
  {
   "cell_type": "code",
   "execution_count": 34,
   "metadata": {},
   "outputs": [
    {
     "name": "stdout",
     "output_type": "stream",
     "text": [
      "<class 'pycparser.c_ast.FileAST'>\n",
      "FileAST: \n",
      "  FuncDef: \n",
      "    Decl: foo, [], [], []\n",
      "      FuncDecl: \n",
      "        ParamList: \n",
      "          Decl: a, ['const'], [], []\n",
      "            TypeDecl: a, ['const']\n",
      "              IdentifierType: ['int']\n",
      "          Decl: d, ['const'], [], []\n",
      "            TypeDecl: d, ['const']\n",
      "              IdentifierType: ['unsigned', 'int']\n",
      "        TypeDecl: foo, []\n",
      "          IdentifierType: ['int']\n",
      "    Compound: \n",
      "      Decl: b, [], [], []\n",
      "        TypeDecl: b, []\n",
      "          IdentifierType: ['int']\n",
      "        BinaryOp: +\n",
      "          ID: a\n",
      "          ID: d\n",
      "      Decl: w, [], [], []\n",
      "        TypeDecl: w, []\n",
      "          IdentifierType: ['int']\n",
      "        ID: d\n",
      "      If: \n",
      "        BinaryOp: <\n",
      "          ID: b\n",
      "          BinaryOp: +\n",
      "            ID: a\n",
      "            Constant: int, 10\n",
      "        Compound: \n",
      "          FuncCall: \n",
      "            ID: printf\n",
      "            ExprList: \n",
      "              Constant: string, \"hello world\"\n",
      "          If: \n",
      "            BinaryOp: <\n",
      "              ID: d\n",
      "              Constant: int, 10\n",
      "            Compound: \n",
      "              Assignment: +=\n",
      "                ID: w\n",
      "                ID: a\n",
      "            Compound: \n",
      "              FuncCall: \n",
      "                ID: printf\n",
      "                ExprList: \n",
      "                  Constant: string, \"yolo\"\n",
      "          Assignment: =\n",
      "            ID: b\n",
      "            Constant: int, 6\n",
      "        If: \n",
      "          BinaryOp: >\n",
      "            ID: d\n",
      "            Constant: int, 10\n",
      "          Compound: \n",
      "            Assignment: =\n",
      "              ID: b\n",
      "              Constant: int, 92\n",
      "          Compound: \n",
      "            Assignment: =\n",
      "              ID: w\n",
      "              Constant: int, 6\n",
      "            Assignment: =\n",
      "              ID: b\n",
      "              BinaryOp: -\n",
      "                BinaryOp: +\n",
      "                  ID: d\n",
      "                  ID: a\n",
      "                Constant: int, 10\n",
      "      Return: \n",
      "        ID: b\n",
      "  FuncDef: \n",
      "    Decl: main, [], [], []\n",
      "      FuncDecl: \n",
      "        ParamList: \n",
      "          Typename: None, []\n",
      "            TypeDecl: None, []\n",
      "              IdentifierType: ['void']\n",
      "        TypeDecl: main, []\n",
      "          IdentifierType: ['int']\n",
      "    Compound: \n",
      "      Return: \n",
      "        Constant: int, 0\n"
     ]
    }
   ],
   "source": [
    "filename = './C files/if.c'\n",
    "ast = parse_file(filename, use_cpp=True,\n",
    "        cpp_path='gcc',\n",
    "        cpp_args=['-E', r'-Iutils/fake_libc_include'])\n",
    "print(type(ast))\n",
    "ast.show()"
   ]
  },
  {
   "cell_type": "code",
   "execution_count": 35,
   "metadata": {},
   "outputs": [],
   "source": [
    "foo = ast.ext[0]\n",
    "foo_body = foo.body"
   ]
  },
  {
   "cell_type": "code",
   "execution_count": 36,
   "metadata": {},
   "outputs": [
    {
     "name": "stdout",
     "output_type": "stream",
     "text": [
      "Compound: \n",
      "  Decl: b, [], [], []\n",
      "    TypeDecl: b, []\n",
      "      IdentifierType: ['int']\n",
      "    BinaryOp: +\n",
      "      ID: a\n",
      "      ID: d\n",
      "  Decl: w, [], [], []\n",
      "    TypeDecl: w, []\n",
      "      IdentifierType: ['int']\n",
      "    ID: d\n",
      "  If: \n",
      "    BinaryOp: <\n",
      "      ID: b\n",
      "      BinaryOp: +\n",
      "        ID: a\n",
      "        Constant: int, 10\n",
      "    Compound: \n",
      "      FuncCall: \n",
      "        ID: printf\n",
      "        ExprList: \n",
      "          Constant: string, \"hello world\"\n",
      "      If: \n",
      "        BinaryOp: <\n",
      "          ID: d\n",
      "          Constant: int, 10\n",
      "        Compound: \n",
      "          Assignment: +=\n",
      "            ID: w\n",
      "            ID: a\n",
      "        Compound: \n",
      "          FuncCall: \n",
      "            ID: printf\n",
      "            ExprList: \n",
      "              Constant: string, \"yolo\"\n",
      "      Assignment: =\n",
      "        ID: b\n",
      "        Constant: int, 6\n",
      "    If: \n",
      "      BinaryOp: >\n",
      "        ID: d\n",
      "        Constant: int, 10\n",
      "      Compound: \n",
      "        Assignment: =\n",
      "          ID: b\n",
      "          Constant: int, 92\n",
      "      Compound: \n",
      "        Assignment: =\n",
      "          ID: w\n",
      "          Constant: int, 6\n",
      "        Assignment: =\n",
      "          ID: b\n",
      "          BinaryOp: -\n",
      "            BinaryOp: +\n",
      "              ID: d\n",
      "              ID: a\n",
      "            Constant: int, 10\n",
      "  Return: \n",
      "    ID: b\n"
     ]
    }
   ],
   "source": [
    "foo_body.show()"
   ]
  },
  {
   "cell_type": "code",
   "execution_count": 37,
   "metadata": {},
   "outputs": [],
   "source": [
    "foo_body = foo.body"
   ]
  },
  {
   "cell_type": "code",
   "execution_count": 38,
   "metadata": {},
   "outputs": [
    {
     "data": {
      "text/plain": [
       "pycparser.c_ast.Decl"
      ]
     },
     "execution_count": 38,
     "metadata": {},
     "output_type": "execute_result"
    }
   ],
   "source": [
    "b_foo = foo.body.block_items[0]\n",
    "type(b_foo)"
   ]
  },
  {
   "cell_type": "code",
   "execution_count": 49,
   "metadata": {},
   "outputs": [
    {
     "data": {
      "text/plain": [
       "['int']"
      ]
     },
     "execution_count": 49,
     "metadata": {},
     "output_type": "execute_result"
    }
   ],
   "source": [
    "b_foo.type.type.names"
   ]
  },
  {
   "cell_type": "code",
   "execution_count": 8,
   "metadata": {},
   "outputs": [],
   "source": [
    "def computeParents(node, parent):\n",
    "    global parents\n",
    "    parents[node] = parent\n",
    "    for (child, value) in node.children():\n",
    "        computeParents(value, node)"
   ]
  },
  {
   "cell_type": "code",
   "execution_count": 9,
   "metadata": {},
   "outputs": [],
   "source": [
    "computeParents(ast, None)"
   ]
  },
  {
   "cell_type": "code",
   "execution_count": 10,
   "metadata": {},
   "outputs": [
    {
     "data": {
      "text/plain": [
       "Compound(block_items=[Decl(name='b',\n",
       "                           quals=[\n",
       "                                 ],\n",
       "                           storage=[\n",
       "                                   ],\n",
       "                           funcspec=[\n",
       "                                    ],\n",
       "                           type=PtrDecl(quals=[\n",
       "                                              ],\n",
       "                                        type=TypeDecl(declname='b',\n",
       "                                                      quals=[\n",
       "                                                            ],\n",
       "                                                      type=IdentifierType(names=['int'\n",
       "                                                                                ]\n",
       "                                                                          )\n",
       "                                                      )\n",
       "                                        ),\n",
       "                           init=FuncCall(name=ID(name='malloc'\n",
       "                                                 ),\n",
       "                                         args=ExprList(exprs=[UnaryOp(op='sizeof',\n",
       "                                                                      expr=Typename(name=None,\n",
       "                                                                                    quals=[\n",
       "                                                                                          ],\n",
       "                                                                                    type=TypeDecl(declname=None,\n",
       "                                                                                                  quals=[\n",
       "                                                                                                        ],\n",
       "                                                                                                  type=IdentifierType(names=['int'\n",
       "                                                                                                                            ]\n",
       "                                                                                                                      )\n",
       "                                                                                                  )\n",
       "                                                                                    )\n",
       "                                                                      )\n",
       "                                                             ]\n",
       "                                                       )\n",
       "                                         ),\n",
       "                           bitsize=None\n",
       "                           ),\n",
       "                      If(cond=BinaryOp(op='==',\n",
       "                                       left=ID(name='b'\n",
       "                                               ),\n",
       "                                       right=ID(name='a'\n",
       "                                                )\n",
       "                                       ),\n",
       "                         iftrue=Compound(block_items=[Decl(name='d',\n",
       "                                                           quals=[\n",
       "                                                                 ],\n",
       "                                                           storage=[\n",
       "                                                                   ],\n",
       "                                                           funcspec=[\n",
       "                                                                    ],\n",
       "                                                           type=TypeDecl(declname='d',\n",
       "                                                                         quals=[\n",
       "                                                                               ],\n",
       "                                                                         type=IdentifierType(names=['int'\n",
       "                                                                                                   ]\n",
       "                                                                                             )\n",
       "                                                                         ),\n",
       "                                                           init=Constant(type='int',\n",
       "                                                                         value='5'\n",
       "                                                                         ),\n",
       "                                                           bitsize=None\n",
       "                                                           ),\n",
       "                                                      Assignment(op='=',\n",
       "                                                                 lvalue=ID(name='d'\n",
       "                                                                           ),\n",
       "                                                                 rvalue=BinaryOp(op='+',\n",
       "                                                                                 left=ID(name='a'\n",
       "                                                                                         ),\n",
       "                                                                                 right=ID(name='d'\n",
       "                                                                                          )\n",
       "                                                                                 )\n",
       "                                                                 ),\n",
       "                                                      Return(expr=Constant(type='int',\n",
       "                                                                           value='11'\n",
       "                                                                           )\n",
       "                                                             )\n",
       "                                                     ]\n",
       "                                         ),\n",
       "                         iffalse=None\n",
       "                         ),\n",
       "                      Return(expr=ID(name='b'\n",
       "                                     )\n",
       "                             )\n",
       "                     ]\n",
       "         )"
      ]
     },
     "execution_count": 10,
     "metadata": {},
     "output_type": "execute_result"
    }
   ],
   "source": [
    "parents[return_foo]"
   ]
  },
  {
   "cell_type": "code",
   "execution_count": 11,
   "metadata": {},
   "outputs": [],
   "source": [
    "conditions = []\n",
    "def findConditions(node):\n",
    "    if(type(node) == c_ast.While or type(node) == c_ast.If\\\n",
    "       or type(node) == c_ast.For):\n",
    "        conditions.append(node.cond)\n",
    "    for (child, value) in node.children():\n",
    "        findConditions(value)\n",
    "findConditions(ast)"
   ]
  },
  {
   "cell_type": "code",
   "execution_count": 12,
   "metadata": {},
   "outputs": [
    {
     "name": "stdout",
     "output_type": "stream",
     "text": [
      "BinaryOp: ==\n",
      "  ID: b\n",
      "  ID: a\n"
     ]
    }
   ],
   "source": [
    "conditions[0].show()"
   ]
  },
  {
   "cell_type": "code",
   "execution_count": 13,
   "metadata": {},
   "outputs": [
    {
     "name": "stdout",
     "output_type": "stream",
     "text": [
      "./C files/if.c:4:5\n"
     ]
    }
   ],
   "source": [
    "print(return_foo.coord)"
   ]
  },
  {
   "cell_type": "code",
   "execution_count": 14,
   "metadata": {},
   "outputs": [
    {
     "data": {
      "text/plain": [
       "pycparser.c_ast.Decl"
      ]
     },
     "execution_count": 14,
     "metadata": {},
     "output_type": "execute_result"
    }
   ],
   "source": [
    "for_foo = foo.body.block_items[0]\n",
    "type(for_foo)"
   ]
  },
  {
   "cell_type": "code",
   "execution_count": 15,
   "metadata": {},
   "outputs": [
    {
     "data": {
      "text/plain": [
       "pycparser.c_ast.FuncCall"
      ]
     },
     "execution_count": 15,
     "metadata": {},
     "output_type": "execute_result"
    }
   ],
   "source": [
    "type(for_foo.init)"
   ]
  },
  {
   "cell_type": "code",
   "execution_count": null,
   "metadata": {},
   "outputs": [],
   "source": []
  }
 ],
 "metadata": {
  "kernelspec": {
   "display_name": "Python 3",
   "language": "python",
   "name": "python3"
  },
  "language_info": {
   "codemirror_mode": {
    "name": "ipython",
    "version": 3
   },
   "file_extension": ".py",
   "mimetype": "text/x-python",
   "name": "python",
   "nbconvert_exporter": "python",
   "pygments_lexer": "ipython3",
   "version": "3.7.1"
  }
 },
 "nbformat": 4,
 "nbformat_minor": 2
}
