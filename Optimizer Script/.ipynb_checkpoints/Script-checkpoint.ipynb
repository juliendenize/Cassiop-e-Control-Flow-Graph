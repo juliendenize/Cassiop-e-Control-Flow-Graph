{
 "cells": [
  {
   "cell_type": "code",
   "execution_count": 17,
   "metadata": {},
   "outputs": [],
   "source": [
    "from pycparser import parse_file, c_ast\n",
    "from numpy import inf\n",
    "from copy import copy"
   ]
  },
  {
   "cell_type": "code",
   "execution_count": 18,
   "metadata": {},
   "outputs": [],
   "source": [
    "def parse_c_file(file):\n",
    "    \"\"\"\n",
    "        Parse a c_file via pycparser\n",
    "        \n",
    "        Arguments\n",
    "        ----------\n",
    "        file: String\n",
    "            c file to parse\n",
    "    \"\"\"\n",
    "    ast = parse_file(file, use_cpp=True,\n",
    "        cpp_path='gcc',\n",
    "        cpp_args=['-E', r'-Iutils/fake_libc_include'])\n",
    "    return ast"
   ]
  },
  {
   "cell_type": "code",
   "execution_count": 19,
   "metadata": {},
   "outputs": [],
   "source": [
    "ast_graph = parse_c_file('./C files/if.c')\n",
    "foo_graph = ast_graph.ext[0]"
   ]
  },
  {
   "cell_type": "code",
   "execution_count": 20,
   "metadata": {},
   "outputs": [],
   "source": [
    "class Value():\n",
    "    \"\"\"\n",
    "        Représente une valeur de variable qui est sous la forme: String + Constante\n",
    "        \n",
    "        Attributs\n",
    "        ----------\n",
    "        constante: Int\n",
    "            Constante\n",
    "        variable: Str\n",
    "            name variable\n",
    "    \"\"\"\n",
    "    def __init__(self, constante = 0, variable = None):\n",
    "        self.variable = variable\n",
    "        self.constante = constante\n",
    "    \n",
    "    def compute(ast_node):\n",
    "        if type(ast_node) is c_ast.Constant:\n",
    "            return Value(constante = int(ast_node.value))\n",
    "        \n",
    "        elif type(ast_node) is c_ast.ID:\n",
    "            return Value(variable=ast_node.name)\n",
    "        \n",
    "        elif type(ast_node) is c_ast.BinaryOp:\n",
    "            left, right, op = ast_node.left, ast_node.right, ast_node.op \n",
    "            \n",
    "            if type(left) is c_ast.ID and type(right) is c_ast.ID:\n",
    "                raise Exception(\"Operation of two variables\")\n",
    "            elif type(left) is c_ast.Constant and type(right) is c_ast.ID:\n",
    "                return Value(variable=right.name, constante=int(left.value))\n",
    "            elif type(left) is c_ast.ID and type(right) is c_ast.Constant:\n",
    "                return Value(variable=left.name, constante=int(right.value))\n",
    "            else:\n",
    "                print(ast_node)\n",
    "                if op is \"+\":\n",
    "                    return Value(constante=(int(left.value)+int(right.value)))\n",
    "                elif op is \"-\":\n",
    "                    return Value(constante=(int(left.value)-int(right.value)))          \n",
    "        \n",
    "    def __str__(self):\n",
    "        if self.variable is None:\n",
    "            return str(self.constante)\n",
    "        return self.variable + ' + ' + str(self.constante)"
   ]
  },
  {
   "cell_type": "code",
   "execution_count": 21,
   "metadata": {},
   "outputs": [
    {
     "name": "stdout",
     "output_type": "stream",
     "text": [
      "a + -10\n"
     ]
    }
   ],
   "source": [
    "print(Value(-10, 'a'))"
   ]
  },
  {
   "cell_type": "code",
   "execution_count": 22,
   "metadata": {},
   "outputs": [],
   "source": [
    "class Variable():\n",
    "    \"\"\"\n",
    "        A variable is an interval or a singleton\n",
    "    \"\"\"\n",
    "    def __init__(self):\n",
    "        pass\n",
    "\n",
    "class Singleton(Variable):\n",
    "    \"\"\"\n",
    "        Représente un singleton\n",
    "        \n",
    "        Attributs\n",
    "        ----------\n",
    "        value: @Value\n",
    "            valeur du singleton\n",
    "    \"\"\"\n",
    "    def __init__(self, value):\n",
    "        super()\n",
    "        self.value = value\n",
    "    \n",
    "    def __str__(self):\n",
    "        return (\"{\" + str(self.value) + \"}\")\n",
    "    \n",
    "class Interval(Variable):\n",
    "    \"\"\"\n",
    "        Représente un interval\n",
    "        \n",
    "        Attributs\n",
    "        ----------\n",
    "        min: @Value\n",
    "            Minimum de l'intervalle\n",
    "        max: @Value \n",
    "            Maximum de l'intervalle\n",
    "    \"\"\"\n",
    "    def __init__(self, minimum, maximum):\n",
    "        self.min = minimum\n",
    "        self.max = maximum\n",
    "    \n",
    "    def __str__(self):\n",
    "        return (\"[\" + str(self.min) + \",\" + str(self.max) + \"]\")"
   ]
  },
  {
   "cell_type": "code",
   "execution_count": 23,
   "metadata": {},
   "outputs": [
    {
     "name": "stdout",
     "output_type": "stream",
     "text": [
      "[-inf,inf] {0}\n"
     ]
    }
   ],
   "source": [
    "a = Interval(Value(constante=-inf), Value(constante=inf))\n",
    "b = Singleton(Value(constante=0))\n",
    "\n",
    "print(a, b)"
   ]
  },
  {
   "cell_type": "code",
   "execution_count": 24,
   "metadata": {},
   "outputs": [],
   "source": [
    "class Condition:\n",
    "    \"\"\"\n",
    "        Represents a condition\n",
    "        \n",
    "        Arguments\n",
    "        ----------\n",
    "        coord: String\n",
    "            lines of the condition\n",
    "        left: @Variable\n",
    "            left operand\n",
    "        operator: String\n",
    "            operator\n",
    "        right: @Variable\n",
    "            right operand\n",
    "    \"\"\"\n",
    "    def __init__(self, condition = None, condition_boolean = True):\n",
    "        self.condition = condition\n",
    "        (self.left, self.operator, self.right) = self.handleCondition()\n",
    "    \n",
    "    def handleCondition(self):\n",
    "        left_operand = Singleton(Value.compute(self.condition.left))\n",
    "        right_operand = Singleton(Value.compute(self.condition.right))\n",
    "        operator = self.condition.op\n",
    "        \n",
    "        if operator == \">\":\n",
    "            return (right_operand, \"<\", left_operand)\n",
    "        elif operator == \">=\":\n",
    "            return (right_operand, \"<=\", left_operand)\n",
    "        elif operator == \"%\":\n",
    "            raise Exception(\"Modulo is not defined\")\n",
    "        else:\n",
    "            return (left_operand, operator, right_operand)\n",
    "    \n",
    "    def reverse(condition):\n",
    "        reversed_condition = copy(condition)\n",
    "        reversed_condition.condition_boolean = !condition.condition_boolean\n",
    "        if condition.operator == \"<\":\n",
    "            reversed_condition.left, reversed_condition.operator, reversed_condition.right = \\\n",
    "                condition.right, \"<=\", condition.left\n",
    "        elif condition.operator == \"<=\":\n",
    "            reversed_condition.left, reversed_condition.operator, reversed_condition.right = \\\n",
    "                condition.right, \"<\", condition.left\n",
    "        elif condition.operator == \"==\":\n",
    "            reversed_condition.operator = \"!=\"\n",
    "        elif condition.operator == \"!=\":\n",
    "            reversed_condition.operator = \"==\"\n",
    "        else:\n",
    "            raise Exception(\"Wrong operator for conditions: \" + condition.operator)\n",
    "        return reversed_condition\n",
    "    \n",
    "    def __str__(self):\n",
    "        return str(self.left) + \" \" + self.operator + \" \" + str(self.right)"
   ]
  },
  {
   "cell_type": "code",
   "execution_count": 25,
   "metadata": {},
   "outputs": [
    {
     "name": "stdout",
     "output_type": "stream",
     "text": [
      "{a + 4} != {a + 4}\n"
     ]
    }
   ],
   "source": [
    "if_condition = foo_graph.body.block_items[3].cond\n",
    "condition = Condition(if_condition)\n",
    "print(condition)"
   ]
  },
  {
   "cell_type": "code",
   "execution_count": 26,
   "metadata": {},
   "outputs": [],
   "source": [
    "class Context:\n",
    "    \"\"\"\n",
    "        Context of execution of the program\n",
    "        \n",
    "        Arguments\n",
    "        ----------\n",
    "        conditions: list[@Condition]\n",
    "            conditions evaluated by the context\n",
    "        variables: list[@Variable]\n",
    "            variables in the context\n",
    "        next_nodes: list[@c_ast.Node]\n",
    "            next nodes to visit\n",
    "        state: boolean\n",
    "            true if the context executes, false if it fails\n",
    "    \"\"\"\n",
    "    def __init__(self, condition = None, next_nodes = [], previous_context = None):\n",
    "        if previous_context is not None:\n",
    "            self.conditions = previous_context.conditions + [condition]\n",
    "            self.variables = previous_context.variables\n",
    "            self.next_nodes = previous_context.next_nodes + next_nodes\n",
    "            self.checkCondition(condition)\n",
    "            \n",
    "        else:\n",
    "            self.conditions = []\n",
    "            self.variables = {}\n",
    "            self.next_nodes = next_nodes\n",
    "    \n",
    "    def addParam(self, param):\n",
    "        name = param.name\n",
    "        types = param.type.type.names\n",
    "        if 'int' not in types:\n",
    "            raise Exception('Only int type allowed')\n",
    "        if 'unsigned' in types:\n",
    "            self.variables[name] = Interval(Value(constante = 0), Value(constante = inf))\n",
    "        else:\n",
    "            self.variables[name] = Interval(Value(constante = -inf), Value(constante = inf))\n",
    "    \n",
    "    def addVariable(self, node_decl):\n",
    "        name = node_decl.name\n",
    "        types = node_decl.type.type.names\n",
    "        if 'int' not in types:\n",
    "            raise Exception('Only int type allowed')\n",
    "        if node_decl.init is not None:\n",
    "            variable = Singleton(Value.compute(node_decl.init))\n",
    "        else:\n",
    "            variable = Singleton(Value(constante=0))\n",
    "        self.variables[name] = variable\n",
    "    \n",
    "    def assign(self, node_assign):\n",
    "        name = node_assign.lvalue.name\n",
    "        variable = Singleton(Value.compute(node_assign.rvalue))\n",
    "        self.variables[name] = variable\n",
    "    \n",
    "    def pop(self):\n",
    "        if self.next_nodes != []:\n",
    "            return self.next_nodes.pop(0)\n",
    "        return None\n",
    "        \n",
    "    def checkCondition(self, condition):\n",
    "        \"\"\"\n",
    "        Si self.state = True condition possible\n",
    "        Si self.state = False condition impossible donc le branchement est inutile\n",
    "        \"\"\"\n",
    "        self.state = True\n",
    "        if condition.left.value.variable is None and condition.right.value.variable is None:\n",
    "            self.state = Operation.compareConstante(condition.left.value.constante,\\\n",
    "                                                    condition.right.value.constante,\\\n",
    "                                                    condition.operator)\n",
    "        elif condition.left.value.variable is not None and\\\n",
    "             condition.right.value.variable is not None:\n",
    "            if condition.left.value.variable == condition.left.value.variable:\n",
    "                 self.state = Operation.compareConstante(condition.left.value.constante,\\\n",
    "                                                    condition.right.value.constante,\\\n",
    "                                                    condition.operator)\n",
    "            else:\n",
    "                pass\n",
    "                    \n",
    "        # simplification des deux listes représentant les variables\n",
    "        # propagation des singletons grâce à leur valeur trouvée dans la bibliothèque\n",
    "        # si il y a encore des variables entièrement non définies de chaque côté -> \n",
    "        # deux contexte et pas d'update\n",
    "        # si non définie d'un seul côté -> on a les deux contextes et update de la valeur \n",
    "        # de la variable\n",
    "        # sinon -> un seul contexte et pas d'update\n",
    "        return\n",
    "    \n",
    "    def __str__(self):\n",
    "        return \"Context: [conditions: \" + \\\n",
    "               \", \".join(str(condition) for condition in self.conditions) + \\\n",
    "               \"]; [variables: \" + \", \".join(variable + \":\" + str(self.variables[variable]) \\\n",
    "                                          for variable in self.variables) + \"]\""
   ]
  },
  {
   "cell_type": "code",
   "execution_count": 27,
   "metadata": {},
   "outputs": [],
   "source": [
    "class Operation():\n",
    "    \n",
    "    def compareConstante(left, right, operator):\n",
    "        if operator == \"<\" and left >= right:\n",
    "            return False\n",
    "        elif operator == \"<=\" and left > right:\n",
    "            return False\n",
    "        elif operator == \"==\" and left != right:\n",
    "            return False\n",
    "        elif operator == \"!=\" and left == right:\n",
    "            return False\n",
    "        return True\n",
    "    \n",
    "    def computeVariable(variable):\n",
    "        pass"
   ]
  },
  {
   "cell_type": "code",
   "execution_count": 28,
   "metadata": {},
   "outputs": [],
   "source": [
    "def isIf(node):\n",
    "    return type(node) == c_ast.If\n",
    "\n",
    "def isDeclaration(node):\n",
    "    return type(node) == c_ast.Decl\n",
    "\n",
    "def isAssignment(node):\n",
    "    return type(node) == c_ast.Assignment\n",
    "\n",
    "def getCoord(node):\n",
    "    return node.coord"
   ]
  },
  {
   "cell_type": "code",
   "execution_count": 29,
   "metadata": {},
   "outputs": [],
   "source": [
    "def visitParamsFunction(context, params):\n",
    "    for param in params:\n",
    "        context.addParam(param)"
   ]
  },
  {
   "cell_type": "code",
   "execution_count": 30,
   "metadata": {},
   "outputs": [],
   "source": [
    "def visitNode(context):\n",
    "    node = context.pop()\n",
    "    if node is not None:\n",
    "        if isIf(node):\n",
    "            condition = Condition(node.cond)\n",
    "            context1 = Context(condition = condition, next_nodes = [node.iftrue],\\\n",
    "                               previous_context = context)\n",
    "            context2 = Context(condition = Condition.reverse(condition),\\\n",
    "                               next_nodes = [node.iffalse], previous_context = context)\n",
    "            if context1.state and context2.state:\n",
    "                return visitNode(context1) + visitNode(context2)\n",
    "            elif context1.state and not context2.state:\n",
    "                return visitNode(context1) + [context2]\n",
    "            elif not context1.state and context2.state:\n",
    "                return visitNode(context2) + [context1]\n",
    "            else:\n",
    "                return [context1, context2]\n",
    "        elif isDeclaration(node):\n",
    "            context.addVariable(node)\n",
    "        elif isAssignment(node):\n",
    "            context.assign(node)\n",
    "        else:\n",
    "            for (string, child) in node.children():\n",
    "                context.next_nodes.append(child)\n",
    "        return visitNode(context)\n",
    "    return []"
   ]
  },
  {
   "cell_type": "code",
   "execution_count": 31,
   "metadata": {},
   "outputs": [],
   "source": [
    "def visitFunction(function):\n",
    "    context = Context(next_nodes = [function.body])\n",
    "    visitParamsFunction(context, function.decl.type.args.params)\n",
    "    return visitNode(context)"
   ]
  },
  {
   "cell_type": "code",
   "execution_count": 32,
   "metadata": {},
   "outputs": [
    {
     "name": "stdout",
     "output_type": "stream",
     "text": [
      "La condition: {a + 4} != {a + 4} n'est pas possible à la ligne ./C files/if.c:18:9\n"
     ]
    }
   ],
   "source": [
    "contexts = visitFunction(foo_graph)\n",
    "\n",
    "for context in contexts:\n",
    "    print(\"La condition: \" + str(context.conditions[-1]) + \" n'est pas possible à la ligne \" +\\\n",
    "          str(context.conditions[-1].condition.coord))"
   ]
  }
 ],
 "metadata": {
  "kernelspec": {
   "display_name": "Python 3",
   "language": "python",
   "name": "python3"
  },
  "language_info": {
   "codemirror_mode": {
    "name": "ipython",
    "version": 3
   },
   "file_extension": ".py",
   "mimetype": "text/x-python",
   "name": "python",
   "nbconvert_exporter": "python",
   "pygments_lexer": "ipython3",
   "version": "3.7.3"
  }
 },
 "nbformat": 4,
 "nbformat_minor": 2
}
