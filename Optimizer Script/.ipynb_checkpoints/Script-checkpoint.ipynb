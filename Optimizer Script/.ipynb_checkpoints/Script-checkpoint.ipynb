{
 "cells": [
  {
   "cell_type": "code",
   "execution_count": 1,
   "metadata": {},
   "outputs": [],
   "source": [
    "from pycparser import parse_file, c_ast\n",
    "\n",
    "global parents, variables\n",
    "parents={}"
   ]
  },
  {
   "cell_type": "code",
   "execution_count": null,
   "metadata": {},
   "outputs": [],
   "source": [
    "class Condition:\n",
    "    def __init__(self, condition):\n",
    "        (self.left_operand, self.operator, self.right_operand) = self.handle_condition(condition)\n",
    "    \n",
    "    def handle_condition(self, condition):\n",
    "        left_operand = condition.left\n",
    "        right_operand = condition.right\n",
    "        operator = condition.op\n",
    "        \n",
    "        if operator == \">\":\n",
    "            return (right_operand, \"<\", left_operand)\n",
    "        elif operator == \">=\":\n",
    "            return (right_operand, \"<=\", left_operand)\n",
    "        else:\n",
    "            return (left_operand, operator, right_operand)\n",
    "\n",
    "class Context:  \n",
    "    def __init__(self, previous_context = None, condition, next_node):\n",
    "        if previous_context is not None:\n",
    "            self.conditions = previous_context.conditions.append(condition, True)\n",
    "            self.variables = previous_context.variables\n",
    "            self.nexts = previous_context.nexts.append(next_node)\n",
    "        else:\n",
    "            self.conditions = [(condition, True)] # True si la condition a été vérifié, false sinon: permet de ne pas avoir de false positives\n",
    "            self.variables = {}\n",
    "            self.nexts = [next_node]\n",
    "        self.next_contexts = []\n",
    "    \n",
    "    def handle_variable(self, variable, value):\n",
    "        self.variables[variable] = value"
   ]
  },
  {
   "cell_type": "code",
   "execution_count": 2,
   "metadata": {},
   "outputs": [],
   "source": [
    "def parse_c_file(file):\n",
    "    ast = parse_file(file, use_cpp=True,\n",
    "        cpp_path='gcc',\n",
    "        cpp_args=['-E', r'-Iutils/fake_libc_include'])\n",
    "    return ast"
   ]
  },
  {
   "cell_type": "code",
   "execution_count": 3,
   "metadata": {},
   "outputs": [],
   "source": [
    "ast_graph = parse_c_file('./C files/if.c')"
   ]
  },
  {
   "cell_type": "code",
   "execution_count": 4,
   "metadata": {},
   "outputs": [],
   "source": [
    "def computeParents(node, parent):\n",
    "    global parents\n",
    "    parents[node] = parent\n",
    "    for (child, value) in node.children():\n",
    "        computeParents(value, node) "
   ]
  },
  {
   "cell_type": "code",
   "execution_count": 5,
   "metadata": {},
   "outputs": [],
   "source": [
    "computeParents(ast_graph, None)"
   ]
  },
  {
   "cell_type": "code",
   "execution_count": 6,
   "metadata": {},
   "outputs": [],
   "source": [
    "def findConditions(node):\n",
    "    conditions = []\n",
    "    if(type(node) == c_ast.While or type(node) == c_ast.If\\\n",
    "       or type(node) == c_ast.For):\n",
    "        conditions.append(node.cond)\n",
    "    for (child, value) in node.children():\n",
    "        conditions += findConditions(value)\n",
    "    return conditions"
   ]
  },
  {
   "cell_type": "code",
   "execution_count": 7,
   "metadata": {},
   "outputs": [],
   "source": [
    "conditions = findConditions(ast_graph)"
   ]
  },
  {
   "cell_type": "code",
   "execution_count": 8,
   "metadata": {},
   "outputs": [],
   "source": [
    "def getCoord(node):\n",
    "    return node.coord"
   ]
  },
  {
   "cell_type": "code",
   "execution_count": 9,
   "metadata": {},
   "outputs": [],
   "source": [
    "def findVariableDeclarations(node):\n",
    "    declarations = []\n",
    "    if(type(node) == c_ast.Decl):\n",
    "        declarations.append(node)\n",
    "    for (child, value) in node.children():\n",
    "        declarations += findVariableDeclarations(value)\n",
    "    return declarations"
   ]
  },
  {
   "cell_type": "code",
   "execution_count": 10,
   "metadata": {},
   "outputs": [],
   "source": [
    "variableDeclarations = findVariableDeclarations(ast_graph)"
   ]
  },
  {
   "cell_type": "code",
   "execution_count": 17,
   "metadata": {},
   "outputs": [],
   "source": [
    "def findAssignments(node):\n",
    "    assignments = []\n",
    "    if(type(node) == c_ast.Assignment):\n",
    "        assignments.append(node)\n",
    "    for (child, value) in node.children():\n",
    "        assignments += findAssignments(value)\n",
    "    return assignments"
   ]
  },
  {
   "cell_type": "code",
   "execution_count": 18,
   "metadata": {},
   "outputs": [],
   "source": [
    "assignments = findAssignments(ast_graph)"
   ]
  },
  {
   "cell_type": "code",
   "execution_count": null,
   "metadata": {},
   "outputs": [],
   "source": [
    "def visit_graph(graph, context = Context()):\n",
    "    "
   ]
  },
  {
   "cell_type": "code",
   "execution_count": null,
   "metadata": {},
   "outputs": [],
   "source": []
  }
 ],
 "metadata": {
  "kernelspec": {
   "display_name": "Python 3",
   "language": "python",
   "name": "python3"
  },
  "language_info": {
   "codemirror_mode": {
    "name": "ipython",
    "version": 3
   },
   "file_extension": ".py",
   "mimetype": "text/x-python",
   "name": "python",
   "nbconvert_exporter": "python",
   "pygments_lexer": "ipython3",
   "version": "3.7.1"
  }
 },
 "nbformat": 4,
 "nbformat_minor": 2
}
