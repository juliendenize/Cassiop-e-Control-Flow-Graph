{
 "cells": [
  {
   "cell_type": "code",
   "execution_count": 48,
   "metadata": {},
   "outputs": [],
   "source": [
    "from pycparser import parse_file, c_ast\n",
    "\n",
    "global parents, variables\n",
    "parents={}"
   ]
  },
  {
   "cell_type": "code",
   "execution_count": 49,
   "metadata": {},
   "outputs": [],
   "source": [
    "def parse_c_file(file):\n",
    "    ast = parse_file(file, use_cpp=True,\n",
    "        cpp_path='gcc',\n",
    "        cpp_args=['-E', r'-Iutils/fake_libc_include'])\n",
    "    return ast"
   ]
  },
  {
   "cell_type": "code",
   "execution_count": 50,
   "metadata": {},
   "outputs": [],
   "source": [
    "ast_graph = parse_c_file('./C files/if.c')"
   ]
  },
  {
   "cell_type": "code",
   "execution_count": 51,
   "metadata": {},
   "outputs": [],
   "source": [
    "def computeParents(node, parent):\n",
    "    global parents\n",
    "    parents[node] = parent\n",
    "    for (child, value) in node.children():\n",
    "        computeParents(value, node) "
   ]
  },
  {
   "cell_type": "code",
   "execution_count": 52,
   "metadata": {},
   "outputs": [],
   "source": [
    "computeParents(ast_graph, None)"
   ]
  },
  {
   "cell_type": "code",
   "execution_count": 53,
   "metadata": {},
   "outputs": [],
   "source": [
    "def findConditions(node):\n",
    "    conditions = []\n",
    "    if(type(node) == c_ast.While or type(node) == c_ast.If\\\n",
    "       or type(node) == c_ast.For):\n",
    "        conditions.append(node.cond)\n",
    "    for (child, value) in node.children():\n",
    "        conditions += findConditions(value)\n",
    "    return conditions"
   ]
  },
  {
   "cell_type": "code",
   "execution_count": 54,
   "metadata": {},
   "outputs": [],
   "source": [
    "conditions = findConditions(ast_graph)"
   ]
  },
  {
   "cell_type": "code",
   "execution_count": 55,
   "metadata": {},
   "outputs": [],
   "source": [
    "def getCoord(node):\n",
    "    return node.coord"
   ]
  },
  {
   "cell_type": "code",
   "execution_count": 56,
   "metadata": {},
   "outputs": [],
   "source": [
    "def findVariableDeclarations(node):\n",
    "    declarations = []\n",
    "    if(type(node) == c_ast.Decl):\n",
    "        declarations.append(node)\n",
    "    for (child, value) in node.children():\n",
    "        declarations += findVariableDeclarations(value)\n",
    "    return declarations"
   ]
  },
  {
   "cell_type": "code",
   "execution_count": 57,
   "metadata": {},
   "outputs": [],
   "source": [
    "variableDeclarations = findVariableDeclarations(ast_graph)"
   ]
  },
  {
   "cell_type": "code",
   "execution_count": 58,
   "metadata": {},
   "outputs": [],
   "source": [
    "def findAssignments(node):\n",
    "    assignments = []\n",
    "    print(node)\n",
    "    if(type(node) == c_ast.Assignment):\n",
    "        assignments.append(node)\n",
    "    for (child, value) in node.children():\n",
    "        assignments += findAssignements(value)\n",
    "    return assignments"
   ]
  },
  {
   "cell_type": "code",
   "execution_count": 59,
   "metadata": {},
   "outputs": [
    {
     "name": "stdout",
     "output_type": "stream",
     "text": [
      "<pycparser.c_ast.FileAST object at 0x7ff994135bc8>\n"
     ]
    }
   ],
   "source": [
    "assignments = findAssignments(ast_graph)"
   ]
  },
  {
   "cell_type": "code",
   "execution_count": 62,
   "metadata": {},
   "outputs": [
    {
     "name": "stdout",
     "output_type": "stream",
     "text": [
      "Assignment: =\n",
      "  ID: d\n",
      "  BinaryOp: +\n",
      "    ID: a\n",
      "    ID: b\n"
     ]
    }
   ],
   "source": []
  },
  {
   "cell_type": "code",
   "execution_count": null,
   "metadata": {},
   "outputs": [],
   "source": []
  }
 ],
 "metadata": {
  "kernelspec": {
   "display_name": "Python 3",
   "language": "python",
   "name": "python3"
  },
  "language_info": {
   "codemirror_mode": {
    "name": "ipython",
    "version": 3
   },
   "file_extension": ".py",
   "mimetype": "text/x-python",
   "name": "python",
   "nbconvert_exporter": "python",
   "pygments_lexer": "ipython3",
   "version": "3.7.2"
  }
 },
 "nbformat": 4,
 "nbformat_minor": 2
}
