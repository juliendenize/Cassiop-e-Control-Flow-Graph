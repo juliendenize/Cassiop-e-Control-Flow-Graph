{
 "cells": [
  {
   "cell_type": "code",
   "execution_count": null,
   "metadata": {},
   "outputs": [],
   "source": [
    "from pycparser import parse_file, c_ast\n",
    "from numpy import inf\n",
    "\n",
    "global parents, variables\n",
    "parents={}"
   ]
  },
  {
   "cell_type": "code",
   "execution_count": null,
   "metadata": {},
   "outputs": [],
   "source": [
    "class Condition:\n",
    "    def __init__(self, condition):\n",
    "        self.condition = condition\n",
    "        (self.left_operand, self.operator, self.right_operand) = self.handleCondition()\n",
    "    \n",
    "    def handleCondition(self):\n",
    "        left_operand = self.condition.left\n",
    "        right_operand = self.condition.right\n",
    "        operator = self.condition.op\n",
    "        \n",
    "        if operator == \">\":\n",
    "            return (right_operand, \"<\", left_operand)\n",
    "        elif operator == \">=\":\n",
    "            return (right_operand, \"<=\", left_operand)\n",
    "        else:\n",
    "            return (left_operand, operator, right_operand)"
   ]
  },
  {
   "cell_type": "code",
   "execution_count": null,
   "metadata": {},
   "outputs": [],
   "source": [
    "class Context:  \n",
    "    def __init__(self, condition = None, bool_condition = True, next_nodes = [],\\\n",
    "                 previous_context = None):\n",
    "        if previous_context is not None:\n",
    "            self.conditions = previous_context.conditions.append((condition, bool_condition))\n",
    "            self.variables = previous_context.variables\n",
    "            self.nexts = previous_context.nexts + next_nodes\n",
    "            self.checkCondition()\n",
    "        else:\n",
    "            self.conditions = [(condition, bool_condition)]\n",
    "            self.variables = {}\n",
    "            self.nexts = next_nodes\n",
    "    \n",
    "    def addParam(self, param):\n",
    "        name = param.name\n",
    "        types = param.type.type.names\n",
    "        if 'int' not in types:\n",
    "            raise 'Only int type allowed'\n",
    "        #if 'unsigned' in types:\n",
    "        if 'unsigned' in types:\n",
    "            self.variables[name] = Variable(name,\\\n",
    "                                    [Interval(Value(constante = 0), Value(constante = inf))])\n",
    "        else:\n",
    "            self.variables[name] = Variable(name,\\\n",
    "                                    [Interval(Value(constante = -inf), Value(constante = inf))])\n",
    "    def addVariable(self, node_decl):\n",
    "        name = node_decl.name\n",
    "        types = node_decl.type.type.names\n",
    "        if 'int' not in types:\n",
    "            raise 'Only int type allowed'\n",
    "        if node_decl.init is not None:\n",
    "            if type(node_decl.init) is c_ast.Constant:\n",
    "                singleton = Singleton(Value(constante = int(node_decl.init.value)))\n",
    "                variable = Variable(name,singletons=[singleton])\n",
    "            elif type(node_decl.init) is c_ast.ID:\n",
    "                singleton = Singleton(Value(variables=[node_decl.init.name]))\n",
    "                variable = Variable(name, singletons=[singleton])\n",
    "            elif type(node_decl.init) is c_ast.BinaryOp:\n",
    "                left, right, op = node_decl.init.left, node_decl.init.right, node_decl.init.op \n",
    "                if type(left) is c_ast.ID and type(right) is c_ast.ID:\n",
    "                    variable = Operation(self.variables[left.name], op,\\\n",
    "                                          self.variables[right.name]).compute()\n",
    "                    variable.name = name\n",
    "                elif type(left) is c_ast.Constant and type(right) is c_ast.ID:\n",
    "                    singleton = Singleton(Value(int(left.value)))\n",
    "                    variable = Operation(Variable(singletons=[singleton]),\\\n",
    "                                         op, self.variables[right.name]).compute()\n",
    "                    variable.name = name\n",
    "                elif type(left) is c_ast.ID and type(right) is c_ast.Constant:\n",
    "                    singleton = Singleton(Value(int(right.value)))\n",
    "                    print(singleton)\n",
    "                    print(Variable(singletons=[singleton]))\n",
    "                    variable = Operation(self.variables[left.name], op,\\\n",
    "                                         Variable(singletons=[singleton])).compute()\n",
    "                    variable.name = name\n",
    "                else:\n",
    "                    if op is \"+\":\n",
    "                        singleton = [Singleton(Value(constante=\\\n",
    "                                                     (int(left.value) + int(right.value))))]\n",
    "                        variable = Variable(name = name,\\\n",
    "                                            singletons=[singleton])\n",
    "                    elif op is \"-\":\n",
    "                        singleton = [Singleton(Value(constante=\\\n",
    "                                                  (int(left.value) - int(right.value))))]\n",
    "                        variable = Variable(name = name,\\\n",
    "                                            singletons=[singleton])\n",
    "        else:\n",
    "            variable = Variable(name=name)\n",
    "        self.variables[name] = variable\n",
    "\n",
    "    def pop(self):\n",
    "        if self.nexts != []:\n",
    "            return self.nexts.pop(0)\n",
    "        return None\n",
    "        \n",
    "    def checkCondition(self):\n",
    "        \"\"\"\n",
    "        Si self.state = True condition possible\n",
    "        Si self.state = False condition impossible donc le branchement est inutile\n",
    "        \"\"\"\n",
    "        \n",
    "        # simplification des deux listes représentant les variables\n",
    "        # propagation des singletons grâce à leur valeur trouvée dans la bibliothèque\n",
    "        # si il y a encore des variables entièrement non définies de chaque côté -> \n",
    "        # deux contexte et pas d'update\n",
    "        # si non définie d'un seul côté -> on a les deux contextes et update de la valeur \n",
    "        # de la variable\n",
    "        # sinon -> un seul contexte et pas d'update\n",
    "        self.state = True\n",
    "        return"
   ]
  },
  {
   "cell_type": "code",
   "execution_count": null,
   "metadata": {},
   "outputs": [],
   "source": [
    "class Singleton():\n",
    "    \"\"\"\n",
    "        Représente un singleton\n",
    "        \n",
    "        Attributs\n",
    "        ----------\n",
    "        value: @Value\n",
    "            valeur du singleton\n",
    "    \"\"\"\n",
    "    def __init__(self, value):\n",
    "        self.value = value\n",
    "    \n",
    "    def __str__(self):\n",
    "        return \"{\" + str(self.value) + \"}\""
   ]
  },
  {
   "cell_type": "code",
   "execution_count": null,
   "metadata": {},
   "outputs": [],
   "source": [
    "class Interval():\n",
    "    \"\"\"\n",
    "        Représente un interval\n",
    "        \n",
    "        Attributs\n",
    "        ----------\n",
    "        min: @Value\n",
    "            Minimum de l'intervalle\n",
    "        max: @Value \n",
    "            Maximum de l'intervalle\n",
    "    \"\"\"\n",
    "    def __init__(self, minimum, maximum):\n",
    "        self.min = minimum\n",
    "        self.max = maximum\n",
    "    \n",
    "    def __str__(self):\n",
    "        return \"[\" + str(self.min) + \",\" + str(self.max) + \"]\""
   ]
  },
  {
   "cell_type": "code",
   "execution_count": null,
   "metadata": {},
   "outputs": [],
   "source": [
    "class Variable():\n",
    "    \"\"\"\n",
    "        Représente une variable\n",
    "        \n",
    "        Attributs\n",
    "        ----------\n",
    "        name: String \n",
    "            Nom de la varialbe\n",
    "        intervals: list[@Interval] \n",
    "            Ensemble d'intervalles pour la variable\n",
    "        singletons: list[@Singletons] \n",
    "            Ensemble de singletons pour la variable\n",
    "    \"\"\"\n",
    "    def __init__(self, name = \"\", intervals = [], singletons = []):\n",
    "        self.name = name\n",
    "        self.intervals = intervals\n",
    "        self.singletons = singletons\n",
    "    \n",
    "    def __str__(self):\n",
    "        return self.name + \" : \" + ''.join((str(interval) + ' ') for interval in self.intervals)\\\n",
    "               + ''.join(str(singleton) + ' ' for singleton in self.singletons)"
   ]
  },
  {
   "cell_type": "code",
   "execution_count": null,
   "metadata": {},
   "outputs": [],
   "source": [
    "class Value():\n",
    "    \"\"\"\n",
    "        Représente une valeur de variable qui est sous la forme: @Variable + Constante\n",
    "        \n",
    "        Attributs\n",
    "        ----------\n",
    "        constante: Int\n",
    "            Constante\n",
    "        variables: list[@Variable, String]\n",
    "            Variables et opérateurs\n",
    "    \"\"\"\n",
    "    def __init__(self, constante = 0, variable = None):\n",
    "        self.variable = variable\n",
    "        self.constante = constante\n",
    "    \n",
    "    def __str__(self):\n",
    "        if self.variable is None:\n",
    "            return str(self.constante)\n",
    "        return self.variable.name + ' + ' + str(self.constante)"
   ]
  },
  {
   "cell_type": "code",
   "execution_count": null,
   "metadata": {},
   "outputs": [],
   "source": [
    "class Operation():\n",
    "    def __init__(self, left, operator, right):\n",
    "        self.left = left\n",
    "        self.operator = operator\n",
    "        self.right = right\n",
    "    \n",
    "    def computeValue(self, left, operator, right):\n",
    "        value_computed = Value()\n",
    "        \n",
    "        if left.variable is None:\n",
    "            value_computed.variable = right.variable\n",
    "        else:\n",
    "            if right.variable is not None:\n",
    "                raise \"Addition de deux valeurs dépendantes de deux variables\"\n",
    "            value_computed.variable = left.variable\n",
    "        \n",
    "        if(operator == \"+\"):\n",
    "            value_computed.constante = left.constante + right.constante\n",
    "        elif(operator == \"-\"):\n",
    "            value_computed.constante = left.constante - right.constante   \n",
    "        \n",
    "        return value_computed\n",
    "        \n",
    "    def compute(self):\n",
    "        print(\"hey\")\n",
    "        variable_computed = Variable()\n",
    "        for left in self.left.intervals:\n",
    "            for right in self.right.intervals:\n",
    "                variable_computed.intervals.append(\\\n",
    "                    Interval(self.computeValue(left.min, self.operator, right.min),\\\n",
    "                             self.computeValue(left.max, self.operator, right.max)))\n",
    "            for right in self.right.singletons:\n",
    "                variable_computed.intervals.append(\\\n",
    "                    Interval(self.computeValue(left.min, self.operator, right.value),\\\n",
    "                             self.computeValue(left.max, self.operator, right.value)))\n",
    "        for left in self.left.singletons:\n",
    "            for right in right.intervals:\n",
    "                variable_computed.intervals.append(\\\n",
    "                    Interval(self.computeValue(left.value, self.operator, right.min),\\\n",
    "                             self.computeValue(left.value, self.operator, right.max)))\n",
    "            for right in self.right.singletons:\n",
    "                variable_computed.singletons.append(\\\n",
    "                    Singleton(self.computeValue(left.value, self.operator, right.value)))\n",
    "        return variable_computed"
   ]
  },
  {
   "cell_type": "code",
   "execution_count": null,
   "metadata": {},
   "outputs": [],
   "source": [
    "def parse_c_file(file):\n",
    "    ast = parse_file(file, use_cpp=True,\n",
    "        cpp_path='gcc',\n",
    "        cpp_args=['-E', r'-Iutils/fake_libc_include'])\n",
    "    return ast"
   ]
  },
  {
   "cell_type": "code",
   "execution_count": null,
   "metadata": {},
   "outputs": [],
   "source": [
    "def computeParents(node, parent):\n",
    "    global parents\n",
    "    parents[node] = parent\n",
    "    for (child, value) in node.children():\n",
    "        computeParents(value, node) "
   ]
  },
  {
   "cell_type": "code",
   "execution_count": null,
   "metadata": {},
   "outputs": [],
   "source": [
    "#computeParents(ast_graph, None)"
   ]
  },
  {
   "cell_type": "code",
   "execution_count": null,
   "metadata": {},
   "outputs": [],
   "source": [
    "def isIf(node):\n",
    "    return type(node) == c_ast.If"
   ]
  },
  {
   "cell_type": "code",
   "execution_count": null,
   "metadata": {},
   "outputs": [],
   "source": [
    "def getCoord(node):\n",
    "    return node.coord"
   ]
  },
  {
   "cell_type": "code",
   "execution_count": null,
   "metadata": {},
   "outputs": [],
   "source": [
    "def isDeclaration(node):\n",
    "    return type(node) == c_ast.Decl"
   ]
  },
  {
   "cell_type": "code",
   "execution_count": null,
   "metadata": {},
   "outputs": [],
   "source": [
    "def isAssignment(node):\n",
    "    return type(node) == c_ast.Assignment"
   ]
  },
  {
   "cell_type": "code",
   "execution_count": null,
   "metadata": {},
   "outputs": [],
   "source": [
    "def visitParamsFunction(context, params):\n",
    "    for param in params:\n",
    "        context.addParam(param)"
   ]
  },
  {
   "cell_type": "code",
   "execution_count": 17,
   "metadata": {},
   "outputs": [],
   "source": [
    "def visitNode(context):\n",
    "    node = context.pop()\n",
    "    if node is not None:\n",
    "        if isIf(node):\n",
    "            condition = Condition(node.cond)\n",
    "            context1 = Context(condition = condition, bool_condition = True,\\\n",
    "                               next_nodes = [node.iftrue], previous_context = context)\n",
    "            context2 = Context(condition = condition, bool_condition = False,\\\n",
    "                               next_nodes = [node.iffalse], previous_context = context)\n",
    "            if context1.state and context2.state:\n",
    "                return visitNode(context1) + visitNode(context2)\n",
    "            elif context1.state and not context2.state:\n",
    "                return visitNode(context1) + [context2]\n",
    "            elif not context1.state and context2.state:\n",
    "                return visitNode(context2) + [context1]\n",
    "            else:\n",
    "                return [context1, context2]\n",
    "        elif isDeclaration(node):\n",
    "            context.addVariable(node)\n",
    "        elif isAssignment(node):\n",
    "            context.assign(node)\n",
    "        else:\n",
    "            for (string, child) in node.children():\n",
    "                context.nexts.append(child)\n",
    "        return visitNode(context)\n",
    "    return []"
   ]
  },
  {
   "cell_type": "code",
   "execution_count": 18,
   "metadata": {},
   "outputs": [],
   "source": [
    "def visitFunction(function):\n",
    "    context = Context(next_nodes = [function.body])\n",
    "    visitParamsFunction(context, function.decl.type.args.params)\n",
    "    return visitNode(context)"
   ]
  },
  {
   "cell_type": "code",
   "execution_count": 19,
   "metadata": {},
   "outputs": [
    {
     "name": "stdout",
     "output_type": "stream",
     "text": [
      "hey\n",
      "{10}\n",
      " : [-inf,inf] {10} \n",
      "hey\n"
     ]
    },
    {
     "ename": "KeyboardInterrupt",
     "evalue": "",
     "output_type": "error",
     "traceback": [
      "\u001b[0;31m---------------------------------------------------------------------------\u001b[0m",
      "\u001b[0;31mKeyboardInterrupt\u001b[0m                         Traceback (most recent call last)",
      "\u001b[0;32m<ipython-input-19-dea032e124a7>\u001b[0m in \u001b[0;36m<module>\u001b[0;34m\u001b[0m\n\u001b[1;32m      2\u001b[0m \u001b[0mfoo_graph\u001b[0m \u001b[0;34m=\u001b[0m \u001b[0mast_graph\u001b[0m\u001b[0;34m.\u001b[0m\u001b[0mext\u001b[0m\u001b[0;34m[\u001b[0m\u001b[0;36m0\u001b[0m\u001b[0;34m]\u001b[0m\u001b[0;34m\u001b[0m\u001b[0;34m\u001b[0m\u001b[0m\n\u001b[1;32m      3\u001b[0m \u001b[0;34m\u001b[0m\u001b[0m\n\u001b[0;32m----> 4\u001b[0;31m \u001b[0mcontexts\u001b[0m \u001b[0;34m=\u001b[0m \u001b[0mvisitFunction\u001b[0m\u001b[0;34m(\u001b[0m\u001b[0mfoo_graph\u001b[0m\u001b[0;34m)\u001b[0m\u001b[0;34m\u001b[0m\u001b[0;34m\u001b[0m\u001b[0m\n\u001b[0m\u001b[1;32m      5\u001b[0m \u001b[0mcontext1\u001b[0m\u001b[0;34m,\u001b[0m \u001b[0mcontext2\u001b[0m \u001b[0;34m=\u001b[0m \u001b[0mcontexts\u001b[0m\u001b[0;34m[\u001b[0m\u001b[0;36m0\u001b[0m\u001b[0;34m]\u001b[0m\u001b[0;34m,\u001b[0m \u001b[0mcontexts\u001b[0m\u001b[0;34m[\u001b[0m\u001b[0;36m1\u001b[0m\u001b[0;34m]\u001b[0m\u001b[0;34m\u001b[0m\u001b[0;34m\u001b[0m\u001b[0m\n",
      "\u001b[0;32m<ipython-input-18-0091f7c6353b>\u001b[0m in \u001b[0;36mvisitFunction\u001b[0;34m(function)\u001b[0m\n\u001b[1;32m      2\u001b[0m     \u001b[0mcontext\u001b[0m \u001b[0;34m=\u001b[0m \u001b[0mContext\u001b[0m\u001b[0;34m(\u001b[0m\u001b[0mnext_nodes\u001b[0m \u001b[0;34m=\u001b[0m \u001b[0;34m[\u001b[0m\u001b[0mfunction\u001b[0m\u001b[0;34m.\u001b[0m\u001b[0mbody\u001b[0m\u001b[0;34m]\u001b[0m\u001b[0;34m)\u001b[0m\u001b[0;34m\u001b[0m\u001b[0;34m\u001b[0m\u001b[0m\n\u001b[1;32m      3\u001b[0m     \u001b[0mvisitParamsFunction\u001b[0m\u001b[0;34m(\u001b[0m\u001b[0mcontext\u001b[0m\u001b[0;34m,\u001b[0m \u001b[0mfunction\u001b[0m\u001b[0;34m.\u001b[0m\u001b[0mdecl\u001b[0m\u001b[0;34m.\u001b[0m\u001b[0mtype\u001b[0m\u001b[0;34m.\u001b[0m\u001b[0margs\u001b[0m\u001b[0;34m.\u001b[0m\u001b[0mparams\u001b[0m\u001b[0;34m)\u001b[0m\u001b[0;34m\u001b[0m\u001b[0;34m\u001b[0m\u001b[0m\n\u001b[0;32m----> 4\u001b[0;31m     \u001b[0;32mreturn\u001b[0m \u001b[0mvisitNode\u001b[0m\u001b[0;34m(\u001b[0m\u001b[0mcontext\u001b[0m\u001b[0;34m)\u001b[0m\u001b[0;34m\u001b[0m\u001b[0;34m\u001b[0m\u001b[0m\n\u001b[0m",
      "\u001b[0;32m<ipython-input-17-ff6bbef0ff79>\u001b[0m in \u001b[0;36mvisitNode\u001b[0;34m(context)\u001b[0m\n\u001b[1;32m     23\u001b[0m             \u001b[0;32mfor\u001b[0m \u001b[0;34m(\u001b[0m\u001b[0mstring\u001b[0m\u001b[0;34m,\u001b[0m \u001b[0mchild\u001b[0m\u001b[0;34m)\u001b[0m \u001b[0;32min\u001b[0m \u001b[0mnode\u001b[0m\u001b[0;34m.\u001b[0m\u001b[0mchildren\u001b[0m\u001b[0;34m(\u001b[0m\u001b[0;34m)\u001b[0m\u001b[0;34m:\u001b[0m\u001b[0;34m\u001b[0m\u001b[0;34m\u001b[0m\u001b[0m\n\u001b[1;32m     24\u001b[0m                 \u001b[0mcontext\u001b[0m\u001b[0;34m.\u001b[0m\u001b[0mnexts\u001b[0m\u001b[0;34m.\u001b[0m\u001b[0mappend\u001b[0m\u001b[0;34m(\u001b[0m\u001b[0mchild\u001b[0m\u001b[0;34m)\u001b[0m\u001b[0;34m\u001b[0m\u001b[0;34m\u001b[0m\u001b[0m\n\u001b[0;32m---> 25\u001b[0;31m         \u001b[0;32mreturn\u001b[0m \u001b[0mvisitNode\u001b[0m\u001b[0;34m(\u001b[0m\u001b[0mcontext\u001b[0m\u001b[0;34m)\u001b[0m\u001b[0;34m\u001b[0m\u001b[0;34m\u001b[0m\u001b[0m\n\u001b[0m\u001b[1;32m     26\u001b[0m     \u001b[0;32mreturn\u001b[0m \u001b[0;34m[\u001b[0m\u001b[0;34m]\u001b[0m\u001b[0;34m\u001b[0m\u001b[0;34m\u001b[0m\u001b[0m\n",
      "\u001b[0;32m<ipython-input-17-ff6bbef0ff79>\u001b[0m in \u001b[0;36mvisitNode\u001b[0;34m(context)\u001b[0m\n\u001b[1;32m     23\u001b[0m             \u001b[0;32mfor\u001b[0m \u001b[0;34m(\u001b[0m\u001b[0mstring\u001b[0m\u001b[0;34m,\u001b[0m \u001b[0mchild\u001b[0m\u001b[0;34m)\u001b[0m \u001b[0;32min\u001b[0m \u001b[0mnode\u001b[0m\u001b[0;34m.\u001b[0m\u001b[0mchildren\u001b[0m\u001b[0;34m(\u001b[0m\u001b[0;34m)\u001b[0m\u001b[0;34m:\u001b[0m\u001b[0;34m\u001b[0m\u001b[0;34m\u001b[0m\u001b[0m\n\u001b[1;32m     24\u001b[0m                 \u001b[0mcontext\u001b[0m\u001b[0;34m.\u001b[0m\u001b[0mnexts\u001b[0m\u001b[0;34m.\u001b[0m\u001b[0mappend\u001b[0m\u001b[0;34m(\u001b[0m\u001b[0mchild\u001b[0m\u001b[0;34m)\u001b[0m\u001b[0;34m\u001b[0m\u001b[0;34m\u001b[0m\u001b[0m\n\u001b[0;32m---> 25\u001b[0;31m         \u001b[0;32mreturn\u001b[0m \u001b[0mvisitNode\u001b[0m\u001b[0;34m(\u001b[0m\u001b[0mcontext\u001b[0m\u001b[0;34m)\u001b[0m\u001b[0;34m\u001b[0m\u001b[0;34m\u001b[0m\u001b[0m\n\u001b[0m\u001b[1;32m     26\u001b[0m     \u001b[0;32mreturn\u001b[0m \u001b[0;34m[\u001b[0m\u001b[0;34m]\u001b[0m\u001b[0;34m\u001b[0m\u001b[0;34m\u001b[0m\u001b[0m\n",
      "\u001b[0;32m<ipython-input-17-ff6bbef0ff79>\u001b[0m in \u001b[0;36mvisitNode\u001b[0;34m(context)\u001b[0m\n\u001b[1;32m     17\u001b[0m                 \u001b[0;32mreturn\u001b[0m \u001b[0;34m[\u001b[0m\u001b[0mcontext1\u001b[0m\u001b[0;34m,\u001b[0m \u001b[0mcontext2\u001b[0m\u001b[0;34m]\u001b[0m\u001b[0;34m\u001b[0m\u001b[0;34m\u001b[0m\u001b[0m\n\u001b[1;32m     18\u001b[0m         \u001b[0;32melif\u001b[0m \u001b[0misDeclaration\u001b[0m\u001b[0;34m(\u001b[0m\u001b[0mnode\u001b[0m\u001b[0;34m)\u001b[0m\u001b[0;34m:\u001b[0m\u001b[0;34m\u001b[0m\u001b[0;34m\u001b[0m\u001b[0m\n\u001b[0;32m---> 19\u001b[0;31m             \u001b[0mcontext\u001b[0m\u001b[0;34m.\u001b[0m\u001b[0maddVariable\u001b[0m\u001b[0;34m(\u001b[0m\u001b[0mnode\u001b[0m\u001b[0;34m)\u001b[0m\u001b[0;34m\u001b[0m\u001b[0;34m\u001b[0m\u001b[0m\n\u001b[0m\u001b[1;32m     20\u001b[0m         \u001b[0;32melif\u001b[0m \u001b[0misAssignment\u001b[0m\u001b[0;34m(\u001b[0m\u001b[0mnode\u001b[0m\u001b[0;34m)\u001b[0m\u001b[0;34m:\u001b[0m\u001b[0;34m\u001b[0m\u001b[0;34m\u001b[0m\u001b[0m\n\u001b[1;32m     21\u001b[0m             \u001b[0mcontext\u001b[0m\u001b[0;34m.\u001b[0m\u001b[0massign\u001b[0m\u001b[0;34m(\u001b[0m\u001b[0mnode\u001b[0m\u001b[0;34m)\u001b[0m\u001b[0;34m\u001b[0m\u001b[0;34m\u001b[0m\u001b[0m\n",
      "\u001b[0;32m<ipython-input-3-bef4a8c81c87>\u001b[0m in \u001b[0;36maddVariable\u001b[0;34m(self, node_decl)\u001b[0m\n\u001b[1;32m     52\u001b[0m                     \u001b[0mprint\u001b[0m\u001b[0;34m(\u001b[0m\u001b[0mVariable\u001b[0m\u001b[0;34m(\u001b[0m\u001b[0msingletons\u001b[0m\u001b[0;34m=\u001b[0m\u001b[0;34m[\u001b[0m\u001b[0msingleton\u001b[0m\u001b[0;34m]\u001b[0m\u001b[0;34m)\u001b[0m\u001b[0;34m)\u001b[0m\u001b[0;34m\u001b[0m\u001b[0;34m\u001b[0m\u001b[0m\n\u001b[1;32m     53\u001b[0m                     variable = Operation(self.variables[left.name], op,\\\n\u001b[0;32m---> 54\u001b[0;31m                                          Variable(singletons=[singleton])).compute()\n\u001b[0m\u001b[1;32m     55\u001b[0m                     \u001b[0mvariable\u001b[0m\u001b[0;34m.\u001b[0m\u001b[0mname\u001b[0m \u001b[0;34m=\u001b[0m \u001b[0mname\u001b[0m\u001b[0;34m\u001b[0m\u001b[0;34m\u001b[0m\u001b[0m\n\u001b[1;32m     56\u001b[0m                 \u001b[0;32melse\u001b[0m\u001b[0;34m:\u001b[0m\u001b[0;34m\u001b[0m\u001b[0;34m\u001b[0m\u001b[0m\n",
      "\u001b[0;32m<ipython-input-8-9fe06e7b8941>\u001b[0m in \u001b[0;36mcompute\u001b[0;34m(self)\u001b[0m\n\u001b[1;32m     29\u001b[0m                 variable_computed.intervals.append(\\\n\u001b[1;32m     30\u001b[0m                     Interval(self.computeValue(left.min, self.operator, right.min),\\\n\u001b[0;32m---> 31\u001b[0;31m                              self.computeValue(left.max, self.operator, right.max)))\n\u001b[0m\u001b[1;32m     32\u001b[0m             \u001b[0;32mfor\u001b[0m \u001b[0mright\u001b[0m \u001b[0;32min\u001b[0m \u001b[0mself\u001b[0m\u001b[0;34m.\u001b[0m\u001b[0mright\u001b[0m\u001b[0;34m.\u001b[0m\u001b[0msingletons\u001b[0m\u001b[0;34m:\u001b[0m\u001b[0;34m\u001b[0m\u001b[0;34m\u001b[0m\u001b[0m\n\u001b[1;32m     33\u001b[0m                 variable_computed.intervals.append(\\\n",
      "\u001b[0;32m<ipython-input-5-564609c283cb>\u001b[0m in \u001b[0;36m__init__\u001b[0;34m(self, minimum, maximum)\u001b[0m\n\u001b[1;32m     10\u001b[0m             \u001b[0mMaximum\u001b[0m \u001b[0mde\u001b[0m \u001b[0ml\u001b[0m\u001b[0;31m'\u001b[0m\u001b[0mintervalle\u001b[0m\u001b[0;34m\u001b[0m\u001b[0;34m\u001b[0m\u001b[0m\n\u001b[1;32m     11\u001b[0m     \"\"\"\n\u001b[0;32m---> 12\u001b[0;31m     \u001b[0;32mdef\u001b[0m \u001b[0m__init__\u001b[0m\u001b[0;34m(\u001b[0m\u001b[0mself\u001b[0m\u001b[0;34m,\u001b[0m \u001b[0mminimum\u001b[0m\u001b[0;34m,\u001b[0m \u001b[0mmaximum\u001b[0m\u001b[0;34m)\u001b[0m\u001b[0;34m:\u001b[0m\u001b[0;34m\u001b[0m\u001b[0;34m\u001b[0m\u001b[0m\n\u001b[0m\u001b[1;32m     13\u001b[0m         \u001b[0mself\u001b[0m\u001b[0;34m.\u001b[0m\u001b[0mmin\u001b[0m \u001b[0;34m=\u001b[0m \u001b[0mminimum\u001b[0m\u001b[0;34m\u001b[0m\u001b[0;34m\u001b[0m\u001b[0m\n\u001b[1;32m     14\u001b[0m         \u001b[0mself\u001b[0m\u001b[0;34m.\u001b[0m\u001b[0mmax\u001b[0m \u001b[0;34m=\u001b[0m \u001b[0mmaximum\u001b[0m\u001b[0;34m\u001b[0m\u001b[0;34m\u001b[0m\u001b[0m\n",
      "\u001b[0;31mKeyboardInterrupt\u001b[0m: "
     ]
    }
   ],
   "source": [
    "ast_graph = parse_c_file('./C files/if.c')\n",
    "foo_graph = ast_graph.ext[0]\n",
    "\n",
    "contexts = visitFunction(foo_graph)\n",
    "context1, context2 = contexts[0], contexts[1]"
   ]
  },
  {
   "cell_type": "code",
   "execution_count": null,
   "metadata": {},
   "outputs": [],
   "source": [
    "print(context1.variables)"
   ]
  },
  {
   "cell_type": "code",
   "execution_count": null,
   "metadata": {},
   "outputs": [],
   "source": []
  }
 ],
 "metadata": {
  "kernelspec": {
   "display_name": "Python 3",
   "language": "python",
   "name": "python3"
  },
  "language_info": {
   "codemirror_mode": {
    "name": "ipython",
    "version": 3
   },
   "file_extension": ".py",
   "mimetype": "text/x-python",
   "name": "python",
   "nbconvert_exporter": "python",
   "pygments_lexer": "ipython3",
   "version": "3.7.3"
  }
 },
 "nbformat": 4,
 "nbformat_minor": 2
}
