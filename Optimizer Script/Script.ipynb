{
 "cells": [
  {
   "cell_type": "code",
   "execution_count": 26,
   "metadata": {},
   "outputs": [],
   "source": [
    "from pycparser import parse_file, c_ast\n",
    "\n",
    "global parents\n",
    "parents={}"
   ]
  },
  {
   "cell_type": "code",
   "execution_count": 34,
   "metadata": {},
   "outputs": [],
   "source": [
    "def parse_c_file(file):\n",
    "    ast = parse_file(file, use_cpp=True,\n",
    "        cpp_path='gcc',\n",
    "        cpp_args=['-E', r'-Iutils/fake_libc_include'])\n",
    "    return ast"
   ]
  },
  {
   "cell_type": "code",
   "execution_count": 35,
   "metadata": {},
   "outputs": [],
   "source": [
    "ast_graph = parse_c_file('./C files/if.c')"
   ]
  },
  {
   "cell_type": "code",
   "execution_count": 36,
   "metadata": {},
   "outputs": [],
   "source": [
    "def computeParents(node, parent):\n",
    "    global parents\n",
    "    parents[node] = parent\n",
    "    for (child, value) in node.children():\n",
    "        computeParents(value, node) "
   ]
  },
  {
   "cell_type": "code",
   "execution_count": 37,
   "metadata": {},
   "outputs": [],
   "source": [
    "computeParents(ast_graph, None)"
   ]
  },
  {
   "cell_type": "code",
   "execution_count": 38,
   "metadata": {},
   "outputs": [],
   "source": [
    "def findConditions(node):\n",
    "    conditions = []\n",
    "    if(type(node) == c_ast.While or type(node) == c_ast.If\\\n",
    "       or type(node) == c_ast.For):\n",
    "        conditions.append(node.cond)\n",
    "    for (child, value) in node.children():\n",
    "        conditions += findConditions(value)\n",
    "    return conditions"
   ]
  },
  {
   "cell_type": "code",
   "execution_count": 39,
   "metadata": {},
   "outputs": [],
   "source": [
    "conditions = findConditions(ast_graph)"
   ]
  },
  {
   "cell_type": "code",
   "execution_count": 40,
   "metadata": {},
   "outputs": [
    {
     "name": "stdout",
     "output_type": "stream",
     "text": [
      "[BinaryOp(op='==',\n",
      "         left=ID(name='b'\n",
      "                 ),\n",
      "         right=ID(name='a'\n",
      "                  )\n",
      "         ), BinaryOp(op='<',\n",
      "         left=ID(name='b'\n",
      "                 ),\n",
      "         right=ID(name='a'\n",
      "                  )\n",
      "         )]\n"
     ]
    }
   ],
   "source": []
  },
  {
   "cell_type": "code",
   "execution_count": null,
   "metadata": {},
   "outputs": [],
   "source": []
  }
 ],
 "metadata": {
  "kernelspec": {
   "display_name": "Python 3",
   "language": "python",
   "name": "python3"
  },
  "language_info": {
   "codemirror_mode": {
    "name": "ipython",
    "version": 3
   },
   "file_extension": ".py",
   "mimetype": "text/x-python",
   "name": "python",
   "nbconvert_exporter": "python",
   "pygments_lexer": "ipython3",
   "version": "3.7.1"
  }
 },
 "nbformat": 4,
 "nbformat_minor": 2
}
