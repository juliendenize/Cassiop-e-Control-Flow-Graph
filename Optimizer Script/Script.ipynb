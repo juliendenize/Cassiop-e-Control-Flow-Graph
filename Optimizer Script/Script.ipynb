{
 "cells": [
  {
   "cell_type": "code",
   "execution_count": 1,
   "metadata": {},
   "outputs": [],
   "source": [
    "from pycparser import parse_file, c_ast\n",
    "from numpy import inf\n",
    "\n",
    "global parents, variables\n",
    "parents={}"
   ]
  },
  {
   "cell_type": "code",
   "execution_count": 2,
   "metadata": {},
   "outputs": [],
   "source": [
    "class Condition:\n",
    "    def __init__(self, condition):\n",
    "        self.condition = condition\n",
    "        (self.left_operand, self.operator, self.right_operand) = self.handleCondition()\n",
    "    \n",
    "    def handleCondition(self):\n",
    "        left_operand = self.condition.left\n",
    "        right_operand = self.condition.right\n",
    "        operator = self.condition.op\n",
    "        \n",
    "        if operator == \">\":\n",
    "            return (right_operand, \"<\", left_operand)\n",
    "        elif operator == \">=\":\n",
    "            return (right_operand, \"<=\", left_operand)\n",
    "        else:\n",
    "            return (left_operand, operator, right_operand)"
   ]
  },
  {
   "cell_type": "code",
   "execution_count": 3,
   "metadata": {},
   "outputs": [],
   "source": [
    "class Context:  \n",
    "    def __init__(self, condition = None, bool_condition = True, next_nodes = [],\\\n",
    "                 previous_context = None):\n",
    "        if previous_context is not None:\n",
    "            self.conditions = previous_context.conditions.append((condition, bool_condition))\n",
    "            self.variables = previous_context.variables\n",
    "            self.nexts = previous_context.nexts + next_nodes\n",
    "            self.checkCondition()\n",
    "        else:\n",
    "            self.conditions = [(condition, bool_condition)]\n",
    "            self.variables = {}\n",
    "            self.nexts = next_nodes\n",
    "    \n",
    "    def addParam(self, param):\n",
    "        name = param.name\n",
    "        types = param.type.type.names\n",
    "        if 'int' not in types:\n",
    "            raise 'Only int type allowed'\n",
    "        #if 'unsigned' in types:\n",
    "        if 'unsigned' in types:\n",
    "            self.variables[name] = Variable(name,\\\n",
    "                                    [Interval(Value(constante = 0), Value(constante = inf))])\n",
    "        else:\n",
    "            self.variables[name] = Variable(name,\\\n",
    "                                    [Interval(Value(constante = -inf), Value(constante = inf))])\n",
    "    def addVariable(self, node_decl):\n",
    "        name = node_decl.name\n",
    "        types = node_decl.type.type.names\n",
    "        if 'int' not in types:\n",
    "            raise 'Only int type allowed'\n",
    "        if node_decl.init is not None:\n",
    "            if type(node_decl.init) is c_ast.Constant:\n",
    "                variable = Variable(name,\\\n",
    "                                    singletons=[Value(constante = node_decl.init.value)])\n",
    "            elif type(node_decl.init) is c_ast.ID:\n",
    "                variable = Variable(name,\\\n",
    "                                     singletons=[Value(variables=[node_decl.init.name])])\n",
    "            elif type(node_decl.init) is c_ast.BinaryOp:\n",
    "                left, right, op = node_decl.init.left, node_decl.init.right, node_decl.init.op \n",
    "                if type(left) is c_ast.ID and type(right) is c_ast.ID:\n",
    "                    variable = Operation(self.variables[left.name], op,\\\n",
    "                                          self.variables[right.name]).compute()\n",
    "                    variable.name = name\n",
    "                elif type(left) is c_ast.Constant and type(right) is c_ast.ID:\n",
    "                    variable = Operation(Variable(singletons=[Value(left.value)]),\\\n",
    "                                         op, self.variables[right.name]).compute()\n",
    "                    variable.name = name\n",
    "                elif type(left) is c_ast.ID and type(right) is c_ast.Constant:\n",
    "                    variable = Operation(self.variables[left.name], op,\\\n",
    "                                         Variable(singletons=[Value(right.value)])).compute()\n",
    "                    variable.name = name\n",
    "                else:\n",
    "                    if op is \"+\":\n",
    "                        variable = Variable(name = name,\\\n",
    "                                            singletons=[Value(constant=(left.value +\\\n",
    "                                                                        right.value))])\n",
    "                    elif op is \"-\":\n",
    "                        variable = Variable(name = name,\\\n",
    "                                            singletons=[Value(constant=(left.value -\\\n",
    "                                                                        right.value))])\n",
    "        else:\n",
    "            variable = Variable(name=name)\n",
    "        self.variables[name] = variable\n",
    "\n",
    "    def pop(self):\n",
    "        if self.nexts != []:\n",
    "            return self.nexts.pop(0)\n",
    "        return None\n",
    "        \n",
    "    def checkCondition(self):\n",
    "        \"\"\"\n",
    "        Si self.state = True condition possible\n",
    "        Si self.state = False condition impossible donc le branchement est inutile\n",
    "        \"\"\"\n",
    "        \n",
    "        # simplification des deux listes représentant les variables\n",
    "        # propagation des singletons grâce à leur valeur trouvée dans la bibliothèque\n",
    "        # si il y a encore des variables entièrement non définies de chaque côté -> \n",
    "        # deux contexte et pas d'update\n",
    "        # si non définie d'un seul côté -> on a les deux contextes et update de la valeur \n",
    "        # de la variable\n",
    "        # sinon -> un seul contexte et pas d'update\n",
    "        self.state = True\n",
    "        return"
   ]
  },
  {
   "cell_type": "code",
   "execution_count": 4,
   "metadata": {},
   "outputs": [],
   "source": [
    "class Singleton():\n",
    "    \"\"\"\n",
    "        Représente un singleton\n",
    "        \n",
    "        Attributs\n",
    "        ----------\n",
    "        value: @Value\n",
    "            valeur du singleton\n",
    "    \"\"\"\n",
    "    def __init__(self, value):\n",
    "        self.value = value\n",
    "    \n",
    "    def __str__(self):\n",
    "        return \"{\" + str(self.value) + \"}\""
   ]
  },
  {
   "cell_type": "code",
   "execution_count": 5,
   "metadata": {},
   "outputs": [],
   "source": [
    "class Interval():\n",
    "    \"\"\"\n",
    "        Représente un interval\n",
    "        \n",
    "        Attributs\n",
    "        ----------\n",
    "        min: @Value\n",
    "            Minimum de l'intervalle\n",
    "        max: @Value \n",
    "            Maximum de l'intervalle\n",
    "    \"\"\"\n",
    "    def __init__(self, minimum, maximum):\n",
    "        self.min = minimum\n",
    "        self.max = maximum\n",
    "    \n",
    "    def __str__(self):\n",
    "        return \"[\" + str(self.min) + \",\" + str(self.max) + \"]\""
   ]
  },
  {
   "cell_type": "code",
   "execution_count": 6,
   "metadata": {},
   "outputs": [],
   "source": [
    "class Variable():\n",
    "    \"\"\"\n",
    "        Représente une variable\n",
    "        \n",
    "        Attributs\n",
    "        ----------\n",
    "        name: String \n",
    "            Nom de la varialbe\n",
    "        intervals: list[@Interval] \n",
    "            Ensemble d'intervalles pour la variable\n",
    "    \"\"\"\n",
    "    def __init__(self, name = \"\", intervals = [], singletons = []):\n",
    "        self.name = name\n",
    "        self.intervals = intervals\n",
    "        self.singletons = singletons\n",
    "    \n",
    "    def __str__(self):\n",
    "        return self.name + \" : \" + ''.join((str(interval) + ' ') for interval in self.intervals)\\\n",
    "               + ''.join(str(singleton) + ' ' for singleton in self.singletons)"
   ]
  },
  {
   "cell_type": "code",
   "execution_count": 7,
   "metadata": {},
   "outputs": [],
   "source": [
    "class Value():\n",
    "    \"\"\"\n",
    "        Représente une valeur de variable qui est sous la forme: @Variable + Constante\n",
    "        \n",
    "        Attributs\n",
    "        ----------\n",
    "        constante: Int\n",
    "            Constante\n",
    "        variables: list[@Variable, String]\n",
    "            Variables et opérateurs\n",
    "    \"\"\"\n",
    "    def __init__(self, constante = 0, variable = None):\n",
    "        self.variable = variable\n",
    "        self.constante = constante\n",
    "    \n",
    "    def __str__(self):\n",
    "        if self.variable is None:\n",
    "            return str(self.constante)\n",
    "        return self.variable.name + ' + ' + str(self.constante)"
   ]
  },
  {
   "cell_type": "code",
   "execution_count": 8,
   "metadata": {},
   "outputs": [],
   "source": [
    "class Operation():\n",
    "    def __init__(self, left, operator, right):\n",
    "        self.left = left\n",
    "        self.operator = operator\n",
    "        self.right = right\n",
    "    \n",
    "    def computeValue(self, left, operator, right):\n",
    "        value_computed = Value()\n",
    "        \n",
    "        if left.variable is None:\n",
    "            value_computed.variable = right.variable\n",
    "        else:\n",
    "            if right.variable is not None:\n",
    "                raise \"Addition de deux valeurs dépendantes de deux variables\"\n",
    "            value_computed.variable = left.variable\n",
    "        \n",
    "        if(operator == \"+\"):\n",
    "            value_computed.constante = left.constante + right.constante\n",
    "        elif(operator == \"-\"):\n",
    "            value_computed.constante = left.constante - right.constante   \n",
    "        \n",
    "        return value_computed\n",
    "        \n",
    "    def compute(self):\n",
    "        variable_computed = Variable()\n",
    "        for left in self.left.intervals:\n",
    "            for right in self.right.intervals:\n",
    "                variable_computed.intervals.append(\\\n",
    "                    Interval(self.computeValue(left.min, self.operator, right.min),\\\n",
    "                             self.computeValue(left.max, self.operator,right.max)))\n",
    "            for right in self.right.singletons:\n",
    "                variable_computed.intervals.append(\\\n",
    "                    Interval(self.computeValue(left.min, self.operator, right),\\\n",
    "                             self.computeValue(left.max, self.operator, right)))\n",
    "        for left in self.left.singletons:\n",
    "            for right in right.intervals:\n",
    "                variable_computed.intervals.append(\\\n",
    "                    Interval(self.computeValue(left, self.operator, right.min),\\\n",
    "                             self.computeValue(left, self.operator, right.max)))\n",
    "            for right in self.right.singletons:\n",
    "                variable_computed.singletons.append(\\\n",
    "                    Singleton(self.computeValue(left, self.operator, right)))\n",
    "        return variable_computed"
   ]
  },
  {
   "cell_type": "code",
   "execution_count": 9,
   "metadata": {},
   "outputs": [],
   "source": [
    "def parse_c_file(file):\n",
    "    ast = parse_file(file, use_cpp=True,\n",
    "        cpp_path='gcc',\n",
    "        cpp_args=['-E', r'-Iutils/fake_libc_include'])\n",
    "    return ast"
   ]
  },
  {
   "cell_type": "code",
   "execution_count": 10,
   "metadata": {},
   "outputs": [],
   "source": [
    "def computeParents(node, parent):\n",
    "    global parents\n",
    "    parents[node] = parent\n",
    "    for (child, value) in node.children():\n",
    "        computeParents(value, node) "
   ]
  },
  {
   "cell_type": "code",
   "execution_count": 11,
   "metadata": {},
   "outputs": [],
   "source": [
    "#computeParents(ast_graph, None)"
   ]
  },
  {
   "cell_type": "code",
   "execution_count": 12,
   "metadata": {},
   "outputs": [],
   "source": [
    "def isIf(node):\n",
    "    return type(node) == c_ast.If"
   ]
  },
  {
   "cell_type": "code",
   "execution_count": 13,
   "metadata": {},
   "outputs": [],
   "source": [
    "def getCoord(node):\n",
    "    return node.coord"
   ]
  },
  {
   "cell_type": "code",
   "execution_count": 14,
   "metadata": {},
   "outputs": [],
   "source": [
    "def isDeclaration(node):\n",
    "    return type(node) == c_ast.Decl"
   ]
  },
  {
   "cell_type": "code",
   "execution_count": 15,
   "metadata": {},
   "outputs": [],
   "source": [
    "def isAssignment(node):\n",
    "    return type(node) == c_ast.Assignment"
   ]
  },
  {
   "cell_type": "code",
   "execution_count": null,
   "metadata": {},
   "outputs": [],
   "source": [
    "def visitParamsFunction(context, params):\n",
    "    for param in params:\n",
    "        context.addParam(param)"
   ]
  },
  {
   "cell_type": "code",
   "execution_count": null,
   "metadata": {},
   "outputs": [],
   "source": [
    "def visitNode(context):\n",
    "    node = context.pop()\n",
    "    print(type(node))\n",
    "    if node is not None:\n",
    "        if isIf(node):\n",
    "            condition = Condition(node.cond)\n",
    "            context1 = Context(condition = condition, bool_condition = True,\\\n",
    "                               next_nodes = [node.iftrue], previous_context = context)\n",
    "            context2 = Context(condition = condition, bool_condition = False,\\\n",
    "                               next_nodes = [node.iffalse], previous_context = context)\n",
    "            if context1.state and context2.state:\n",
    "                return visitNode(context1) + visitNode(context2)\n",
    "            elif context1.state and not context2.state:\n",
    "                return visitNode(context1) + [context2]\n",
    "            elif not context1.state and context2.state:\n",
    "                return visitNode(context2) + [context1]\n",
    "            else:\n",
    "                return [context1, context2]\n",
    "        elif isDeclaration(node):\n",
    "            print(\"decl\")\n",
    "            context.addVariable(node)\n",
    "        elif isAssignment(node):\n",
    "            context.assign(node)\n",
    "        else:\n",
    "            for (string, child) in node.children():\n",
    "                print(type(child))\n",
    "                context.nexts.append(child)\n",
    "            print(\"\\n\")\n",
    "    if context.nexts != []:\n",
    "        return visitNode(context)\n",
    "    else:\n",
    "        return []"
   ]
  },
  {
   "cell_type": "code",
   "execution_count": null,
   "metadata": {},
   "outputs": [],
   "source": [
    "def visitFunction(function):\n",
    "    context = Context(next_nodes = [function.body])\n",
    "    visitParamsFunction(context, function.decl.type.args.params)\n",
    "    return visitNode(context)"
   ]
  },
  {
   "cell_type": "code",
   "execution_count": null,
   "metadata": {},
   "outputs": [
    {
     "name": "stdout",
     "output_type": "stream",
     "text": [
      "<class 'pycparser.c_ast.Compound'>\n",
      "<class 'pycparser.c_ast.Decl'>\n",
      "<class 'pycparser.c_ast.Decl'>\n",
      "<class 'pycparser.c_ast.If'>\n",
      "<class 'pycparser.c_ast.Return'>\n",
      "\n",
      "\n",
      "<class 'pycparser.c_ast.Decl'>\n",
      "decl\n",
      "<class 'pycparser.c_ast.Decl'>\n",
      "decl\n"
     ]
    }
   ],
   "source": [
    "ast_graph = parse_c_file('./C files/if.c')\n",
    "foo_graph = ast_graph.ext[0]\n",
    "\n",
    "contexts = visitFunction(foo_graph)\n",
    "context1, context2 = contexts[0], contexts[1]"
   ]
  },
  {
   "cell_type": "code",
   "execution_count": null,
   "metadata": {},
   "outputs": [],
   "source": [
    "print(context1.variables)"
   ]
  },
  {
   "cell_type": "code",
   "execution_count": null,
   "metadata": {},
   "outputs": [],
   "source": []
  }
 ],
 "metadata": {
  "kernelspec": {
   "display_name": "Python 3",
   "language": "python",
   "name": "python3"
  },
  "language_info": {
   "codemirror_mode": {
    "name": "ipython",
    "version": 3
   },
   "file_extension": ".py",
   "mimetype": "text/x-python",
   "name": "python",
   "nbconvert_exporter": "python",
   "pygments_lexer": "ipython3",
   "version": "3.7.3"
  }
 },
 "nbformat": 4,
 "nbformat_minor": 2
}
