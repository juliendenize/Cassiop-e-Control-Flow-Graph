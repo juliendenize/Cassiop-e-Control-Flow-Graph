{
 "cells": [
  {
   "cell_type": "code",
   "execution_count": 32,
   "metadata": {},
   "outputs": [],
   "source": [
    "from pycparser import parse_file, c_ast\n",
    "\n",
    "global parents, variables\n",
    "parents={}"
   ]
  },
  {
   "cell_type": "code",
   "execution_count": 33,
   "metadata": {},
   "outputs": [
    {
     "ename": "IndentationError",
     "evalue": "expected an indented block (<ipython-input-33-2b4c689d560a>, line 33)",
     "output_type": "error",
     "traceback": [
      "\u001b[0;36m  File \u001b[0;32m\"<ipython-input-33-2b4c689d560a>\"\u001b[0;36m, line \u001b[0;32m33\u001b[0m\n\u001b[0;31m    def pop(self):\u001b[0m\n\u001b[0m      ^\u001b[0m\n\u001b[0;31mIndentationError\u001b[0m\u001b[0;31m:\u001b[0m expected an indented block\n"
     ]
    }
   ],
   "source": [
    "class Condition:\n",
    "    def __init__(self, condition):\n",
    "        self.condition = condition\n",
    "        (self.left_operand, self.operator, self.right_operand) = self.handleCondition(condition)\n",
    "    \n",
    "    def handleCondition(self, condition):\n",
    "        left_operand = condition.left\n",
    "        right_operand = condition.right\n",
    "        operator = condition.op\n",
    "        \n",
    "        if operator == \">\":\n",
    "            return (right_operand, \"<\", left_operand)\n",
    "        elif operator == \">=\":\n",
    "            return (right_operand, \"<=\", left_operand)\n",
    "        else:\n",
    "            return (left_operand, operator, right_operand)\n",
    "\n",
    "class Context:  \n",
    "    def __init__(self, condition = None, bool_condition = True, next_nodes = [], previous_context = None):\n",
    "        if previous_context is not None:\n",
    "            self.conditions = previous_context.conditions.append((condition, bool_condition))\n",
    "            self.variables = previous_context.variables\n",
    "            self.nexts = previous_context.nexts + next_nodes\n",
    "            self.checkCondition()\n",
    "        else:\n",
    "            self.conditions = [] # True si la condition a été vérifié, false sinon: permet de ne pas avoir de false positives\n",
    "            self.variables = {}\n",
    "            self.nexts = []\n",
    "    \n",
    "    def addVariable(self, node_decl):\n",
    "        name = node_decl.name\n",
    "        types = node_decl.type.type.names\n",
    "        if 'int' not in types:\n",
    "            raise 'Only int type allowed'\n",
    "        if 'unsigned' in types:\n",
    "            return\n",
    "            \n",
    "    def pop(self):\n",
    "        if self.nexts != []:\n",
    "            return self.nexts.pop()\n",
    "        return None\n",
    "        \n",
    "    def checkCondition(self):\n",
    "        \"\"\"\n",
    "        Si self.state = True condition possible\n",
    "        Si self.state = False condition impossible donc le branchement est inutile\n",
    "        \"\"\"\n",
    "        \n",
    "        # simplification des deux listes représentant les variables\n",
    "        # propagation des singletons grâce à leur valeur trouvée dans la bibliothèque\n",
    "        # si il y a encore des variables entièrement non définies de chaque côté -> deux contexte et pas d'update\n",
    "        # si non définie d'un seul côté -> on a les deux contextes et update de la valeur de la variable\n",
    "        # sinon -> un seul contexte et pas d'update\n",
    "        self.state = True\n",
    "        return\n",
    "    \n",
    "class Interval():\n",
    "    \"\"\"\n",
    "        Représente un interval\n",
    "        \n",
    "        Attributs\n",
    "        ----------\n",
    "        min: @Variable \n",
    "            Minimum de l'intervalle\n",
    "        max: @Variable \n",
    "            Maximum de l'intervalle\n",
    "        isSingleton: Boolean\n",
    "            True si c'est un singleton\n",
    "    \"\"\"\n",
    "    def __init__(self, minimum, maximum, isSingleton):\n",
    "        self.isSingleton = isSingleton\n",
    "        self.min = minimum\n",
    "        self.max = maximum\n",
    "\n",
    "class Variable():\n",
    "    \"\"\"\n",
    "        Représente une variable\n",
    "        \n",
    "        Attributs\n",
    "        ----------\n",
    "        name: String \n",
    "            Nom de la varialbe\n",
    "        intervals: list[@Interval] \n",
    "            Ensemble d'intervalles pour la variable\n",
    "    \"\"\"\n",
    "    def __init__(self, name, intervals):\n",
    "        self.name = name\n",
    "        self.intervals = interval\n",
    "\n",
    "class Valeur():\n",
    "    \"\"\"\n",
    "        Représente une valeur de variable qui est sous la forme: @Variable \"operateur\" Constante\n",
    "        \n",
    "        Attributs\n",
    "        ----------\n",
    "        constante: Int\n",
    "            Constante\n",
    "        variable: @Variable\n",
    "            Variable\n",
    "        op: String\n",
    "            Opérateur\n",
    "    \"\"\"\n",
    "    def __init__(self, constante = 0, variable = None, operator = \"=\"):\n",
    "        self.variable = variable\n",
    "        self.operator = operator\n",
    "        self.constante = constante\n",
    "        \n",
    "class Operation():\n",
    "    def __init__(self, left, operator, right):\n",
    "        self.left = left\n",
    "        self.operator = operator\n",
    "        self.right = right\n",
    "    \n",
    "    def compute(self):\n",
    "        if(operator == \"+\"):\n",
    "            if left\n",
    "                    "
   ]
  },
  {
   "cell_type": "code",
   "execution_count": null,
   "metadata": {},
   "outputs": [],
   "source": [
    "def parse_c_file(file):\n",
    "    ast = parse_file(file, use_cpp=True,\n",
    "        cpp_path='gcc',\n",
    "        cpp_args=['-E', r'-Iutils/fake_libc_include'])\n",
    "    return ast"
   ]
  },
  {
   "cell_type": "code",
   "execution_count": null,
   "metadata": {},
   "outputs": [],
   "source": [
    "ast_graph = parse_c_file('./C files/if.c')"
   ]
  },
  {
   "cell_type": "code",
   "execution_count": null,
   "metadata": {},
   "outputs": [],
   "source": [
    "def computeParents(node, parent):\n",
    "    global parents\n",
    "    parents[node] = parent\n",
    "    for (child, value) in node.children():\n",
    "        computeParents(value, node) "
   ]
  },
  {
   "cell_type": "code",
   "execution_count": null,
   "metadata": {},
   "outputs": [],
   "source": [
    "computeParents(ast_graph, None)"
   ]
  },
  {
   "cell_type": "code",
   "execution_count": null,
   "metadata": {},
   "outputs": [],
   "source": [
    "def isIf(node):\n",
    "    return type(node) == c_ast.If"
   ]
  },
  {
   "cell_type": "code",
   "execution_count": null,
   "metadata": {},
   "outputs": [],
   "source": [
    "def getCoord(node):\n",
    "    return node.coord"
   ]
  },
  {
   "cell_type": "code",
   "execution_count": null,
   "metadata": {},
   "outputs": [],
   "source": [
    "def isDeclaration(node):\n",
    "    return type(node) == c_ast.Decl"
   ]
  },
  {
   "cell_type": "code",
   "execution_count": null,
   "metadata": {},
   "outputs": [],
   "source": [
    "def isAssignment(node):\n",
    "    return type(node) == c_ast.Assignment"
   ]
  },
  {
   "cell_type": "code",
   "execution_count": null,
   "metadata": {},
   "outputs": [],
   "source": [
    "assignments = findAssignments(ast_graph)"
   ]
  },
  {
   "cell_type": "code",
   "execution_count": null,
   "metadata": {},
   "outputs": [],
   "source": [
    "def visitNode(context):\n",
    "    node = context.pop()\n",
    "    if node is not None:\n",
    "        if isIf(node):\n",
    "            condition = Condition(node.cond)\n",
    "            context1 = Context(condition = condition, bool_condition = True, next_nodes = [node.iftrue], previous_context = context)\n",
    "            context2 = Context(condition = condition, bool_condition = False, next_nodes = [node.iffalse], previous_context = context)\n",
    "            if context1.state and context2.state:\n",
    "                return visitNode(context1) + visitNode(context2)\n",
    "            elif context1.state and not context2.state:\n",
    "                return visitNode(context1) + [context2]\n",
    "            elif not context1.state and context2.state:\n",
    "                return visitNode(context2) + [context1]\n",
    "            else:\n",
    "                return [context1, context2]\n",
    "        elif isDeclaration(node):\n",
    "            context.addVariable(node)\n",
    "        elif isAssignment(node):\n",
    "            context.assign(node)\n",
    "    return []"
   ]
  },
  {
   "cell_type": "code",
   "execution_count": null,
   "metadata": {},
   "outputs": [],
   "source": [
    "def visitGraph(graph):\n",
    "    context = Context(next_nodes = graph.children())\n",
    "    return visitNode(context)"
   ]
  },
  {
   "cell_type": "code",
   "execution_count": null,
   "metadata": {},
   "outputs": [],
   "source": []
  }
 ],
 "metadata": {
  "kernelspec": {
   "display_name": "Python 3",
   "language": "python",
   "name": "python3"
  },
  "language_info": {
   "codemirror_mode": {
    "name": "ipython",
    "version": 3
   },
   "file_extension": ".py",
   "mimetype": "text/x-python",
   "name": "python",
   "nbconvert_exporter": "python",
   "pygments_lexer": "ipython3",
   "version": "3.7.2"
  }
 },
 "nbformat": 4,
 "nbformat_minor": 2
}
