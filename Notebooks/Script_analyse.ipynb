{
 "cells": [
  {
   "cell_type": "code",
   "execution_count": 125,
   "metadata": {},
   "outputs": [],
   "source": [
    "import networkx as nx\n",
    "import matplotlib.pyplot as plt\n",
    "import pydot\n",
    "from pydot import Edge\n",
    "from pydot import Node\n",
    "import re\n",
    "\n",
    "global subgraphs, nodes_subgraphs\n",
    "subgraphs = {}\n",
    "nodes_subgraphs = {}"
   ]
  },
  {
   "cell_type": "code",
   "execution_count": 126,
   "metadata": {},
   "outputs": [],
   "source": [
    "def get_graph_from_dot(file):\n",
    "    \"\"\"\n",
    "       Import a graph from dot and return the pydot graph\n",
    "       \n",
    "       :param file: path to the file to import\n",
    "       :return: pydot graph\n",
    "       :rtype: Dot\n",
    "    \"\"\"\n",
    "    (graph, ) = pydot.graph_from_dot_file(str(file))\n",
    "    return graph\n",
    "\n",
    "graph = get_graph_from_dot('./main_output.dot')"
   ]
  },
  {
   "cell_type": "code",
   "execution_count": 127,
   "metadata": {},
   "outputs": [],
   "source": [
    "def extract_subgraphs(subgraph_list):\n",
    "    global subgraphs\n",
    "    \"\"\"\n",
    "       Extract subgraphs recursively from a list of subgraphs, and the hierarchy of the subgraphs\n",
    "       \n",
    "       :param graph: graph or subgraph from which subgraphs are to be extracted\n",
    "       :return: List of subgraphs\n",
    "       :rtype: List\n",
    "    \"\"\"\n",
    "    new_subgraphs = []\n",
    "    for subgraph in subgraph_list:\n",
    "        subgraph.set_name(subgraph.get_name().strip(\"\\\"\").replace(\"cluster_\", \"\"))\n",
    "        subgraphs[subgraph.get_name()] = subgraph\n",
    "        children_subgraphs = subgraph.get_subgraph_list() \n",
    "        new_subgraphs += children_subgraphs\n",
    "    if(new_subgraphs == []):\n",
    "        return\n",
    "    else:\n",
    "        return extract_subgraphs(new_subgraphs)\n",
    "\n",
    "extract_subgraphs([graph])"
   ]
  },
  {
   "cell_type": "code",
   "execution_count": 128,
   "metadata": {},
   "outputs": [
    {
     "name": "stdout",
     "output_type": "stream",
     "text": [
      "{'fn_0_basic_block_0': <pydot.Subgraph object at 0x7fae0b36cac8>, 'fn_0_basic_block_1': <pydot.Subgraph object at 0x7fae0b36cac8>, 'fn_0_basic_block_2': <pydot.Subgraph object at 0x7fae0b36cac8>, 'fn_0_basic_block_3': <pydot.Subgraph object at 0x7fae0b36cac8>, 'fn_0_basic_block_4': <pydot.Subgraph object at 0x7fae0b36cac8>, 'fn_0_basic_block_5': <pydot.Subgraph object at 0x7fae0b36cac8>, 'fn_1_basic_block_0': <pydot.Subgraph object at 0x7fae0b36c3c8>, 'fn_1_basic_block_1': <pydot.Subgraph object at 0x7fae0b36c3c8>, 'fn_1_basic_block_2': <pydot.Subgraph object at 0x7fae0b36c3c8>, 'fn_1_basic_block_3': <pydot.Subgraph object at 0x7fae0b36c3c8>, 'fn_2_basic_block_0': <pydot.Subgraph object at 0x7fae0b36c0f0>, 'fn_2_basic_block_1': <pydot.Subgraph object at 0x7fae0b36c0f0>, 'fn_2_basic_block_2': <pydot.Subgraph object at 0x7fae0b36c0f0>, 'fn_2_basic_block_5': <pydot.Subgraph object at 0x7fae0b36c0f0>, 'fn_2_basic_block_7': <pydot.Subgraph object at 0x7fae0b36c0f0>, 'fn_2_basic_block_6': <pydot.Subgraph object at 0x7fae0b36c0f0>, 'fn_2_basic_block_8': <pydot.Subgraph object at 0x7fae0b36c0f0>, 'fn_2_basic_block_3': <pydot.Subgraph object at 0x7fae0b36c0f0>, 'fn_2_basic_block_4': <pydot.Subgraph object at 0x7fae0b36c0f0>}\n"
     ]
    }
   ],
   "source": [
    "def associate_node_subgraph (graph):\n",
    "    global nodes_subgraphs, subgraphs\n",
    "    \n",
    "    for key, subgraph in subgraphs.items():\n",
    "        if(type(subgraph) == pydot.Subgraph):\n",
    "            for node in subgraph.get_nodes():\n",
    "                if(node.get_name() != 'graph'):\n",
    "                    nodes_subgraphs[node.get_name()] = subgraph\n",
    "\n",
    "associate_node_subgraph(graph)\n",
    "print(nodes_subgraphs)"
   ]
  },
  {
   "cell_type": "code",
   "execution_count": 142,
   "metadata": {},
   "outputs": [
    {
     "name": "stdout",
     "output_type": "stream",
     "text": [
      "34\n"
     ]
    }
   ],
   "source": [
    "def find_number_in_regex(regex, string):\n",
    "    return re.search(r'\\d+', re.search(regex, string).group()).group()\n",
    "\n",
    "print(find_number_in_regex(r'yolo_\\d+', \"j'aime le yolo_34 zqfzef\"))"
   ]
  },
  {
   "cell_type": "code",
   "execution_count": 130,
   "metadata": {},
   "outputs": [
    {
     "name": "stdout",
     "output_type": "stream",
     "text": [
      "fn_0_basic_block_1:s fn_2_basic_block_4:n\n",
      "fn_1_basic_block_1:s fn_2_basic_block_3:n\n",
      "fn_2_basic_block_2:s fn_1_basic_block_0:n\n",
      "fn_2_basic_block_3:s fn_0_basic_block_0:n\n",
      "fn_0_basic_block_0:s fn_0_basic_block_2:n\n",
      "fn_0_basic_block_2:s fn_0_basic_block_3:n\n",
      "fn_0_basic_block_2:s fn_0_basic_block_4:n\n",
      "fn_0_basic_block_3:s fn_0_basic_block_5:n\n",
      "fn_0_basic_block_4:s fn_0_basic_block_5:n\n",
      "fn_0_basic_block_5:s fn_0_basic_block_1:n\n",
      "fn_1_basic_block_0:s fn_1_basic_block_2:n\n",
      "fn_1_basic_block_2:s fn_1_basic_block_3:n\n",
      "fn_1_basic_block_3:s fn_1_basic_block_1:n\n",
      "fn_2_basic_block_0:s fn_2_basic_block_2:n\n",
      "fn_2_basic_block_5:s fn_2_basic_block_7:n\n",
      "fn_2_basic_block_6:s fn_2_basic_block_7:n\n",
      "fn_2_basic_block_7:s fn_2_basic_block_8:n\n",
      "fn_2_basic_block_8:s fn_2_basic_block_1:n\n",
      "fn_2_basic_block_4:s fn_2_basic_block_5:n\n",
      "fn_2_basic_block_4:s fn_2_basic_block_6:n\n",
      "[<pydot.Edge object at 0x7fae0b342f60>, <pydot.Edge object at 0x7fae0b342f98>, <pydot.Edge object at 0x7fae0b2c60b8>, <pydot.Edge object at 0x7fae0b342128>, <pydot.Edge object at 0x7fae0b0b4a58>, <pydot.Edge object at 0x7fae0b0b4c50>, <pydot.Edge object at 0x7fae0b0b47f0>, <pydot.Edge object at 0x7fae0b0b4588>, <pydot.Edge object at 0x7fae0b0b4278>, <pydot.Edge object at 0x7fae0b1f4780>, <pydot.Edge object at 0x7fae0b43aa58>, <pydot.Edge object at 0x7fae0b1f4630>, <pydot.Edge object at 0x7fae0b43a6a0>, <pydot.Edge object at 0x7fae0b311f60>, <pydot.Edge object at 0x7fae0b263630>, <pydot.Edge object at 0x7fae0b147b38>, <pydot.Edge object at 0x7fae0b147fd0>, <pydot.Edge object at 0x7fae0b1f9cf8>, <pydot.Edge object at 0x7fae0b22d080>, <pydot.Edge object at 0x7fae0b27ff60>]\n"
     ]
    }
   ],
   "source": [
    "def move_edges (graph_name):\n",
    "    global subgraphs\n",
    "    \n",
    "    for key, subgraph in subgraphs.items():\n",
    "        for edge in subgraph.get_edges():\n",
    "            node_head = edge.get_source()\n",
    "            node_tail = edge.get_destination()\n",
    "            subgraph.del_edge(node_head, node_tail, 0)\n",
    "            if(find_number_in_regex(r'block_\\d+', node_head) != \"0\" \n",
    "                or find_number_in_regex(r'block_\\d+', node_tail) != \"1\"):\n",
    "                print(node_head + \" \" + node_tail)\n",
    "                subgraphs[graph_name].add_edge(Edge(node_head[:-2], node_tail[:-2]))\n",
    "            \n",
    "move_edges(graph.get_name())\n",
    "print(graph.get_edges())"
   ]
  },
  {
   "cell_type": "code",
   "execution_count": 131,
   "metadata": {},
   "outputs": [
    {
     "name": "stdout",
     "output_type": "stream",
     "text": [
      "test.c.011t.cfg\n"
     ]
    }
   ],
   "source": [
    "def get_networkx_graph(graph):\n",
    "    G = nx.drawing.nx_pydot.from_pydot(graph)\n",
    "    nx.freeze(G)\n",
    "    return G\n",
    "\n",
    "G = get_networkx_graph(graph)\n",
    "print(G)"
   ]
  },
  {
   "cell_type": "code",
   "execution_count": 132,
   "metadata": {},
   "outputs": [
    {
     "name": "stdout",
     "output_type": "stream",
     "text": [
      "fn_0_basic_block_1\n",
      "fn_2_basic_block_4\n",
      "fn_1_basic_block_1\n",
      "fn_2_basic_block_3\n",
      "fn_2_basic_block_2\n",
      "fn_1_basic_block_0\n",
      "fn_0_basic_block_0\n",
      "fn_0_basic_block_2\n",
      "fn_0_basic_block_3\n",
      "fn_0_basic_block_4\n",
      "fn_0_basic_block_5\n",
      "fn_1_basic_block_2\n",
      "fn_1_basic_block_3\n",
      "fn_2_basic_block_0\n",
      "fn_2_basic_block_5\n",
      "fn_2_basic_block_7\n",
      "fn_2_basic_block_6\n",
      "fn_2_basic_block_8\n",
      "fn_2_basic_block_1\n"
     ]
    }
   ],
   "source": [
    "for node in G.nodes():\n",
    "    print(node)"
   ]
  },
  {
   "cell_type": "code",
   "execution_count": 133,
   "metadata": {},
   "outputs": [
    {
     "data": {
      "text/plain": [
       "'main'"
      ]
     },
     "execution_count": 133,
     "metadata": {},
     "output_type": "execute_result"
    }
   ],
   "source": [
    "def get_none_in_degree_nodes (G):\n",
    "    nodes = []\n",
    "    for (node, degree) in G.in_degree():\n",
    "        if (degree == 0):\n",
    "            nodes.append(node)\n",
    "    return nodes\n",
    "\n",
    "nodes = get_none_in_degree_nodes(G)\n",
    "nodes_subgraphs[nodes[0]].get_name()"
   ]
  },
  {
   "cell_type": "code",
   "execution_count": 134,
   "metadata": {},
   "outputs": [
    {
     "name": "stdout",
     "output_type": "stream",
     "text": [
      "{'fn_0_basic_block_1': 0.23529411764705882, 'fn_2_basic_block_4': 0.21241830065359477, 'fn_1_basic_block_1': 0.21241830065359477, 'fn_2_basic_block_3': 0.23529411764705882, 'fn_2_basic_block_2': 0.05555555555555556, 'fn_1_basic_block_0': 0.10457516339869281, 'fn_0_basic_block_0': 0.25163398692810457, 'fn_0_basic_block_2': 0.26143790849673204, 'fn_0_basic_block_3': 0.11764705882352941, 'fn_0_basic_block_4': 0.11764705882352941, 'fn_0_basic_block_5': 0.25163398692810457, 'fn_1_basic_block_2': 0.14705882352941177, 'fn_1_basic_block_3': 0.18300653594771243, 'fn_2_basic_block_0': 0.0, 'fn_2_basic_block_5': 0.06862745098039216, 'fn_2_basic_block_7': 0.10457516339869281, 'fn_2_basic_block_6': 0.06862745098039216, 'fn_2_basic_block_8': 0.05555555555555556, 'fn_2_basic_block_1': 0.0}\n"
     ]
    }
   ],
   "source": [
    "def get_betweeness_centrality (G):\n",
    "    return nx.betweenness_centrality(G)\n",
    "\n",
    "print(get_betweeness_centrality(G))"
   ]
  },
  {
   "cell_type": "code",
   "execution_count": 135,
   "metadata": {},
   "outputs": [
    {
     "name": "stdout",
     "output_type": "stream",
     "text": [
      "True\n"
     ]
    }
   ],
   "source": [
    "def is_acyclic(G):\n",
    "    return nx.is_directed_acyclic_graph(G)\n",
    "\n",
    "print(is_acyclic(G))"
   ]
  },
  {
   "cell_type": "code",
   "execution_count": 136,
   "metadata": {},
   "outputs": [
    {
     "data": {
      "text/plain": [
       "['fn_2_basic_block_0',\n",
       " 'fn_2_basic_block_2',\n",
       " 'fn_1_basic_block_0',\n",
       " 'fn_1_basic_block_2',\n",
       " 'fn_1_basic_block_3',\n",
       " 'fn_1_basic_block_1',\n",
       " 'fn_2_basic_block_3',\n",
       " 'fn_0_basic_block_0',\n",
       " 'fn_0_basic_block_2',\n",
       " 'fn_0_basic_block_3',\n",
       " 'fn_0_basic_block_5',\n",
       " 'fn_0_basic_block_1',\n",
       " 'fn_2_basic_block_4',\n",
       " 'fn_2_basic_block_5',\n",
       " 'fn_2_basic_block_7',\n",
       " 'fn_2_basic_block_8',\n",
       " 'fn_2_basic_block_1']"
      ]
     },
     "execution_count": 136,
     "metadata": {},
     "output_type": "execute_result"
    }
   ],
   "source": [
    "def get_longest_path(G):\n",
    "    if (is_acyclic(G)):\n",
    "        return nx.algorithms.dag_longest_path(G)\n",
    "    raise Exception(\"Le graphe contient un cycle, il n'a pas de plus long chemin\")\n",
    "    \n",
    "get_longest_path(G)"
   ]
  },
  {
   "cell_type": "code",
   "execution_count": 137,
   "metadata": {},
   "outputs": [
    {
     "name": "stdout",
     "output_type": "stream",
     "text": [
      "['fn_2_basic_block_0', 'fn_2_basic_block_2', 'fn_1_basic_block_0', 'fn_1_basic_block_2', 'fn_1_basic_block_3', 'fn_1_basic_block_1', 'fn_2_basic_block_3', 'fn_0_basic_block_0', 'fn_0_basic_block_2', 'fn_0_basic_block_3', 'fn_0_basic_block_5', 'fn_0_basic_block_1', 'fn_2_basic_block_4', 'fn_2_basic_block_5', 'fn_2_basic_block_7', 'fn_2_basic_block_8', 'fn_2_basic_block_1']\n"
     ]
    }
   ],
   "source": [
    "def get_shortest_path(G):\n",
    "    global subgraphs\n",
    "    main_number = find_number_in_regex(r'fn_\\d+',subgraphs[\"main\"].get_nodes()[1].get_name())\n",
    "    source = \"fn_\" + main_number + \"_basic_block_0\"\n",
    "    target = \"fn_\" + main_number + \"_basic_block_1\"\n",
    "    return nx.algorithms.shortest_paths.unweighted.bidirectional_shortest_path(G, source, target)\n",
    "\n",
    "print(get_shortest_path(G))"
   ]
  },
  {
   "cell_type": "code",
   "execution_count": 140,
   "metadata": {},
   "outputs": [],
   "source": [
    "def main (file):\n",
    "    global subgraphs, nodes_subgraphs\n",
    "    subgraphs = {}\n",
    "    nodes_subgraphs = {}\n",
    "    pydot_graph = get_graph_from_dot(file)\n",
    "    extract_subgraphs([pydot_graph])\n",
    "    associate_node_subgraph(pydot_graph)\n",
    "    move_edges(pydot_graph.get_name())\n",
    "    nx_graph = get_networkx_graph(pydot_graph)\n",
    "    \n",
    "    none_in_degree_nodes = get_none_in_degree_nodes(nx_graph)\n",
    "    is_acyclic_graph = is_acyclic(nx_graph)\n",
    "    if (is_acyclic_graph):\n",
    "        longest_path = get_longest_path(nx_graph)\n",
    "    shortest_path = get_shortest_path(nx_graph)\n",
    "    \n",
    "    \n",
    "    \n",
    "    \n",
    "    for node in none_in_degree_nodes:\n",
    "        print(\"Il y a un noeud sans entrée dans la fonction \" + nodes_subgraphs[node].get_name() + \"\\n\")\n",
    "    if (is_acyclic_graph):\n",
    "        print(\"Le graphe est acyclique\\n\")\n",
    "        print(\"Le plus long chemin a \" + str(len(longest_path)) + \" noeuds et est le suivant:\")\n",
    "        for node in longest_path:\n",
    "            print(node)\n",
    "        print(\"\")\n",
    "    else:\n",
    "        print(\"Le graphe contient un cycle\\n\")\n",
    "    print(\"Le chemin le plus court a \" + str(len(shortest_path)) + \" noeuds et est le suivant:\")\n",
    "    for node in shortest_path:\n",
    "        print(node)"
   ]
  },
  {
   "cell_type": "code",
   "execution_count": 141,
   "metadata": {},
   "outputs": [
    {
     "name": "stdout",
     "output_type": "stream",
     "text": [
      "fn_0_basic_block_1:s fn_2_basic_block_4:n\n",
      "fn_1_basic_block_1:s fn_2_basic_block_3:n\n",
      "fn_2_basic_block_2:s fn_1_basic_block_0:n\n",
      "fn_2_basic_block_3:s fn_0_basic_block_0:n\n",
      "fn_0_basic_block_0:s fn_0_basic_block_2:n\n",
      "fn_0_basic_block_2:s fn_0_basic_block_3:n\n",
      "fn_0_basic_block_2:s fn_0_basic_block_4:n\n",
      "fn_0_basic_block_3:s fn_0_basic_block_5:n\n",
      "fn_0_basic_block_4:s fn_0_basic_block_5:n\n",
      "fn_0_basic_block_5:s fn_0_basic_block_1:n\n",
      "fn_1_basic_block_0:s fn_1_basic_block_2:n\n",
      "fn_1_basic_block_2:s fn_1_basic_block_3:n\n",
      "fn_1_basic_block_3:s fn_1_basic_block_1:n\n",
      "fn_2_basic_block_0:s fn_2_basic_block_2:n\n",
      "fn_2_basic_block_5:s fn_2_basic_block_7:n\n",
      "fn_2_basic_block_6:s fn_2_basic_block_7:n\n",
      "fn_2_basic_block_7:s fn_2_basic_block_8:n\n",
      "fn_2_basic_block_8:s fn_2_basic_block_1:n\n",
      "fn_2_basic_block_4:s fn_2_basic_block_5:n\n",
      "fn_2_basic_block_4:s fn_2_basic_block_6:n\n",
      "Il y a un noeud sans entrée dans la fonction main\n",
      "\n",
      "Le graphe est acyclique\n",
      "\n",
      "Le plus long chemin a 17 noeuds et est le suivant:\n",
      "fn_2_basic_block_0\n",
      "fn_2_basic_block_2\n",
      "fn_1_basic_block_0\n",
      "fn_1_basic_block_2\n",
      "fn_1_basic_block_3\n",
      "fn_1_basic_block_1\n",
      "fn_2_basic_block_3\n",
      "fn_0_basic_block_0\n",
      "fn_0_basic_block_2\n",
      "fn_0_basic_block_3\n",
      "fn_0_basic_block_5\n",
      "fn_0_basic_block_1\n",
      "fn_2_basic_block_4\n",
      "fn_2_basic_block_5\n",
      "fn_2_basic_block_7\n",
      "fn_2_basic_block_8\n",
      "fn_2_basic_block_1\n",
      "\n",
      "Le chemin le plus court a 17 noeuds et est le suivant:\n",
      "fn_2_basic_block_0\n",
      "fn_2_basic_block_2\n",
      "fn_1_basic_block_0\n",
      "fn_1_basic_block_2\n",
      "fn_1_basic_block_3\n",
      "fn_1_basic_block_1\n",
      "fn_2_basic_block_3\n",
      "fn_0_basic_block_0\n",
      "fn_0_basic_block_2\n",
      "fn_0_basic_block_3\n",
      "fn_0_basic_block_5\n",
      "fn_0_basic_block_1\n",
      "fn_2_basic_block_4\n",
      "fn_2_basic_block_5\n",
      "fn_2_basic_block_7\n",
      "fn_2_basic_block_8\n",
      "fn_2_basic_block_1\n"
     ]
    }
   ],
   "source": [
    "main('./main_output.dot')"
   ]
  },
  {
   "cell_type": "code",
   "execution_count": null,
   "metadata": {},
   "outputs": [],
   "source": []
  }
 ],
 "metadata": {
  "kernelspec": {
   "display_name": "Python 3",
   "language": "python",
   "name": "python3"
  },
  "language_info": {
   "codemirror_mode": {
    "name": "ipython",
    "version": 3
   },
   "file_extension": ".py",
   "mimetype": "text/x-python",
   "name": "python",
   "nbconvert_exporter": "python",
   "pygments_lexer": "ipython3",
   "version": "3.7.2"
  }
 },
 "nbformat": 4,
 "nbformat_minor": 2
}
