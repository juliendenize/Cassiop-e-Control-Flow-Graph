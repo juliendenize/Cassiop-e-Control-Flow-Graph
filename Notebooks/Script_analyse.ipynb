{
 "cells": [
  {
   "cell_type": "code",
   "execution_count": 2,
   "metadata": {},
   "outputs": [],
   "source": [
    "import networkx as nx\n",
    "import matplotlib.pyplot as plt\n",
    "import pydot\n",
    "from pydot import Edge\n",
    "from pydot import Node\n",
    "import re\n",
    "import networkx.algorithms.approximation\n",
    "\n",
    "global subgraphs, nodes_subgraphs\n",
    "subgraphs = {}\n",
    "nodes_subgraphs = {}"
   ]
  },
  {
   "cell_type": "code",
   "execution_count": 3,
   "metadata": {},
   "outputs": [],
   "source": [
    "def get_graph_from_dot(file):\n",
    "    \"\"\"\n",
    "       Import a graph from dot and return the pydot graph\n",
    "       \n",
    "       :param file: path to the file to import\n",
    "       :return: pydot graph\n",
    "       :rtype: Dot\n",
    "    \"\"\"\n",
    "    (graph, ) = pydot.graph_from_dot_file(str(file))\n",
    "    return graph\n",
    "\n",
    "graph = get_graph_from_dot('./main_output.dot')"
   ]
  },
  {
   "cell_type": "code",
   "execution_count": 4,
   "metadata": {},
   "outputs": [],
   "source": [
    "def extract_subgraphs(subgraph_list):\n",
    "    global subgraphs\n",
    "    \"\"\"\n",
    "       Extract subgraphs recursively from a list of subgraphs, and the hierarchy of the subgraphs\n",
    "       \n",
    "       :param graph: graph or subgraph from which subgraphs are to be extracted\n",
    "       :return: List of subgraphs\n",
    "       :rtype: List\n",
    "    \"\"\"\n",
    "    new_subgraphs = []\n",
    "    for subgraph in subgraph_list:\n",
    "        subgraph.set_name(subgraph.get_name().strip(\"\\\"\").replace(\"cluster_\", \"\"))\n",
    "        subgraphs[subgraph.get_name()] = subgraph\n",
    "        children_subgraphs = subgraph.get_subgraph_list() \n",
    "        new_subgraphs += children_subgraphs\n",
    "    if(new_subgraphs == []):\n",
    "        return\n",
    "    else:\n",
    "        return extract_subgraphs(new_subgraphs)\n",
    "\n",
    "extract_subgraphs([graph])"
   ]
  },
  {
   "cell_type": "code",
   "execution_count": 5,
   "metadata": {},
   "outputs": [
    {
     "name": "stdout",
     "output_type": "stream",
     "text": [
      "{'fn_0_basic_block_0': <pydot.Subgraph object at 0x7f73dd6cc208>, 'fn_0_basic_block_1': <pydot.Subgraph object at 0x7f73dd6cc208>, 'fn_0_basic_block_2': <pydot.Subgraph object at 0x7f73dd6cc208>, 'fn_0_basic_block_3': <pydot.Subgraph object at 0x7f73dd6cc208>, 'fn_0_basic_block_4': <pydot.Subgraph object at 0x7f73dd6cc208>, 'fn_0_basic_block_5': <pydot.Subgraph object at 0x7f73dd6cc208>, 'fn_1_basic_block_0': <pydot.Subgraph object at 0x7f73dd700550>, 'fn_1_basic_block_1': <pydot.Subgraph object at 0x7f73dd700550>, 'fn_1_basic_block_2': <pydot.Subgraph object at 0x7f73dd700550>, 'fn_1_basic_block_3': <pydot.Subgraph object at 0x7f73dd700550>, 'fn_2_basic_block_0': <pydot.Subgraph object at 0x7f73dd6f97b8>, 'fn_2_basic_block_1': <pydot.Subgraph object at 0x7f73dd6f97b8>, 'fn_2_basic_block_2': <pydot.Subgraph object at 0x7f73dd6f97b8>, 'fn_2_basic_block_5': <pydot.Subgraph object at 0x7f73dd6f97b8>, 'fn_2_basic_block_7': <pydot.Subgraph object at 0x7f73dd6f97b8>, 'fn_2_basic_block_6': <pydot.Subgraph object at 0x7f73dd6f97b8>, 'fn_2_basic_block_8': <pydot.Subgraph object at 0x7f73dd6f97b8>, 'fn_2_basic_block_3': <pydot.Subgraph object at 0x7f73dd6f97b8>, 'fn_2_basic_block_4': <pydot.Subgraph object at 0x7f73dd6f97b8>}\n"
     ]
    }
   ],
   "source": [
    "def associate_node_subgraph (graph):\n",
    "    global nodes_subgraphs, subgraphs\n",
    "    \n",
    "    for key, subgraph in subgraphs.items():\n",
    "        if(type(subgraph) == pydot.Subgraph):\n",
    "            for node in subgraph.get_nodes():\n",
    "                if(node.get_name() != 'graph'):\n",
    "                    nodes_subgraphs[node.get_name()] = subgraph\n",
    "\n",
    "associate_node_subgraph(graph)\n",
    "print(nodes_subgraphs)"
   ]
  },
  {
   "cell_type": "code",
   "execution_count": 6,
   "metadata": {},
   "outputs": [
    {
     "name": "stdout",
     "output_type": "stream",
     "text": [
      "34\n"
     ]
    }
   ],
   "source": [
    "def find_number_in_regex(regex, string):\n",
    "    return re.search(r'\\d+', re.search(regex, string).group()).group()\n",
    "\n",
    "print(find_number_in_regex(r'yolo_\\d+', \"j'aime le yolo_34 zqfzef\"))"
   ]
  },
  {
   "cell_type": "code",
   "execution_count": 7,
   "metadata": {},
   "outputs": [
    {
     "name": "stdout",
     "output_type": "stream",
     "text": [
      "fn_0_basic_block_1:s fn_2_basic_block_4:n\n",
      "fn_1_basic_block_1:s fn_2_basic_block_3:n\n",
      "fn_2_basic_block_2:s fn_1_basic_block_0:n\n",
      "fn_2_basic_block_3:s fn_0_basic_block_0:n\n",
      "fn_0_basic_block_0:s fn_0_basic_block_2:n\n",
      "fn_0_basic_block_2:s fn_0_basic_block_3:n\n",
      "fn_0_basic_block_2:s fn_0_basic_block_4:n\n",
      "fn_0_basic_block_3:s fn_0_basic_block_5:n\n",
      "fn_0_basic_block_4:s fn_0_basic_block_5:n\n",
      "fn_0_basic_block_5:s fn_0_basic_block_1:n\n",
      "fn_1_basic_block_0:s fn_1_basic_block_2:n\n",
      "fn_1_basic_block_2:s fn_1_basic_block_3:n\n",
      "fn_1_basic_block_3:s fn_1_basic_block_1:n\n",
      "fn_2_basic_block_0:s fn_2_basic_block_2:n\n",
      "fn_2_basic_block_5:s fn_2_basic_block_7:n\n",
      "fn_2_basic_block_6:s fn_2_basic_block_7:n\n",
      "fn_2_basic_block_7:s fn_2_basic_block_8:n\n",
      "fn_2_basic_block_8:s fn_2_basic_block_1:n\n",
      "fn_2_basic_block_4:s fn_2_basic_block_5:n\n",
      "fn_2_basic_block_4:s fn_2_basic_block_6:n\n",
      "[<pydot.Edge object at 0x7f73dd86a550>, <pydot.Edge object at 0x7f73dd8ac0f0>, <pydot.Edge object at 0x7f73dd897fd0>, <pydot.Edge object at 0x7f73dd897ef0>, <pydot.Edge object at 0x7f73dd897e80>, <pydot.Edge object at 0x7f73dd84a438>, <pydot.Edge object at 0x7f73dd7ca208>, <pydot.Edge object at 0x7f73dd7c6f98>, <pydot.Edge object at 0x7f73dd825438>, <pydot.Edge object at 0x7f73dd786710>, <pydot.Edge object at 0x7f73dd8707b8>, <pydot.Edge object at 0x7f73dd8ec358>, <pydot.Edge object at 0x7f73dd96d390>, <pydot.Edge object at 0x7f73dd64e438>, <pydot.Edge object at 0x7f73dd64e048>, <pydot.Edge object at 0x7f73dd69fe80>, <pydot.Edge object at 0x7f73dd65dcc0>, <pydot.Edge object at 0x7f73dd7830b8>, <pydot.Edge object at 0x7f73dd8e4748>, <pydot.Edge object at 0x7f73dd8e2d68>]\n"
     ]
    }
   ],
   "source": [
    "def move_edges (graph_name):\n",
    "    global subgraphs\n",
    "    \n",
    "    for key, subgraph in subgraphs.items():\n",
    "        for edge in subgraph.get_edges():\n",
    "            node_head = edge.get_source()\n",
    "            node_tail = edge.get_destination()\n",
    "            subgraph.del_edge(node_head, node_tail, 0)\n",
    "            if(find_number_in_regex(r'block_\\d+', node_head) != \"0\" \n",
    "                or find_number_in_regex(r'block_\\d+', node_tail) != \"1\"):\n",
    "                print(node_head + \" \" + node_tail)\n",
    "                subgraphs[graph_name].add_edge(Edge(node_head[:-2], node_tail[:-2]))\n",
    "            \n",
    "move_edges(graph.get_name())\n",
    "print(graph.get_edges())"
   ]
  },
  {
   "cell_type": "code",
   "execution_count": 8,
   "metadata": {},
   "outputs": [
    {
     "name": "stdout",
     "output_type": "stream",
     "text": [
      "test.c.011t.cfg\n"
     ]
    }
   ],
   "source": [
    "def get_networkx_graph(graph):\n",
    "    G = nx.drawing.nx_pydot.from_pydot(graph)\n",
    "    nx.freeze(G)\n",
    "    return G\n",
    "\n",
    "G = get_networkx_graph(graph)\n",
    "print(G)"
   ]
  },
  {
   "cell_type": "code",
   "execution_count": 9,
   "metadata": {},
   "outputs": [
    {
     "name": "stdout",
     "output_type": "stream",
     "text": [
      "fn_0_basic_block_1\n",
      "fn_2_basic_block_4\n",
      "fn_1_basic_block_1\n",
      "fn_2_basic_block_3\n",
      "fn_2_basic_block_2\n",
      "fn_1_basic_block_0\n",
      "fn_0_basic_block_0\n",
      "fn_0_basic_block_2\n",
      "fn_0_basic_block_3\n",
      "fn_0_basic_block_4\n",
      "fn_0_basic_block_5\n",
      "fn_1_basic_block_2\n",
      "fn_1_basic_block_3\n",
      "fn_2_basic_block_0\n",
      "fn_2_basic_block_5\n",
      "fn_2_basic_block_7\n",
      "fn_2_basic_block_6\n",
      "fn_2_basic_block_8\n",
      "fn_2_basic_block_1\n"
     ]
    }
   ],
   "source": [
    "for node in G.nodes():\n",
    "    print(node)"
   ]
  },
  {
   "cell_type": "code",
   "execution_count": 10,
   "metadata": {},
   "outputs": [
    {
     "data": {
      "text/plain": [
       "'main'"
      ]
     },
     "execution_count": 10,
     "metadata": {},
     "output_type": "execute_result"
    }
   ],
   "source": [
    "def get_none_in_degree_nodes (G):\n",
    "    nodes = []\n",
    "    for (node, degree) in G.in_degree():\n",
    "        if (degree == 0):\n",
    "            nodes.append(node)\n",
    "    return nodes\n",
    "\n",
    "nodes = get_none_in_degree_nodes(G)\n",
    "nodes_subgraphs[nodes[0]].get_name()"
   ]
  },
  {
   "cell_type": "code",
   "execution_count": 11,
   "metadata": {},
   "outputs": [
    {
     "name": "stdout",
     "output_type": "stream",
     "text": [
      "{'fn_0_basic_block_1': 0.23529411764705882, 'fn_2_basic_block_4': 0.21241830065359477, 'fn_1_basic_block_1': 0.21241830065359477, 'fn_2_basic_block_3': 0.23529411764705882, 'fn_2_basic_block_2': 0.05555555555555556, 'fn_1_basic_block_0': 0.10457516339869281, 'fn_0_basic_block_0': 0.25163398692810457, 'fn_0_basic_block_2': 0.26143790849673204, 'fn_0_basic_block_3': 0.11764705882352941, 'fn_0_basic_block_4': 0.11764705882352941, 'fn_0_basic_block_5': 0.25163398692810457, 'fn_1_basic_block_2': 0.14705882352941177, 'fn_1_basic_block_3': 0.18300653594771243, 'fn_2_basic_block_0': 0.0, 'fn_2_basic_block_5': 0.06862745098039216, 'fn_2_basic_block_7': 0.10457516339869281, 'fn_2_basic_block_6': 0.06862745098039216, 'fn_2_basic_block_8': 0.05555555555555556, 'fn_2_basic_block_1': 0.0}\n"
     ]
    }
   ],
   "source": [
    "def get_betweeness_centrality (G):\n",
    "    return nx.betweenness_centrality(G)\n",
    "\n",
    "print(get_betweeness_centrality(G))"
   ]
  },
  {
   "cell_type": "code",
   "execution_count": 12,
   "metadata": {},
   "outputs": [
    {
     "name": "stdout",
     "output_type": "stream",
     "text": [
      "True\n"
     ]
    }
   ],
   "source": [
    "def is_acyclic(G):\n",
    "    return nx.is_directed_acyclic_graph(G)\n",
    "\n",
    "print(is_acyclic(G))"
   ]
  },
  {
   "cell_type": "code",
   "execution_count": 13,
   "metadata": {},
   "outputs": [
    {
     "data": {
      "text/plain": [
       "['fn_2_basic_block_0',\n",
       " 'fn_2_basic_block_2',\n",
       " 'fn_1_basic_block_0',\n",
       " 'fn_1_basic_block_2',\n",
       " 'fn_1_basic_block_3',\n",
       " 'fn_1_basic_block_1',\n",
       " 'fn_2_basic_block_3',\n",
       " 'fn_0_basic_block_0',\n",
       " 'fn_0_basic_block_2',\n",
       " 'fn_0_basic_block_3',\n",
       " 'fn_0_basic_block_5',\n",
       " 'fn_0_basic_block_1',\n",
       " 'fn_2_basic_block_4',\n",
       " 'fn_2_basic_block_5',\n",
       " 'fn_2_basic_block_7',\n",
       " 'fn_2_basic_block_8',\n",
       " 'fn_2_basic_block_1']"
      ]
     },
     "execution_count": 13,
     "metadata": {},
     "output_type": "execute_result"
    }
   ],
   "source": [
    "def get_longest_path(G):\n",
    "    if (is_acyclic(G)):\n",
    "        return nx.algorithms.dag_longest_path(G)\n",
    "    raise Exception(\"Le graphe contient un cycle, il n'a pas de plus long chemin\")\n",
    "    \n",
    "get_longest_path(G)"
   ]
  },
  {
   "cell_type": "code",
   "execution_count": 14,
   "metadata": {},
   "outputs": [
    {
     "name": "stdout",
     "output_type": "stream",
     "text": [
      "['fn_2_basic_block_0', 'fn_2_basic_block_2', 'fn_1_basic_block_0', 'fn_1_basic_block_2', 'fn_1_basic_block_3', 'fn_1_basic_block_1', 'fn_2_basic_block_3', 'fn_0_basic_block_0', 'fn_0_basic_block_2', 'fn_0_basic_block_3', 'fn_0_basic_block_5', 'fn_0_basic_block_1', 'fn_2_basic_block_4', 'fn_2_basic_block_5', 'fn_2_basic_block_7', 'fn_2_basic_block_8', 'fn_2_basic_block_1']\n"
     ]
    }
   ],
   "source": [
    "def get_shortest_path(G):\n",
    "    global subgraphs\n",
    "    main_number = find_number_in_regex(r'fn_\\d+',subgraphs[\"main\"].get_nodes()[1].get_name())\n",
    "    source = \"fn_\" + main_number + \"_basic_block_0\"\n",
    "    target = \"fn_\" + main_number + \"_basic_block_1\"\n",
    "    return nx.algorithms.shortest_paths.unweighted.bidirectional_shortest_path(G, source, target)\n",
    "\n",
    "print(get_shortest_path(G))"
   ]
  },
  {
   "cell_type": "code",
   "execution_count": 15,
   "metadata": {},
   "outputs": [
    {
     "name": "stdout",
     "output_type": "stream",
     "text": [
      "{'fn_2_basic_block_8', 'fn_2_basic_block_1'}\n"
     ]
    }
   ],
   "source": [
    "\"\"\"\n",
    "Finds the Maximum Clique.\n",
    "\"\"\"\n",
    "def get_max_clique(G):\n",
    "    return nx.algorithms.approximation.clique.max_clique(G)\n",
    "    \n",
    "print(get_max_clique(G))"
   ]
  },
  {
   "cell_type": "code",
   "execution_count": 16,
   "metadata": {},
   "outputs": [
    {
     "name": "stdout",
     "output_type": "stream",
     "text": [
      "{'fn_2_basic_block_6', 'fn_2_basic_block_2', 'fn_0_basic_block_1', 'fn_2_basic_block_0', 'fn_2_basic_block_5', 'fn_1_basic_block_2', 'fn_0_basic_block_4', 'fn_1_basic_block_1', 'fn_2_basic_block_1', 'fn_0_basic_block_3', 'fn_0_basic_block_0'}\n"
     ]
    }
   ],
   "source": [
    "\"\"\"\n",
    "Returns an approximate maximum independent set.\n",
    "\"\"\"\n",
    "def get_max_independent_set(G):\n",
    "    return nx.algorithms.approximation.independent_set.maximum_independent_set(G)\n",
    "\n",
    "print(get_max_independent_set(G))"
   ]
  },
  {
   "cell_type": "code",
   "execution_count": 17,
   "metadata": {},
   "outputs": [
    {
     "data": {
      "text/plain": [
       "-0.2500000000000021"
      ]
     },
     "execution_count": 17,
     "metadata": {},
     "output_type": "execute_result"
    }
   ],
   "source": [
    "\"\"\"\n",
    "Computes the degree assortativity of graph.\n",
    "\"\"\"\n",
    "def get_degree_assortativity_coefficient(G):\n",
    "    return nx.algorithms.assortativity.degree_assortativity_coefficient(G)\n",
    "\n",
    "get_degree_assortativity_coefficient(G)"
   ]
  },
  {
   "cell_type": "code",
   "execution_count": 18,
   "metadata": {},
   "outputs": [
    {
     "data": {
      "text/plain": [
       "{2: 1.1923076923076923, 3: 1.0, 1: 1.0}"
      ]
     },
     "execution_count": 18,
     "metadata": {},
     "output_type": "execute_result"
    }
   ],
   "source": [
    "\"\"\"\n",
    "Computes the average degree connectivity of graph.\n",
    "\"\"\"\n",
    "def get_average_degree_connectivity(G):\n",
    "    return nx.algorithms.assortativity.average_degree_connectivity(G)\n",
    "\n",
    "get_average_degree_connectivity(G)"
   ]
  },
  {
   "cell_type": "code",
   "execution_count": 19,
   "metadata": {},
   "outputs": [
    {
     "name": "stdout",
     "output_type": "stream",
     "text": [
      "0.0\n"
     ]
    }
   ],
   "source": [
    "\"\"\"\n",
    "Computes the reciprocity in a directed graph.\n",
    "\"\"\"\n",
    "def get_reciprocity(G):\n",
    "    return nx.algorithms.reciprocity(G)\n",
    "\n",
    "print(get_reciprocity(G))"
   ]
  },
  {
   "cell_type": "code",
   "execution_count": 20,
   "metadata": {},
   "outputs": [
    {
     "name": "stdout",
     "output_type": "stream",
     "text": [
      "[]\n"
     ]
    }
   ],
   "source": [
    "\"\"\"\n",
    "Returns thee nodes with no neighbours.\n",
    "\"\"\"\n",
    "def get_isolates(G):\n",
    "    return list(nx.algorithms.isolate.isolates(G))\n",
    "\n",
    "print(get_isolates(G))"
   ]
  },
  {
   "cell_type": "code",
   "execution_count": 21,
   "metadata": {},
   "outputs": [
    {
     "name": "stdout",
     "output_type": "stream",
     "text": [
      "True\n"
     ]
    }
   ],
   "source": [
    "def is_connected(G):\n",
    "    return nx.is_weakly_connected(G)\n",
    "\n",
    "print(is_connected(G))"
   ]
  },
  {
   "cell_type": "code",
   "execution_count": 22,
   "metadata": {},
   "outputs": [],
   "source": [
    "def main (file):\n",
    "    global subgraphs, nodes_subgraphs\n",
    "    subgraphs = {}\n",
    "    nodes_subgraphs = {}\n",
    "    pydot_graph = get_graph_from_dot(file)\n",
    "    extract_subgraphs([pydot_graph])\n",
    "    associate_node_subgraph(pydot_graph)\n",
    "    move_edges(pydot_graph.get_name())\n",
    "    nx_graph = get_networkx_graph(pydot_graph)\n",
    "    \n",
    "    none_in_degree_nodes = get_none_in_degree_nodes(nx_graph)\n",
    "    is_acyclic_graph = is_acyclic(nx_graph)\n",
    "    if (is_acyclic_graph):\n",
    "        longest_path = get_longest_path(nx_graph)\n",
    "    shortest_path = get_shortest_path(nx_graph)\n",
    "    \n",
    "    \n",
    "    \n",
    "    \n",
    "    for node in none_in_degree_nodes:\n",
    "        print(\"Il y a un noeud sans entrée dans la fonction \" + nodes_subgraphs[node].get_name() + \"\\n\")\n",
    "    if (is_acyclic_graph):\n",
    "        print(\"Le graphe est acyclique\\n\")\n",
    "        print(\"Le plus long chemin a \" + str(len(longest_path)) + \" noeuds et est le suivant:\")\n",
    "        for node in longest_path:\n",
    "            print(node)\n",
    "        print(\"\")\n",
    "    else:\n",
    "        print(\"Le graphe contient un cycle\\n\")\n",
    "    print(\"Le chemin le plus court a \" + str(len(shortest_path)) + \" noeuds et est le suivant:\")\n",
    "    for node in shortest_path:\n",
    "        print(node)\n",
    "    \n",
    "    print(\"\\n\")\n",
    "    print(\"Les plus grandes cliques sont de taille \" + str(len(get_max_clique(nx_graph))))\n",
    "    print(\"Les plus grandes sets indépendants sont \" + str(len(get_max_independent_set(nx_graph))))\n",
    "    print(\"Le graphe a un degré d'assortivité de \" + str(get_degree_assortativity_coefficient(nx_graph)))\n",
    "    print(\"Le graphe a une connectivité moyenne de \" + str(get_average_degree_connectivity(nx_graph)))\n",
    "    print(\"Le graphe a une réciprocité de \" + str(get_reciprocity(nx_graph)))\n",
    "    \n",
    "    isolated_nodes = get_isolates(nx_graph)\n",
    "    if (len(isolated_nodes) > 0):\n",
    "        print(\"Les noeuds isolés sont :\")\n",
    "        for isolated_node in isolated_nodes:\n",
    "            print(isolated_node)\n",
    "    else:\n",
    "        print(\"Il n'y a pas de noeuds isolés.\")\n",
    "    if (is_connected(nx_graph)):\n",
    "        print(\"Le graphe est connexe\")\n",
    "    else:\n",
    "        print(\"Le graphe n'est pas connexe\")"
   ]
  },
  {
   "cell_type": "code",
   "execution_count": 23,
   "metadata": {},
   "outputs": [
    {
     "name": "stdout",
     "output_type": "stream",
     "text": [
      "fn_0_basic_block_0:s fn_0_basic_block_2:n\n",
      "fn_0_basic_block_2:s fn_0_basic_block_3:n\n",
      "fn_0_basic_block_3:s fn_0_basic_block_1:n\n",
      "fn_1_basic_block_0:s fn_1_basic_block_2:n\n",
      "fn_1_basic_block_2:s fn_1_basic_block_3:n\n",
      "fn_1_basic_block_3:s fn_1_basic_block_1:n\n",
      "Il y a un noeud sans entrée dans la fonction foo\n",
      "\n",
      "Il y a un noeud sans entrée dans la fonction main\n",
      "\n",
      "Le graphe est acyclique\n",
      "\n",
      "Le plus long chemin a 4 noeuds et est le suivant:\n",
      "fn_1_basic_block_0\n",
      "fn_1_basic_block_2\n",
      "fn_1_basic_block_3\n",
      "fn_1_basic_block_1\n",
      "\n",
      "Le chemin le plus court a 4 noeuds et est le suivant:\n",
      "fn_1_basic_block_0\n",
      "fn_1_basic_block_2\n",
      "fn_1_basic_block_3\n",
      "fn_1_basic_block_1\n",
      "\n",
      "\n",
      "Les plus grandes cliques sont de taille 2\n",
      "Les plus grandes sets indépendants sont 4\n",
      "Le graphe a un degré d'assortivité de nan\n",
      "Le graphe a une connectivité moyenne de {1: 1.0, 2: 0.75}\n",
      "Le graphe a une réciprocité de 0.0\n",
      "Il n'y a pas de noeuds isolés.\n",
      "Le graphe n'est pas connexe\n"
     ]
    },
    {
     "name": "stderr",
     "output_type": "stream",
     "text": [
      "/home/julien/anaconda3/lib/python3.7/site-packages/networkx/algorithms/assortativity/correlation.py:288: RuntimeWarning: invalid value encountered in double_scalars\n",
      "  return (xy * (M - ab)).sum() / numpy.sqrt(vara * varb)\n"
     ]
    }
   ],
   "source": [
    "main('../Tests/fonction inutilisée/main.c.011t.cfg.dot')"
   ]
  },
  {
   "cell_type": "code",
   "execution_count": null,
   "metadata": {},
   "outputs": [],
   "source": []
  }
 ],
 "metadata": {
  "kernelspec": {
   "display_name": "Python 3",
   "language": "python",
   "name": "python3"
  },
  "language_info": {
   "codemirror_mode": {
    "name": "ipython",
    "version": 3
   },
   "file_extension": ".py",
   "mimetype": "text/x-python",
   "name": "python",
   "nbconvert_exporter": "python",
   "pygments_lexer": "ipython3",
   "version": "3.7.3"
  }
 },
 "nbformat": 4,
 "nbformat_minor": 2
}
