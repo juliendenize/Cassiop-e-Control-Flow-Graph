{
 "cells": [
  {
   "cell_type": "markdown",
   "metadata": {},
   "source": [
    "# <span style=\"color:purple\">Script edit dot</span>"
   ]
  },
  {
   "cell_type": "code",
   "execution_count": 157,
   "metadata": {},
   "outputs": [],
   "source": [
    "import pydot\n",
    "from pydot import Edge\n",
    "from pydot import Node\n",
    "import re\n",
    "global subgraphs\n",
    "subgraphs={}"
   ]
  },
  {
   "cell_type": "markdown",
   "metadata": {},
   "source": [
    "#### Import a graph from dot and return the pydot graph"
   ]
  },
  {
   "cell_type": "code",
   "execution_count": 89,
   "metadata": {},
   "outputs": [],
   "source": [
    "def graph_from_dot(file):\n",
    "    \"\"\"\n",
    "       Import a graph from dot and return the pydot graph\n",
    "       \n",
    "       :param file: path to the file to import\n",
    "       :return: pydot graph\n",
    "       :rtype: Dot\n",
    "    \"\"\"\n",
    "    (graph, ) = pydot.graph_from_dot_file(str(file))\n",
    "    return graph"
   ]
  },
  {
   "cell_type": "code",
   "execution_count": 90,
   "metadata": {},
   "outputs": [],
   "source": [
    "G = graph_from_dot(\"../Tests/while_with_foo/test.c.011t.cfg.dot\");"
   ]
  },
  {
   "cell_type": "markdown",
   "metadata": {},
   "source": [
    "#### Extract subgraphs, edges, nodes"
   ]
  },
  {
   "cell_type": "code",
   "execution_count": 91,
   "metadata": {},
   "outputs": [],
   "source": [
    "def extract_subgraphs(subgraph_list):\n",
    "    global subgraphs\n",
    "    \"\"\"\n",
    "       Extract subgraphs from a list of subgraphs\n",
    "       \n",
    "       :param graph: graph or subgraph from which subgraphs are to be extracted\n",
    "       :return: List of subgraphs\n",
    "       :rtype: List\n",
    "    \"\"\"\n",
    "    new_subgraphs = []\n",
    "    for subgraph in subgraph_list:\n",
    "        subgraph.set_name(subgraph.get_name().strip(\"\\\"\").replace(\"cluster_\", \"\"))\n",
    "        subgraphs[subgraph.get_name()] = subgraph\n",
    "        new_subgraphs += subgraph.get_subgraph_list()\n",
    "    if(new_subgraphs == []):\n",
    "        return\n",
    "    else:\n",
    "        return extract_subgraphs(new_subgraphs)"
   ]
  },
  {
   "cell_type": "code",
   "execution_count": 92,
   "metadata": {},
   "outputs": [
    {
     "name": "stdout",
     "output_type": "stream",
     "text": [
      "{'test.c.011t.cfg': <pydot.Dot object at 0x7faceb3f3f98>, 'foo': <pydot.Subgraph object at 0x7faceb275eb8>, 'main': <pydot.Subgraph object at 0x7faceb564f98>, '1_1': <pydot.Subgraph object at 0x7faceb278160>}\n"
     ]
    }
   ],
   "source": [
    "extract_subgraphs([G])\n",
    "print(subgraphs)"
   ]
  },
  {
   "cell_type": "code",
   "execution_count": 93,
   "metadata": {},
   "outputs": [],
   "source": [
    "def extract_nodes(graph):\n",
    "    \"\"\"\n",
    "       Extract nodes from a graph or subgraph\n",
    "       \n",
    "       :param graph: graph or subgraph from which nodes are to be extracted\n",
    "       :return: List of nodes\n",
    "       :rtype: List\n",
    "    \"\"\"\n",
    "    return graph.get_nodes()"
   ]
  },
  {
   "cell_type": "code",
   "execution_count": 95,
   "metadata": {},
   "outputs": [
    {
     "name": "stdout",
     "output_type": "stream",
     "text": [
      "[<pydot.Node object at 0x7faceb272cf8>, <pydot.Node object at 0x7faceb272d30>, <pydot.Node object at 0x7faceb272f98>, <pydot.Node object at 0x7faceb25bfd0>, <pydot.Node object at 0x7faceb275128>, <pydot.Node object at 0x7faceb28ddd8>]\n"
     ]
    }
   ],
   "source": [
    "nodes_main = extract_nodes(subgraphs['foo'])\n",
    "print(nodes_main)"
   ]
  },
  {
   "cell_type": "code",
   "execution_count": 96,
   "metadata": {},
   "outputs": [],
   "source": [
    "def extract_edges(graph):\n",
    "    \"\"\"\n",
    "       Extract edges from a graph or subgraph\n",
    "       \n",
    "       :param graph: graph or subgraph from which edges are to be extracted\n",
    "       :return: List of edges\n",
    "       :rtype: List\n",
    "    \"\"\"\n",
    "    return graph.get_edges()"
   ]
  },
  {
   "cell_type": "code",
   "execution_count": 98,
   "metadata": {},
   "outputs": [
    {
     "name": "stdout",
     "output_type": "stream",
     "text": [
      "[<pydot.Edge object at 0x7faceb2ad1d0>, <pydot.Edge object at 0x7faceb2763c8>, <pydot.Edge object at 0x7faceb24ccf8>, <pydot.Edge object at 0x7faceb25b710>, <pydot.Edge object at 0x7faceb5a4860>, <pydot.Edge object at 0x7faceb5a30b8>, <pydot.Edge object at 0x7faceb613cc0>, <pydot.Edge object at 0x7faceb2a6550>, <pydot.Edge object at 0x7faceb3da828>, <pydot.Edge object at 0x7faceb5d4e48>, <pydot.Edge object at 0x7faceb563668>]\n"
     ]
    }
   ],
   "source": [
    "edges_main = extract_edges(subgraphs['main'])\n",
    "print(edges_main)"
   ]
  },
  {
   "cell_type": "markdown",
   "metadata": {},
   "source": [
    "#### Add an edge, a node"
   ]
  },
  {
   "cell_type": "code",
   "execution_count": 99,
   "metadata": {},
   "outputs": [],
   "source": [
    "def add_edge(graph, tail_node, head_node, label=\"[0%]\", style=\"solid, bold\", color=\"black\"):\n",
    "    \"\"\"\n",
    "       Add an edge to a graph or subgraph\n",
    "       \n",
    "       :param graph: graph or subgraph to which the edge is added\n",
    "       :param tail_node: origin of the edge\n",
    "       :param head_node: destination of the edge\n",
    "    \"\"\"\n",
    "    edge = Edge(tail_node.get_name()+\":s\", head_node.get_name()+\":n\", label=label, style=style, color=color)\n",
    "    graph.add_edge(edge)\n",
    "    return"
   ]
  },
  {
   "cell_type": "code",
   "execution_count": 103,
   "metadata": {},
   "outputs": [],
   "source": [
    "add_edge(subgraphs['main'], nodes_main[0], nodes_main[1], color=\"red\")"
   ]
  },
  {
   "cell_type": "code",
   "execution_count": 117,
   "metadata": {},
   "outputs": [],
   "source": [
    "def add_node(graph, node_name, label, shape='record', style='filled', fillcolor='lightgrey'):\n",
    "    \"\"\"\n",
    "       Add a node to a graph or subgraph\n",
    "       \n",
    "       :param graph: graph or subgraph to which the node is added\n",
    "       :param node_name: name of the node\n",
    "       :param label: label of the node\n",
    "       :param shape: shape of the node (default \"record\")\n",
    "       :param style: style of the node (default \"field\")\n",
    "       :param fillcolor: color of the node (default \"lightgrey\")\n",
    "    \"\"\"\n",
    "    node = Node(name=node_name, shape=shape, style=style, fillcolor=fillcolor, label=label)\n",
    "    graph.add_node(node)\n",
    "    return"
   ]
  },
  {
   "cell_type": "code",
   "execution_count": 118,
   "metadata": {},
   "outputs": [],
   "source": [
    "add_node(G, 'node_yolo', 'yolo')"
   ]
  },
  {
   "cell_type": "markdown",
   "metadata": {},
   "source": [
    "#### Create nodes based on the function calls"
   ]
  },
  {
   "cell_type": "code",
   "execution_count": 172,
   "metadata": {},
   "outputs": [],
   "source": [
    "def analyse_label(node):\n",
    "    \"\"\"\n",
    "        Find if it exists, the first call to a function in a node\n",
    "        \n",
    "        :param node: the node examined\n",
    "        :return: tuple containing the name of the function and its position in the label of the node\n",
    "        :rtype: tuple\n",
    "    \"\"\"\n",
    "    global subgraphs\n",
    "    for match in re.finditer(\"\\w+\\\\\\s\\(\\w*\\)\", node.get_attributes['label']):\n",
    "        function_name = re.search(\"\\w+\", match.group())\n",
    "        if function_name is not None:\n",
    "            if function_name in subgraphs:\n",
    "                return (function_name, match.group())\n",
    "    return (None, None)"
   ]
  },
  {
   "cell_type": "code",
   "execution_count": null,
   "metadata": {},
   "outputs": [],
   "source": [
    "def create_labels(node, function_call):\n",
    "    \"\"\"\n",
    "        Create the labels for the new node, and for the node cut in half.\n",
    "        \n",
    "        :param node: the node cut\n",
    "        :param function_call: the string containing the function call used as a regex expression\n",
    "        :return: tuple containing the new label for the node cut, the label for the new node, and the value of\n",
    "                 the cut node's bb\n",
    "        :rtype: tuple\n",
    "    \"\"\"\n",
    "    label_node = node.get_attributes[\"label\"]\n",
    "    \n",
    "    match_function = re.search('\\\\l\\\\(.(?!\\\\l))*' + function_call + ';\\\\l\\\\', label_node)\n",
    "    \n",
    "    bb_node1 = re.search('\\d+', re.search('<bb\\ \\\\d+\\>', label_node).group()).group()\n",
    "    label_node1 = label_node[0:match_function.start()] + '\\l\\|call\\ ' + function_call + ';\\}'\n",
    "    \n",
    "    match_variable = re.search('\\w+\\\\ =\\ ' + function_call, label_node)\n",
    "    label_node2 = '{ FREQ:0 |\\<bb\\ ' + bb_node1 + '\\>:\\l\\|'\n",
    "    if match_variable is not None:\n",
    "        variable = re.search('\\w+', match_variable.group()).group()\n",
    "        label_node2 += variable + '\\ =\\ '\n",
    "    label_node2 += 'return\\ ' + function_call + ';\\\\l\\\\' + label_node[match_function.end() + 1 :]\n",
    "    \n",
    "    return (label_node1, label_node2, bb_node1)\n",
    "    \n",
    "    "
   ]
  },
  {
   "cell_type": "code",
   "execution_count": null,
   "metadata": {},
   "outputs": [],
   "source": [
    "def update_node(node, attribute, value):\n",
    "    node.set(attribute, value)\n",
    "    return"
   ]
  },
  {
   "cell_type": "code",
   "execution_count": null,
   "metadata": {},
   "outputs": [],
   "source": [
    "def update_nodes_after_bb(nodes, bb):\n",
    "    "
   ]
  },
  {
   "cell_type": "markdown",
   "metadata": {},
   "source": [
    "On veut récupérer les noeuds qui pourront être update ce qui veut dire qu'il faut itérer dans les sous-graphes enfants et parents"
   ]
  },
  {
   "cell_type": "code",
   "execution_count": 113,
   "metadata": {},
   "outputs": [],
   "source": [
    "def main(file):\n",
    "    global subgraphs\n",
    "    graph = graph_from_dot(file)\n",
    "    subgraphs = {}\n",
    "    extract_subgraphs([graph])\n",
    "    for (name, subgraph) in subgraphs.items():\n",
    "        nodes = extract_nodes(subgraph)\n",
    "        for node in nodes:\n",
    "            (name_function, result) = analyse_label(node)\n",
    "            if name_function is not None:\n",
    "                (label_node1, label_node2, bb_node1) = create_labels(node, result)\n",
    "                update_nodes_after_bb(nodes)\n",
    "                update_node()\n",
    "                \n",
    "                \n",
    "                \n",
    "        \n",
    "    \n",
    "    \n",
    "    "
   ]
  },
  {
   "cell_type": "code",
   "execution_count": 114,
   "metadata": {},
   "outputs": [
    {
     "name": "stdout",
     "output_type": "stream",
     "text": [
      "{'shape': 'Mdiamond', 'style': 'filled', 'fillcolor': 'white', 'label': '\"ENTRY\"'}\n",
      "{'shape': 'Mdiamond', 'style': 'filled', 'fillcolor': 'white', 'label': '\"ENTRY\"'}\n",
      "{'shape': 'record', 'style': 'filled', 'fillcolor': 'lightgrey', 'label': '\"{ FREQ:0 |\\\\<bb\\\\ 3\\\\>:\\\\l\\\\\\n|_1\\\\ =\\\\ foo\\\\ (b);\\\\l\\\\\\n|if\\\\ (_1\\\\ \\\\>\\\\ 3)\\\\l\\\\\\n\\\\ \\\\ goto\\\\ \\\\<bb\\\\ 4\\\\>;\\\\ [0.00%]\\\\l\\\\\\nelse\\\\l\\\\\\n\\\\ \\\\ goto\\\\ \\\\<bb\\\\ 5\\\\>;\\\\ [0.00%]\\\\l\\\\\\n}\"'}\n"
     ]
    }
   ],
   "source": [
    "main(\"../Tests/while_with_foo/test.c.011t.cfg.dot\")"
   ]
  },
  {
   "cell_type": "code",
   "execution_count": 106,
   "metadata": {},
   "outputs": [
    {
     "name": "stdout",
     "output_type": "stream",
     "text": [
      "Help on Node in module pydot object:\n",
      "\n",
      "class Node(Common)\n",
      " |  Node(name='', obj_dict=None, **attrs)\n",
      " |  \n",
      " |  A graph node.\n",
      " |  \n",
      " |  This class represents a graph's node with all its attributes.\n",
      " |  \n",
      " |  node(name, attribute=value, ...)\n",
      " |  \n",
      " |  name: node's name\n",
      " |  \n",
      " |  All the attributes defined in the Graphviz dot language should\n",
      " |  be supported.\n",
      " |  \n",
      " |  Method resolution order:\n",
      " |      Node\n",
      " |      Common\n",
      " |      builtins.object\n",
      " |  \n",
      " |  Methods defined here:\n",
      " |  \n",
      " |  __init__(self, name='', obj_dict=None, **attrs)\n",
      " |      Initialize self.  See help(type(self)) for accurate signature.\n",
      " |  \n",
      " |  __str__(self)\n",
      " |      Return str(self).\n",
      " |  \n",
      " |  add_style(self, style)\n",
      " |  \n",
      " |  get_name(self)\n",
      " |      Get the node's name.\n",
      " |  \n",
      " |  get_port(self)\n",
      " |      Get the node's port.\n",
      " |  \n",
      " |  set_name(self, node_name)\n",
      " |      Set the node's name.\n",
      " |  \n",
      " |  to_string(self)\n",
      " |      Return string representation of node in DOT language.\n",
      " |  \n",
      " |  ----------------------------------------------------------------------\n",
      " |  Methods inherited from Common:\n",
      " |  \n",
      " |  __get_attribute__(self, attr)\n",
      " |      Look for default attributes for this node\n",
      " |  \n",
      " |  __getstate__(self)\n",
      " |  \n",
      " |  __setstate__(self, state)\n",
      " |  \n",
      " |  create_attribute_methods(self, obj_attributes)\n",
      " |  \n",
      " |  get(self, name)\n",
      " |      Get an attribute value by name.\n",
      " |      \n",
      " |      Given an attribute 'name' it will get its value.\n",
      " |      There's always the possibility of using the methods:\n",
      " |      \n",
      " |          get_'name'()\n",
      " |      \n",
      " |      which are defined for all the existing attributes.\n",
      " |  \n",
      " |  get_attributes(self)\n",
      " |  \n",
      " |  get_parent_graph(self)\n",
      " |  \n",
      " |  get_sequence(self)\n",
      " |  \n",
      " |  set(self, name, value)\n",
      " |      Set an attribute value by name.\n",
      " |      \n",
      " |      Given an attribute 'name' it will set its value to 'value'.\n",
      " |      There's always the possibility of using the methods:\n",
      " |      \n",
      " |          set_'name'(value)\n",
      " |      \n",
      " |      which are defined for all the existing attributes.\n",
      " |  \n",
      " |  set_parent_graph(self, parent_graph)\n",
      " |  \n",
      " |  set_sequence(self, seq)\n",
      " |  \n",
      " |  ----------------------------------------------------------------------\n",
      " |  Data descriptors inherited from Common:\n",
      " |  \n",
      " |  __dict__\n",
      " |      dictionary for instance variables (if defined)\n",
      " |  \n",
      " |  __weakref__\n",
      " |      list of weak references to the object (if defined)\n",
      "\n"
     ]
    }
   ],
   "source": [
    "help(nodes_main[0])"
   ]
  },
  {
   "cell_type": "code",
   "execution_count": 168,
   "metadata": {},
   "outputs": [
    {
     "name": "stdout",
     "output_type": "stream",
     "text": [
      "The first white-space character is located in position:\n"
     ]
    }
   ],
   "source": [
    "\n",
    "\n",
    "string = \"The rain in Spain\"\n",
    "x = re.search(\"oiseau\", string)\n",
    "\n",
    "print(\"The first white-space character is located in position:\") "
   ]
  },
  {
   "cell_type": "code",
   "execution_count": 170,
   "metadata": {},
   "outputs": [
    {
     "name": "stdout",
     "output_type": "stream",
     "text": [
      "None\n"
     ]
    }
   ],
   "source": [
    "print(x)"
   ]
  },
  {
   "cell_type": "code",
   "execution_count": 145,
   "metadata": {},
   "outputs": [
    {
     "name": "stdout",
     "output_type": "stream",
     "text": [
      "Help on function compile in module re:\n",
      "\n",
      "compile(pattern, flags=0)\n",
      "    Compile a regular expression pattern, returning a Pattern object.\n",
      "\n"
     ]
    }
   ],
   "source": [
    "help(re.compile)"
   ]
  },
  {
   "cell_type": "code",
   "execution_count": 120,
   "metadata": {},
   "outputs": [
    {
     "name": "stdout",
     "output_type": "stream",
     "text": [
      "1\n",
      "2\n",
      "3\n",
      "4\n"
     ]
    }
   ],
   "source": [
    "l = [1 , 2 , 3]\n",
    "for i in l:\n",
    "    if(i == 3):\n",
    "        l.append(4)\n",
    "    print(i)"
   ]
  },
  {
   "cell_type": "code",
   "execution_count": 136,
   "metadata": {},
   "outputs": [
    {
     "ename": "SyntaxError",
     "evalue": "unexpected character after line continuation character (<ipython-input-136-733f30c2e64d>, line 1)",
     "output_type": "error",
     "traceback": [
      "\u001b[0;36m  File \u001b[0;32m\"<ipython-input-136-733f30c2e64d>\"\u001b[0;36m, line \u001b[0;32m1\u001b[0m\n\u001b[0;31m    \\w+\\\\\\s\\(\\w*\\)\u001b[0m\n\u001b[0m                  ^\u001b[0m\n\u001b[0;31mSyntaxError\u001b[0m\u001b[0;31m:\u001b[0m unexpected character after line continuation character\n"
     ]
    }
   ],
   "source": []
  },
  {
   "cell_type": "code",
   "execution_count": null,
   "metadata": {},
   "outputs": [],
   "source": []
  }
 ],
 "metadata": {
  "kernelspec": {
   "display_name": "Python 3",
   "language": "python",
   "name": "python3"
  },
  "language_info": {
   "codemirror_mode": {
    "name": "ipython",
    "version": 3
   },
   "file_extension": ".py",
   "mimetype": "text/x-python",
   "name": "python",
   "nbconvert_exporter": "python",
   "pygments_lexer": "ipython3",
   "version": "3.7.1"
  }
 },
 "nbformat": 4,
 "nbformat_minor": 2
}
