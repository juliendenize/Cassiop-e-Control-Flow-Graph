{
 "cells": [
  {
   "cell_type": "markdown",
   "metadata": {},
   "source": [
    "# <span style=\"color:purple\">Script edit dot</span>"
   ]
  },
  {
   "cell_type": "code",
   "execution_count": 1635,
   "metadata": {},
   "outputs": [],
   "source": [
    "import pydot\n",
    "from pydot import Edge\n",
    "from pydot import Node\n",
    "import re\n",
    "global subgraphs, parents\n",
    "subgraphs={}\n",
    "parents={}"
   ]
  },
  {
   "cell_type": "markdown",
   "metadata": {},
   "source": [
    "## Our goal\n",
    "We want to change the following graph in order to have new nodes to visualize the flow between functions\n",
    "<img src=\"../Tests/test_plusieurs_appels_imbriqués/graphe.png\" style=\"width:400px\">"
   ]
  },
  {
   "cell_type": "markdown",
   "metadata": {},
   "source": [
    "# Key functions \n",
    "\n",
    "#### Import a graph from dot and return the pydot graph"
   ]
  },
  {
   "cell_type": "code",
   "execution_count": 1636,
   "metadata": {},
   "outputs": [],
   "source": [
    "def graph_from_dot(file):\n",
    "    \"\"\"\n",
    "       Import a graph from dot and return the pydot graph\n",
    "       \n",
    "       :param file: path to the file to import\n",
    "       :return: pydot graph\n",
    "       :rtype: Dot\n",
    "    \"\"\"\n",
    "    (graph, ) = pydot.graph_from_dot_file(str(file))\n",
    "    return graph"
   ]
  },
  {
   "cell_type": "code",
   "execution_count": 1637,
   "metadata": {},
   "outputs": [],
   "source": [
    "G = graph_from_dot(\"../Tests/while_with_foo/test.c.011t.cfg.dot\");"
   ]
  },
  {
   "cell_type": "markdown",
   "metadata": {},
   "source": [
    "#### Extract subgraphs, edges, nodes"
   ]
  },
  {
   "cell_type": "code",
   "execution_count": 1638,
   "metadata": {},
   "outputs": [],
   "source": [
    "def extract_subgraphs(subgraph_list):\n",
    "    global subgraphs, parents\n",
    "    \"\"\"\n",
    "       Extract subgraphs recursively from a list of subgraphs, and the hierarchy of the subgraphs\n",
    "       \n",
    "       :param graph: graph or subgraph from which subgraphs are to be extracted\n",
    "       :return: List of subgraphs\n",
    "       :rtype: List\n",
    "    \"\"\"\n",
    "    new_subgraphs = []\n",
    "    for subgraph in subgraph_list:\n",
    "        subgraph.set_name(subgraph.get_name().strip(\"\\\"\").replace(\"cluster_\", \"\"))\n",
    "        subgraphs[subgraph.get_name()] = subgraph\n",
    "        children_subgraphs = subgraph.get_subgraph_list() \n",
    "        new_subgraphs += children_subgraphs\n",
    "        for child in children_subgraphs:\n",
    "            parents[child.get_name().strip(\"\\\"\").replace(\"cluster_\", \"\")] = subgraph\n",
    "    if(new_subgraphs == []):\n",
    "        return\n",
    "    else:\n",
    "        return extract_subgraphs(new_subgraphs)"
   ]
  },
  {
   "cell_type": "code",
   "execution_count": 1639,
   "metadata": {},
   "outputs": [
    {
     "name": "stdout",
     "output_type": "stream",
     "text": [
      "{'test.c.011t.cfg': <pydot.Dot object at 0x7f7e78655320>, 'foo': <pydot.Subgraph object at 0x7f7e7864fcf8>, 'main': <pydot.Subgraph object at 0x7f7e7864fd68>, '1_1': <pydot.Subgraph object at 0x7f7e786d8518>}\n"
     ]
    }
   ],
   "source": [
    "extract_subgraphs([G])\n",
    "print(subgraphs)"
   ]
  },
  {
   "cell_type": "code",
   "execution_count": 1640,
   "metadata": {},
   "outputs": [],
   "source": [
    "def extract_nodes(graph):\n",
    "    \"\"\"\n",
    "       Extract nodes from a graph or subgraph\n",
    "       \n",
    "       :param graph: graph or subgraph from which nodes are to be extracted\n",
    "       :return: List of nodes\n",
    "       :rtype: List\n",
    "    \"\"\"\n",
    "    return graph.get_nodes()"
   ]
  },
  {
   "cell_type": "code",
   "execution_count": 1641,
   "metadata": {},
   "outputs": [
    {
     "name": "stdout",
     "output_type": "stream",
     "text": [
      "[<pydot.Node object at 0x7f7e786ba0b8>, <pydot.Node object at 0x7f7e787d8240>, <pydot.Node object at 0x7f7e786ba400>, <pydot.Node object at 0x7f7e786d1ac8>, <pydot.Node object at 0x7f7e786f4c88>]\n"
     ]
    }
   ],
   "source": [
    "nodes_main = extract_nodes(subgraphs['main'])\n",
    "print(nodes_main)"
   ]
  },
  {
   "cell_type": "code",
   "execution_count": 1642,
   "metadata": {},
   "outputs": [],
   "source": [
    "def extract_edges(graph):\n",
    "    \"\"\"\n",
    "       Extract edges from a graph or subgraph\n",
    "       \n",
    "       :param graph: graph or subgraph from which edges are to be extracted\n",
    "       :return: List of edges\n",
    "       :rtype: List\n",
    "    \"\"\"\n",
    "    return graph.get_edges()"
   ]
  },
  {
   "cell_type": "code",
   "execution_count": 1643,
   "metadata": {},
   "outputs": [
    {
     "name": "stdout",
     "output_type": "stream",
     "text": [
      "fn_1_basic_block_0:s -> fn_1_basic_block_2:n  [style=\"solid,bold\", color=blue, weight=100, constraint=true, label=\"[0%]\"];\n",
      "fn_1_basic_block_2:s -> fn_1_basic_block_3:n  [style=\"solid,bold\", color=blue, weight=100, constraint=true, label=\"[0%]\"];\n",
      "fn_1_basic_block_3:s -> fn_1_basic_block_4:n  [style=\"solid,bold\", color=black, weight=10, constraint=true, label=\"[0%]\"];\n",
      "fn_1_basic_block_3:s -> fn_1_basic_block_5:n  [style=\"solid,bold\", color=black, weight=10, constraint=true, label=\"[0%]\"];\n",
      "fn_1_basic_block_4:s -> fn_1_basic_block_6:n  [style=\"solid,bold\", color=blue, weight=100, constraint=true, label=\"[0%]\"];\n",
      "fn_1_basic_block_5:s -> fn_1_basic_block_6:n  [style=\"solid,bold\", color=blue, weight=100, constraint=true, label=\"[0%]\"];\n",
      "fn_1_basic_block_6:s -> fn_1_basic_block_3:n  [style=\"dotted,bold\", color=blue, weight=10, constraint=false, label=\"[0%]\"];\n",
      "fn_1_basic_block_6:s -> fn_1_basic_block_7:n  [style=\"solid,bold\", color=black, weight=10, constraint=true, label=\"[0%]\"];\n",
      "fn_1_basic_block_7:s -> fn_1_basic_block_8:n  [style=\"solid,bold\", color=blue, weight=100, constraint=true, label=\"[0%]\"];\n",
      "fn_1_basic_block_8:s -> fn_1_basic_block_1:n  [style=\"solid,bold\", color=black, weight=10, constraint=true, label=\"[0%]\"];\n",
      "fn_1_basic_block_0:s -> fn_1_basic_block_1:n  [style=\"invis\", constraint=true];\n"
     ]
    }
   ],
   "source": [
    "edges_main = extract_edges(subgraphs['main'])\n",
    "for edge in edges_main:\n",
    "    print(edge)"
   ]
  },
  {
   "cell_type": "markdown",
   "metadata": {},
   "source": [
    "#### Add an edge, a node"
   ]
  },
  {
   "cell_type": "code",
   "execution_count": 1644,
   "metadata": {},
   "outputs": [],
   "source": [
    "def add_edge(graph, tail_node, head_node, label=\"[0%]\", style=\"solid, bold\", color=\"black\", constraint=\"true\"):\n",
    "    \"\"\"\n",
    "       Add an edge to a graph or subgraph\n",
    "       \n",
    "       :param graph: graph or subgraph to which the edge is added\n",
    "       :param tail_node: origin of the edge\n",
    "       :param head_node: destination of the edge\n",
    "       :param label: the label\n",
    "       :param style: the style\n",
    "       :param color: the color\n",
    "       :param constraint: the constraint\n",
    "    \"\"\"\n",
    "    edge = Edge(tail_node, head_node, label=label, style=style, color=color, constraint=\"true\")\n",
    "    graph.add_edge(edge)\n",
    "    return"
   ]
  },
  {
   "cell_type": "code",
   "execution_count": 1645,
   "metadata": {},
   "outputs": [],
   "source": [
    "add_edge(subgraphs['main'], nodes_main[0].get_name()+\":n\", nodes_main[1].get_name()+\":s\", color=\"red\")"
   ]
  },
  {
   "cell_type": "code",
   "execution_count": 1646,
   "metadata": {},
   "outputs": [],
   "source": [
    "def add_node(graph, node_name, label, shape='record', style='filled', fillcolor='lightgrey'):\n",
    "    \"\"\"\n",
    "       Add a node to a graph or subgraph\n",
    "       \n",
    "       :param graph: graph or subgraph to which the node is added\n",
    "       :param node_name: name of the node\n",
    "       :param label: label of the node\n",
    "       :param shape: shape of the node (default \"record\")\n",
    "       :param style: style of the node (default \"field\")\n",
    "       :param fillcolor: color of the node (default \"lightgrey\")\n",
    "       :return: the node created\n",
    "       :rtype: Node\n",
    "    \"\"\"\n",
    "    node = Node(name=node_name, shape=shape, style=style, fillcolor=fillcolor, label=label)\n",
    "    graph.add_node(node)\n",
    "    return node"
   ]
  },
  {
   "cell_type": "code",
   "execution_count": 1647,
   "metadata": {},
   "outputs": [
    {
     "data": {
      "text/plain": [
       "<pydot.Node at 0x7f7e786110f0>"
      ]
     },
     "execution_count": 1647,
     "metadata": {},
     "output_type": "execute_result"
    }
   ],
   "source": [
    "add_node(G, 'node_yolo', 'yolo')"
   ]
  },
  {
   "cell_type": "markdown",
   "metadata": {},
   "source": [
    "# Create the new node\n",
    "\n",
    "#### Analyse and create labels if a function call is found"
   ]
  },
  {
   "cell_type": "code",
   "execution_count": 1648,
   "metadata": {},
   "outputs": [],
   "source": [
    "def analyse_label_function_calls(node):\n",
    "    \"\"\"\n",
    "        Find if it exists, the first call to a function in a node\n",
    "        \n",
    "        :param node: the node examined\n",
    "        :return: tuple containing the name of the function, the function call and its position in the label of the \n",
    "                 node\n",
    "        :rtype: tuple\n",
    "    \"\"\"\n",
    "    global subgraphs\n",
    "    regex = r\"(?:\\|_\\w+\\\\ \\=\\\\ |\\|)\\w+\\\\\\s\\(\\w*\\)\"\n",
    "    label = node.get_attributes()['label']\n",
    "    for match in re.finditer(regex, label, re.MULTILINE):\n",
    "        function_call = re.search(r'\\w+\\\\\\s\\(\\w*\\)', match.group()).group()\n",
    "        function_name = re.search(r'\\w+', function_call)\n",
    "        if function_name is not None:\n",
    "            if function_name.group() in subgraphs:\n",
    "                return (function_name.group(), function_call, match.start())\n",
    "    return (None, None, None)"
   ]
  },
  {
   "cell_type": "code",
   "execution_count": 1649,
   "metadata": {},
   "outputs": [
    {
     "name": "stdout",
     "output_type": "stream",
     "text": [
      "('foo', 'foo\\\\ (b)', 25)\n",
      "\"{ FREQ:0 |\\<bb\\ 3\\>:\\l\\\n",
      "|_1\\ =\\ foo\\ (b);\\l\\\n",
      "|if\\ (_1\\ \\>\\ 3)\\l\\\n",
      "\\ \\ goto\\ \\<bb\\ 4\\>;\\ [0.00%]\\l\\\n",
      "else\\l\\\n",
      "\\ \\ goto\\ \\<bb\\ 5\\>;\\ [0.00%]\\l\\\n",
      "}\"\n"
     ]
    }
   ],
   "source": [
    "nodes = extract_nodes(subgraphs['1_1'])\n",
    "node = nodes[0]\n",
    "analyse = analyse_label_function_calls(node)\n",
    "print(analyse)\n",
    "print(node.get_attributes()['label'])"
   ]
  },
  {
   "cell_type": "code",
   "execution_count": 1650,
   "metadata": {},
   "outputs": [],
   "source": [
    "def create_labels(node, function_call, function_call_line):\n",
    "    \"\"\"\n",
    "        Create the labels for the new node, and for the node cut in half.\n",
    "        \n",
    "        :param node: the node cut\n",
    "        :param function_call: the string containing the function call used as a regex expression\n",
    "        :param function_call_line: the line where the function call is made\n",
    "        :return: tuple containing the new label for the node cut, the label for the new node, and the value of\n",
    "                 the cut node's bb\n",
    "        :rtype: tuple\n",
    "    \"\"\"\n",
    "    \n",
    "    label_node = node.get_attributes()[\"label\"]\n",
    "    label_node_from_function_line = label_node[function_call_line:]\n",
    "    regex = re.escape(function_call) + r';\\\\l\\\\\\n'\n",
    "    match_function = re.search(regex, label_node_from_function_line, re.S)\n",
    "    \n",
    "    bb = int(re.search(r'\\d+', re.search(r'<bb\\\\\\ \\d+\\\\>', label_node).group()).group())\n",
    "    \n",
    "    label_node1 = label_node[0:function_call_line] + '|call\\ ' + function_call + ';\\l\\\\\\n}\"'\n",
    "    \n",
    "    match_variable = re.search(r'\\w+\\\\ =\\\\ ' + re.escape(function_call), label_node_from_function_line)\n",
    "\n",
    "    label_node2 = '\"{ FREQ:0 |\\<bb\\ ' + str(bb) + '\\>:\\l\\\\\\n|'\n",
    "    \n",
    "    if match_variable is not None:\n",
    "        variable = re.search(r'\\w+', match_variable.group()).group()\n",
    "        label_node2 += variable + '\\ =\\ '\n",
    "    label_node2 += 'return\\ ' + function_call + ';\\\\l\\\\\\n' + label_node_from_function_line[match_function.end():]\n",
    "    \n",
    "    return (label_node1, label_node2, int(bb))\n",
    "    \n",
    "    "
   ]
  },
  {
   "cell_type": "code",
   "execution_count": 1651,
   "metadata": {},
   "outputs": [
    {
     "name": "stdout",
     "output_type": "stream",
     "text": [
      "---------\n",
      "\"{ FREQ:0 |\\<bb\\ 3\\>:\\l\\\n",
      "|call\\ foo\\ (b);\\l\\\n",
      "}\"\n",
      "\"{ FREQ:0 |\\<bb\\ 3\\>:\\l\\\n",
      "|_1\\ =\\ return\\ foo\\ (b);\\l\\\n",
      "|if\\ (_1\\ \\>\\ 3)\\l\\\n",
      "\\ \\ goto\\ \\<bb\\ 4\\>;\\ [0.00%]\\l\\\n",
      "else\\l\\\n",
      "\\ \\ goto\\ \\<bb\\ 5\\>;\\ [0.00%]\\l\\\n",
      "}\"\n",
      "3\n"
     ]
    }
   ],
   "source": [
    "(label_node1, label_node2, bb) = create_labels(node, analyse[1], analyse[2])\n",
    "print(\"---------\")\n",
    "print(label_node1)\n",
    "print(label_node2)\n",
    "print(bb)"
   ]
  },
  {
   "cell_type": "markdown",
   "metadata": {},
   "source": [
    "#### Update the value of the nodes: name and labels"
   ]
  },
  {
   "cell_type": "code",
   "execution_count": 1652,
   "metadata": {},
   "outputs": [],
   "source": [
    "def update_node(node, attribute, value):\n",
    "    \"\"\"\n",
    "        Update the node's attribute value.\n",
    "        \n",
    "        :param node: the node updated\n",
    "        :param attribute: the attribute\n",
    "        :param value: the value\n",
    "    \"\"\"\n",
    "    node.set(attribute, value)\n",
    "    return"
   ]
  },
  {
   "cell_type": "code",
   "execution_count": 1653,
   "metadata": {},
   "outputs": [
    {
     "name": "stdout",
     "output_type": "stream",
     "text": [
      "new_label of the node\n"
     ]
    }
   ],
   "source": [
    "label_before = node.get_attributes()[\"label\"]\n",
    "update_node(node, \"label\", \"new_label of the node\");\n",
    "print(node.get_attributes()[\"label\"])\n",
    "update_node(node, \"label\", label_before)"
   ]
  },
  {
   "cell_type": "code",
   "execution_count": 1654,
   "metadata": {},
   "outputs": [],
   "source": [
    "def update_bb_string(string, bb):\n",
    "    \"\"\" \n",
    "        update recursivly the values of the bb found in the string. The first string is a node label\n",
    "        \n",
    "        :param string: the string\n",
    "        :param bb: the bb\n",
    "        :return: the new string\n",
    "        :rtype: string\n",
    "    \"\"\"\n",
    "    match = re.search(r'<bb\\\\\\ \\d+\\\\>', string)\n",
    "    \n",
    "    if match == None:\n",
    "        return string\n",
    "    match_bb = int(re.search(r'\\d+', match.group()).group())\n",
    "    \n",
    "    if match_bb > bb:\n",
    "        string = string.replace('<bb\\ ' + str(match_bb), '<bb\\ ' + str(match_bb + 1))\n",
    "    return string[0:match.end()] + update_bb_string(string[match.end():], bb)"
   ]
  },
  {
   "cell_type": "code",
   "execution_count": 1655,
   "metadata": {},
   "outputs": [
    {
     "name": "stdout",
     "output_type": "stream",
     "text": [
      "\"{ FREQ:0 |\\<bb\\ 3\\>:\\l\\\n",
      "|_1\\ =\\ foo\\ (b);\\l\\\n",
      "|if\\ (_1\\ \\>\\ 3)\\l\\\n",
      "\\ \\ goto\\ \\<bb\\ 4\\>;\\ [0.00%]\\l\\\n",
      "else\\l\\\n",
      "\\ \\ goto\\ \\<bb\\ 5\\>;\\ [0.00%]\\l\\\n",
      "}\"\n",
      "----------\n",
      "\"{ FREQ:0 |\\<bb\\ 4\\>:\\l\\\n",
      "|_1\\ =\\ foo\\ (b);\\l\\\n",
      "|if\\ (_1\\ \\>\\ 3)\\l\\\n",
      "\\ \\ goto\\ \\<bb\\ 5\\>;\\ [0.00%]\\l\\\n",
      "else\\l\\\n",
      "\\ \\ goto\\ \\<bb\\ 6\\>;\\ [0.00%]\\l\\\n",
      "}\"\n"
     ]
    }
   ],
   "source": [
    "print(node.get_attributes()[\"label\"])\n",
    "print(\"----------\")\n",
    "print(update_bb_string(node.get_attributes()[\"label\"], 0))"
   ]
  },
  {
   "cell_type": "code",
   "execution_count": 1656,
   "metadata": {},
   "outputs": [],
   "source": [
    "def update_node_name(node_name, bb):\n",
    "    \"\"\"\n",
    "        Update the node_name if its bb is superior to the bb given\n",
    "        \n",
    "        :param node_name: the name to update\n",
    "        :param bb: the bb threshold\n",
    "        :return: the node_name (updated)\n",
    "        :rtype: String\n",
    "    \"\"\"\n",
    "    node_number = int(re.search(r'\\d+', re.search(r'block_\\d+', node_name).group()).group())\n",
    "    if bb < node_number:\n",
    "        return node_name.replace('block_' + str(node_number), 'block_' + str(node_number+1))\n",
    "    return node_name"
   ]
  },
  {
   "cell_type": "code",
   "execution_count": 1657,
   "metadata": {},
   "outputs": [
    {
     "name": "stdout",
     "output_type": "stream",
     "text": [
      "fn_1_basic_block_3\n",
      "----------\n",
      "fn_1_basic_block_4\n"
     ]
    }
   ],
   "source": [
    "print(node.get_name())\n",
    "print(\"----------\")\n",
    "print(update_node_name(node.get_name(), 0))"
   ]
  },
  {
   "cell_type": "code",
   "execution_count": 1658,
   "metadata": {},
   "outputs": [],
   "source": [
    "def update_nodes(nodes, bb):\n",
    "    \"\"\"\n",
    "        Updates all the nodes whose bb are greater or equal to the bb given.\n",
    "        \n",
    "        :param nodes: the nodes to update\n",
    "        :param bb: the bb\n",
    "    \"\"\"\n",
    "    \n",
    "    for node in nodes:\n",
    "        node.set(\"label\", update_bb_string(node.get_attributes()[\"label\"], bb))\n",
    "        node.set_name(update_node_name(node.get_name(), bb))\n"
   ]
  },
  {
   "cell_type": "code",
   "execution_count": 1659,
   "metadata": {},
   "outputs": [
    {
     "name": "stdout",
     "output_type": "stream",
     "text": [
      "\"{ FREQ:0 |\\<bb\\ 3\\>:\\l\\\n",
      "|_1\\ =\\ foo\\ (b);\\l\\\n",
      "|if\\ (_1\\ \\>\\ 3)\\l\\\n",
      "\\ \\ goto\\ \\<bb\\ 4\\>;\\ [0.00%]\\l\\\n",
      "else\\l\\\n",
      "\\ \\ goto\\ \\<bb\\ 5\\>;\\ [0.00%]\\l\\\n",
      "}\"\n",
      "fn_1_basic_block_3\n",
      "----------\n",
      "\"{ FREQ:0 |\\<bb\\ 3\\>:\\l\\\n",
      "|_1\\ =\\ foo\\ (b);\\l\\\n",
      "|if\\ (_1\\ \\>\\ 3)\\l\\\n",
      "\\ \\ goto\\ \\<bb\\ 5\\>;\\ [0.00%]\\l\\\n",
      "else\\l\\\n",
      "\\ \\ goto\\ \\<bb\\ 6\\>;\\ [0.00%]\\l\\\n",
      "}\"\n",
      "fn_1_basic_block_3\n"
     ]
    }
   ],
   "source": [
    "print(node.get_attributes()[\"label\"] + \"\\n\" + node.get_name())\n",
    "print(\"----------\")\n",
    "update_nodes([node], bb)\n",
    "print(node.get_attributes()[\"label\"] + \"\\n\" + node.get_name())"
   ]
  },
  {
   "cell_type": "markdown",
   "metadata": {},
   "source": [
    "#### On veut récupérer les noeuds qui pourront être update ce qui veut dire qu'il faut itérer dans les sous-graphes enfants et parents"
   ]
  },
  {
   "cell_type": "code",
   "execution_count": 1660,
   "metadata": {},
   "outputs": [],
   "source": [
    "def get_nodes_to_update(subgraph, graph_name, starter=0):\n",
    "    \"\"\"\n",
    "        Retrive all the nodes to update from the parents to the children.\n",
    "        \n",
    "        :param subgraph: the current subgraph\n",
    "        :param graph_name: the name of the global graph\n",
    "        :param starter: the flag, 0 if you are the subgraph starter, 1 else\n",
    "        :return: the nodes to update\n",
    "        :rtype: list\n",
    "    \"\"\"\n",
    "    global subgraphs, parents\n",
    "    \n",
    "    nodes = extract_nodes(subgraph)\n",
    "    \n",
    "    for child_subgraph in subgraph.get_subgraph_list():\n",
    "        nodes += get_nodes_to_update(child_subgraph, graph_name, 1)\n",
    "    \n",
    "    parent = parents[subgraph.get_name()].get_name()\n",
    "    while(parent != graph_name and starter == 0):\n",
    "        nodes += extract_nodes(parents[subgraph.get_name()])\n",
    "        parent = parents[parent].get_name()\n",
    "    return nodes"
   ]
  },
  {
   "cell_type": "code",
   "execution_count": 1661,
   "metadata": {},
   "outputs": [
    {
     "name": "stdout",
     "output_type": "stream",
     "text": [
      "fn_1_basic_block_3 fn_1_basic_block_4 fn_1_basic_block_5 fn_1_basic_block_6 fn_1_basic_block_0 fn_1_basic_block_1 fn_1_basic_block_2 fn_1_basic_block_7 fn_1_basic_block_8 \n",
      "\n",
      "fn_1_basic_block_0 fn_1_basic_block_1 fn_1_basic_block_2 fn_1_basic_block_7 fn_1_basic_block_8 fn_1_basic_block_3 fn_1_basic_block_4 fn_1_basic_block_5 fn_1_basic_block_6 \n"
     ]
    }
   ],
   "source": [
    "nodes_while = get_nodes_to_update(subgraphs[\"1_1\"], G.get_name())\n",
    "string_while = \"\"\n",
    "for node_while in nodes_while:\n",
    "    string_while += node_while.get_name() + \" \"\n",
    "nodes_main = get_nodes_to_update(subgraphs[\"main\"], G.get_name())\n",
    "string_main=\"\"\n",
    "for node_main in nodes_main:\n",
    "    string_main += node_main.get_name() + \" \"\n",
    "print(string_while + \"\\n\")\n",
    "print(string_main)"
   ]
  },
  {
   "cell_type": "markdown",
   "metadata": {},
   "source": [
    "#### Create the new node"
   ]
  },
  {
   "cell_type": "code",
   "execution_count": 1662,
   "metadata": {},
   "outputs": [],
   "source": [
    "def create_new_node(subgraph, prev_node, label, bb):\n",
    "    \"\"\"\n",
    "        Create a new node\n",
    "        \n",
    "        :param subgraph: the subgraph where lives the new node\n",
    "        :param prev_node: the node that necessits a child\n",
    "        :param label: the label of the new node\n",
    "        :param bb: the bb of the previous node\n",
    "        :return: the new node\n",
    "        :rtype: Node\n",
    "    \"\"\"\n",
    "    return add_node(subgraph, update_node_name(prev_node.get_name(), bb-1), label=update_bb_string(label, bb-1))"
   ]
  },
  {
   "cell_type": "code",
   "execution_count": 1663,
   "metadata": {},
   "outputs": [
    {
     "name": "stdout",
     "output_type": "stream",
     "text": [
      "fn_1_basic_block_3\n",
      "fn_1_basic_block_3\n",
      "fn_1_basic_block_4\n",
      "\"{ FREQ:0 |\\<bb\\ 4\\>:\\l\\\n",
      "|_1\\ =\\ return\\ foo\\ (b);\\l\\\n",
      "|if\\ (_1\\ \\>\\ 3)\\l\\\n",
      "\\ \\ goto\\ \\<bb\\ 5\\>;\\ [0.00%]\\l\\\n",
      "else\\l\\\n",
      "\\ \\ goto\\ \\<bb\\ 6\\>;\\ [0.00%]\\l\\\n",
      "}\"\n"
     ]
    }
   ],
   "source": [
    "print(node.get_name())\n",
    "new_node = create_new_node(subgraphs[\"1_1\"], node, label_node2, 3)\n",
    "print(node.get_name())\n",
    "print(new_node.get_name())\n",
    "print(new_node.get_label())"
   ]
  },
  {
   "cell_type": "markdown",
   "metadata": {},
   "source": [
    "# Create the edges"
   ]
  },
  {
   "cell_type": "code",
   "execution_count": 1664,
   "metadata": {},
   "outputs": [],
   "source": [
    "def get_top_parent(subgraph, graph_name):\n",
    "    \"\"\"\n",
    "        Get the top parent in the arborescence of the graph after the root (graph_name)\n",
    "        \n",
    "        :param subgraph: the subgraph to find the parent\n",
    "        :param graph_name: the root of the arborescence\n",
    "        :return: The top parent of the subgraph\n",
    "        :rtype: Subgraph\n",
    "    \"\"\"\n",
    "    global parents\n",
    "    \n",
    "    if(subgraph.get_name() == graph_name):\n",
    "        return None\n",
    "    \n",
    "    current = subgraph\n",
    "    while(parents[current.get_name()].get_name() != graph_name):\n",
    "        current = parents[current.get_name()]\n",
    "    return current\n",
    "    "
   ]
  },
  {
   "cell_type": "code",
   "execution_count": 1665,
   "metadata": {},
   "outputs": [],
   "source": [
    "def get_bb(node_name):\n",
    "    \"\"\"\n",
    "        Get the bb of a node_name\n",
    "        \n",
    "        :param node_name: the string to find the bb\n",
    "        :return: the bb\n",
    "        :rtype: int\n",
    "    \"\"\"\n",
    "    return int(re.search(r'\\d+', re.search(r'block_\\d+', node_name).group()).group())"
   ]
  },
  {
   "cell_type": "code",
   "execution_count": 1666,
   "metadata": {},
   "outputs": [],
   "source": [
    "def update_edge_node_name(node_name, node_number):\n",
    "    \"\"\"\n",
    "        Update the node_name coming from an edge based on the node_number\n",
    "        \n",
    "        :param node_name: the node name\n",
    "        :param node_number: the number to update\n",
    "        :return: The new node_name\n",
    "        :rype: String\n",
    "    \"\"\"\n",
    "    return node_name.replace('block_' + str(node_number), 'block_' + str(node_number+1))"
   ]
  },
  {
   "cell_type": "code",
   "execution_count": 1667,
   "metadata": {},
   "outputs": [],
   "source": [
    "def update_edges(subgraph, graph_name, bb):\n",
    "    \"\"\"\n",
    "        Update the edges of the top parent of the subgraph\n",
    "        \n",
    "        :param subgraph: the subgraph which top parent's edges has to be updated\n",
    "        :param graph_name: the root of the arborescence of subgraph\n",
    "        :param bb: the bb from which it updates the edges\n",
    "    \"\"\"\n",
    "    top_subgraph = get_top_parent(subgraph, graph_name)\n",
    "    edges = extract_edges(top_subgraph)\n",
    "    for edge in edges:\n",
    "        if(edge.get_style() is not None):\n",
    "            style = edge.get_style()\n",
    "        if(edge.get_color() is not None):\n",
    "            color = edge.get_color()\n",
    "        if(edge.get_label() is not None):\n",
    "            label = edge.get_label()\n",
    "        node_head = edge.get_source()\n",
    "        node_tail = edge.get_destination()\n",
    "        bb_head = get_bb(node_head)\n",
    "        bb_tail = get_bb(node_tail)\n",
    "        if(bb_head >= bb or bb_tail > bb):\n",
    "            top_subgraph.del_edge(node_head, node_tail, 0)\n",
    "            if bb_head >= bb:\n",
    "                if bb_tail > bb:\n",
    "                    add_edge(top_subgraph, update_edge_node_name(node_head, bb_head), update_edge_node_name\n",
    "                             (node_tail, bb_tail), style=style, color=color, label=label)\n",
    "                else:\n",
    "                    add_edge(top_subgraph, update_edge_node_name(node_head, bb_head), node_tail, style=style, \n",
    "                             color=color, label=label)\n",
    "            else:\n",
    "                add_edge(top_subgraph, node_head, update_edge_node_name(node_tail, bb_tail), \n",
    "                         style=style, color=color, label=label)\n",
    "                \n",
    "            #si bb_n < bb et bb_s <= bb on touche pas\n",
    "            #sinon\n",
    "            #    si bb_n >= bb:\n",
    "            #        si bb_s >= bb:\n",
    "            #            creer edge (n+1, s+1)\n",
    "            #        sinon:\n",
    "            #            creer edge (n+1, s)\n",
    "            #    sinon:\n",
    "            #        si bb_s > bb:\n",
    "            #          creer edge (n, s+1)  "
   ]
  },
  {
   "cell_type": "code",
   "execution_count": 1668,
   "metadata": {},
   "outputs": [],
   "source": [
    "update_edges(subgraphs[\"main\"], parents[subgraphs[\"main\"].get_name()].get_name(), 3)"
   ]
  },
  {
   "cell_type": "code",
   "execution_count": 1669,
   "metadata": {},
   "outputs": [],
   "source": [
    "def create_new_edge(graph, node_name, subgraph_function):\n",
    "    \"\"\"\n",
    "        Create the edges corresponding of the call and return of the function\n",
    "        \n",
    "        :param graph: edges are added in the graph\n",
    "        :param node_name: the node from where the call is made\n",
    "        :param subgraph_function: the subgraph of the function called\n",
    "    \"\"\"\n",
    "    nodes_function = extract_nodes(subgraph_function)\n",
    "    add_edge(graph, node_name+\":s\", nodes_function[0].get_name()+\":n\", color=\"green\")\n",
    "    add_edge(graph, nodes_function[1].get_name()+\":s\", update_edge_node_name(node_name, get_bb(node_name))+\":n\", color=\"red\")\n",
    "    return\n",
    "    "
   ]
  },
  {
   "cell_type": "markdown",
   "metadata": {},
   "source": [
    "# The export\n",
    "\n",
    "#### For all the subgraph, we need to update their names because there is a syntax error during the output otherwise"
   ]
  },
  {
   "cell_type": "code",
   "execution_count": 1670,
   "metadata": {},
   "outputs": [],
   "source": [
    "def recreate_subgraphs_name():\n",
    "    \"\"\"\n",
    "        Recreate the name of the subgraphs to write them in dot format\n",
    "    \"\"\"\n",
    "    global subgraphs\n",
    "    for (name, subgraph) in subgraphs.items():\n",
    "        subgraph.set_name(\"\\\"cluster_\" + subgraph.get_name() + \"\\\"\")"
   ]
  },
  {
   "cell_type": "code",
   "execution_count": 1671,
   "metadata": {},
   "outputs": [
    {
     "name": "stdout",
     "output_type": "stream",
     "text": [
      "\"cluster_foo\"\n"
     ]
    }
   ],
   "source": [
    "recreate_subgraphs_name()\n",
    "print(G.get_subgraph_list()[0].get_name())"
   ]
  },
  {
   "cell_type": "markdown",
   "metadata": {},
   "source": [
    "#### Export the graph"
   ]
  },
  {
   "cell_type": "code",
   "execution_count": 1672,
   "metadata": {},
   "outputs": [],
   "source": [
    "def export_graph(graph, name_file, format_export):\n",
    "    \"\"\"\n",
    "        Export the graph with its name and its format given\n",
    "        \n",
    "        :param graph: the graph\n",
    "        :param name_file: the name of the file\n",
    "        :param format_export: the format of the export\n",
    "    \"\"\"\n",
    "    im_name = ('{}.' + format_export).format('./' + name_file)\n",
    "    if (format_export == \"png\"):\n",
    "        graph.write_png(im_name)\n",
    "    elif (format_export ==  \"dot\"):\n",
    "        graph.write_dot(im_name)\n",
    "    else:\n",
    "        raise LookupError"
   ]
  },
  {
   "cell_type": "code",
   "execution_count": 1673,
   "metadata": {},
   "outputs": [],
   "source": [
    "export_graph(G, \"test\", \"png\")\n",
    "export_graph(G, \"test\", \"dot\")"
   ]
  },
  {
   "cell_type": "code",
   "execution_count": 1674,
   "metadata": {},
   "outputs": [],
   "source": [
    "def main(file):\n",
    "    \"\"\"\n",
    "        Take a graph from the file and format it to adopt our constraints\n",
    "        \n",
    "        :param file: the file to get\n",
    "        :return: the graph\n",
    "        :rtype: Graph\n",
    "    \"\"\"\n",
    "    global subgraphs, parents\n",
    "    graph = graph_from_dot(file)\n",
    "    subgraphs = {}\n",
    "    parents = {}\n",
    "    extract_subgraphs([graph])\n",
    "    \n",
    "    for (name, subgraph) in subgraphs.items():\n",
    "        nodes = extract_nodes(subgraph)\n",
    "        for node in nodes:\n",
    "            (name_function, result, function_call_line) = analyse_label_function_calls(node)\n",
    "            if name_function is not None:\n",
    "                (label_node1, label_node2, bb) = create_labels(node, result, function_call_line)\n",
    "                node.set_label(label_node1)\n",
    "                nodes_to_update = get_nodes_to_update(subgraph, graph.get_name())\n",
    "                update_nodes(nodes_to_update, bb)\n",
    "                nodes.append(create_new_node(subgraph, node, label_node2, bb))\n",
    "                update_edges(subgraph, graph.get_name(), bb)\n",
    "                create_new_edge(graph, node.get_name(), subgraphs[name_function])\n",
    "    recreate_subgraphs_name()\n",
    "    export_graph(graph, \"main_output\", \"png\")\n",
    "    export_graph(graph, \"main_output\", \"dot\")\n",
    "    return graph"
   ]
  },
  {
   "cell_type": "code",
   "execution_count": 1675,
   "metadata": {},
   "outputs": [],
   "source": [
    "graph = main(\"../Tests/test_plusieurs_appels_imbriqués/test.c.011t.cfg.dot\")"
   ]
  },
  {
   "cell_type": "markdown",
   "metadata": {},
   "source": [
    "# The result"
   ]
  },
  {
   "cell_type": "markdown",
   "metadata": {},
   "source": [
    "<img src=\"main_output.png\" style=\"width:400px\">"
   ]
  },
  {
   "cell_type": "code",
   "execution_count": null,
   "metadata": {},
   "outputs": [],
   "source": []
  }
 ],
 "metadata": {
  "kernelspec": {
   "display_name": "Python 3",
   "language": "python",
   "name": "python3"
  },
  "language_info": {
   "codemirror_mode": {
    "name": "ipython",
    "version": 3
   },
   "file_extension": ".py",
   "mimetype": "text/x-python",
   "name": "python",
   "nbconvert_exporter": "python",
   "pygments_lexer": "ipython3",
   "version": "3.7.3"
  }
 },
 "nbformat": 4,
 "nbformat_minor": 2
}
