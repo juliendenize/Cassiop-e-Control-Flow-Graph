{
 "cells": [
  {
   "cell_type": "markdown",
   "metadata": {},
   "source": [
    "# <span style=\"color:purple\">Script edit dot</span>"
   ]
  },
  {
   "cell_type": "code",
   "execution_count": 21,
   "metadata": {},
   "outputs": [],
   "source": [
    "import pydot\n",
    "from pydot import Edge\n",
    "from pydot import Node"
   ]
  },
  {
   "cell_type": "markdown",
   "metadata": {},
   "source": [
    "#### Import a graph from dot and return the pydot graph"
   ]
  },
  {
   "cell_type": "code",
   "execution_count": 7,
   "metadata": {},
   "outputs": [],
   "source": [
    "def graph_from_dot(file):\n",
    "    \"\"\"\n",
    "       Import a graph from dot and return the pydot graph\n",
    "       \n",
    "       :param file: path to the file to import\n",
    "       :return: pydot graph\n",
    "       :rtype: Dot\n",
    "    \"\"\"\n",
    "    (graph, ) = pydot.graph_from_dot_file(str(file))\n",
    "    return graph"
   ]
  },
  {
   "cell_type": "code",
   "execution_count": 65,
   "metadata": {},
   "outputs": [],
   "source": [
    "G = graph_from_dot(\"../Tests/while_with_foo/test.c.011t.cfg.dot\");"
   ]
  },
  {
   "cell_type": "markdown",
   "metadata": {},
   "source": [
    "#### Extract subgraphs, edges, nodes"
   ]
  },
  {
   "cell_type": "code",
   "execution_count": 64,
   "metadata": {},
   "outputs": [],
   "source": [
    "def extract_subgraphs(subgraphs):\n",
    "    \"\"\"\n",
    "       Extract subgraphs from a list of subgraphs\n",
    "       \n",
    "       :param graph: graph or subgraph from which subgraphs are to be extracted\n",
    "       :return: List of subgraphs\n",
    "       :rtype: List\n",
    "    \"\"\"\n",
    "    new_subgraphs = []\n",
    "    for subgraph in subgraphs:\n",
    "        new_subgraphs += subgraph.get_subgraph_list()\n",
    "    if(subgraphs == []):\n",
    "        return []\n",
    "    else:\n",
    "        return new_subgraphs + extract_subgraphs(new_subgraphs)"
   ]
  },
  {
   "cell_type": "code",
   "execution_count": 66,
   "metadata": {},
   "outputs": [
    {
     "name": "stdout",
     "output_type": "stream",
     "text": [
      "[<pydot.Subgraph object at 0x7fa121661f98>, <pydot.Subgraph object at 0x7fa121661fd0>, <pydot.Subgraph object at 0x7fa12166cef0>]\n"
     ]
    }
   ],
   "source": [
    "subgraphs = extract_subgraphs([G])\n",
    "print(subgraphs)"
   ]
  },
  {
   "cell_type": "code",
   "execution_count": 16,
   "metadata": {},
   "outputs": [],
   "source": [
    "def extract_nodes(graph):\n",
    "    \"\"\"\n",
    "       Extract nodes from a graph or subgraph\n",
    "       \n",
    "       :param graph: graph or subgraph from which nodes are to be extracted\n",
    "       :return: List of nodes\n",
    "       :rtype: List\n",
    "    \"\"\"\n",
    "    return graph.get_nodes()"
   ]
  },
  {
   "cell_type": "code",
   "execution_count": 18,
   "metadata": {},
   "outputs": [
    {
     "name": "stdout",
     "output_type": "stream",
     "text": [
      "[<pydot.Node object at 0x7fa13030b908>, <pydot.Node object at 0x7fa13030bd68>, <pydot.Node object at 0x7fa13030bfd0>, <pydot.Node object at 0x7fa1301bf048>, <pydot.Node object at 0x7fa1301ac7b8>, <pydot.Node object at 0x7fa1301acb70>, <pydot.Node object at 0x7fa1301acd68>]\n"
     ]
    }
   ],
   "source": [
    "nodes_main = extract_nodes(subgraphs[1])\n",
    "print(nodes_main)"
   ]
  },
  {
   "cell_type": "code",
   "execution_count": 17,
   "metadata": {},
   "outputs": [],
   "source": [
    "def extract_edges(graph):\n",
    "    \"\"\"\n",
    "       Extract edges from a graph or subgraph\n",
    "       \n",
    "       :param graph: graph or subgraph from which edges are to be extracted\n",
    "       :return: List of edges\n",
    "       :rtype: List\n",
    "    \"\"\"\n",
    "    return graph.get_edges()"
   ]
  },
  {
   "cell_type": "code",
   "execution_count": 20,
   "metadata": {},
   "outputs": [
    {
     "name": "stdout",
     "output_type": "stream",
     "text": [
      "[<pydot.Edge object at 0x7fa1303080b8>, <pydot.Edge object at 0x7fa13024d4e0>, <pydot.Edge object at 0x7fa130308630>, <pydot.Edge object at 0x7fa1301c56a0>, <pydot.Edge object at 0x7fa1302730f0>, <pydot.Edge object at 0x7fa1302c8048>, <pydot.Edge object at 0x7fa13023f908>, <pydot.Edge object at 0x7fa1301a8828>]\n"
     ]
    }
   ],
   "source": [
    "edges_main = extract_edges(subgraphs[1])\n",
    "print(edges_main)"
   ]
  },
  {
   "cell_type": "markdown",
   "metadata": {},
   "source": [
    "#### Add an edge, a node"
   ]
  },
  {
   "cell_type": "code",
   "execution_count": null,
   "metadata": {},
   "outputs": [],
   "source": [
    "def add_edge(graph, tail_node, head_node):\n",
    "    \"\"\"\n",
    "       Add an edge to a graph or subgraph\n",
    "       \n",
    "       :param graph: graph or subgraph to which the edge is added\n",
    "       :param tail_node: origin of the edge\n",
    "       :param head_node: destination of the edge\n",
    "    \"\"\"\n",
    "    edge = Edge(tail_node.get_name()+\":s\", head_node.get_name()+\":n\")\n",
    "    graph.add_edge(edge)\n",
    "    return"
   ]
  },
  {
   "cell_type": "code",
   "execution_count": 49,
   "metadata": {},
   "outputs": [],
   "source": [
    "def add_node(graph, node_name, label, shape='record', style='filled', fillcolor='lightgrey'):\n",
    "    \"\"\"\n",
    "       Add a node to a graph or subgraph\n",
    "       \n",
    "       :param graph: graph or subgraph to which the node is added\n",
    "       :param node_name: name of the node\n",
    "       :param label: label of the node\n",
    "       :param shape: shape of the node (default \"record\")\n",
    "       :param style: style of the node (default \"field\")\n",
    "       :param fillcolor: color of the node (default \"lightgrey\")\n",
    "    \"\"\"\n",
    "    node = Node(name=node_name, shape=shape, style=style, fillcolor=fillcolor, label=label)\n",
    "    return"
   ]
  },
  {
   "cell_type": "code",
   "execution_count": 50,
   "metadata": {},
   "outputs": [],
   "source": [
    "add_node(G, 'node_yolo', 'yolo')"
   ]
  },
  {
   "cell_type": "code",
   "execution_count": 67,
   "metadata": {},
   "outputs": [
    {
     "name": "stdout",
     "output_type": "stream",
     "text": [
      "Help on class Edge in module pydot:\n",
      "\n",
      "class Edge(Common)\n",
      " |  Edge(src='', dst='', obj_dict=None, **attrs)\n",
      " |  \n",
      " |  A graph edge.\n",
      " |  \n",
      " |  This class represents a graph's edge with all its attributes.\n",
      " |  \n",
      " |  edge(src, dst, attribute=value, ...)\n",
      " |  \n",
      " |  src: source node\n",
      " |  dst: destination node\n",
      " |  \n",
      " |  `src` and `dst` can be specified as a `Node` object,\n",
      " |  or as the node's name string.\n",
      " |  \n",
      " |  All the attributes defined in the Graphviz dot language should\n",
      " |  be supported.\n",
      " |  \n",
      " |      Attributes can be set through the dynamically generated methods:\n",
      " |  \n",
      " |   set_[attribute name], i.e. set_label, set_fontname\n",
      " |  \n",
      " |  or directly by using the instance's special dictionary:\n",
      " |  \n",
      " |   Edge.obj_dict['attributes'][attribute name], i.e.\n",
      " |  \n",
      " |      edge_instance.obj_dict['attributes']['label']\n",
      " |      edge_instance.obj_dict['attributes']['fontname']\n",
      " |  \n",
      " |  Method resolution order:\n",
      " |      Edge\n",
      " |      Common\n",
      " |      builtins.object\n",
      " |  \n",
      " |  Methods defined here:\n",
      " |  \n",
      " |  __eq__(self, edge)\n",
      " |      Compare two edges.\n",
      " |      \n",
      " |      If the parent graph is directed, arcs linking\n",
      " |      node A to B are considered equal and A->B != B->A\n",
      " |      \n",
      " |      If the parent graph is undirected, any edge\n",
      " |      connecting two nodes is equal to any other\n",
      " |      edge connecting the same nodes, A->B == B->A\n",
      " |  \n",
      " |  __hash__(self)\n",
      " |      Return hash(self).\n",
      " |  \n",
      " |  __init__(self, src='', dst='', obj_dict=None, **attrs)\n",
      " |      Initialize self.  See help(type(self)) for accurate signature.\n",
      " |  \n",
      " |  __str__(self)\n",
      " |      Return str(self).\n",
      " |  \n",
      " |  get_destination(self)\n",
      " |      Get the edge's destination node name.\n",
      " |  \n",
      " |  get_source(self)\n",
      " |      Get the edges source node name.\n",
      " |  \n",
      " |  parse_node_ref(self, node_str)\n",
      " |  \n",
      " |  to_string(self)\n",
      " |      Return string representation of edge in DOT language.\n",
      " |  \n",
      " |  ----------------------------------------------------------------------\n",
      " |  Methods inherited from Common:\n",
      " |  \n",
      " |  __get_attribute__(self, attr)\n",
      " |      Look for default attributes for this node\n",
      " |  \n",
      " |  __getstate__(self)\n",
      " |  \n",
      " |  __setstate__(self, state)\n",
      " |  \n",
      " |  create_attribute_methods(self, obj_attributes)\n",
      " |  \n",
      " |  get(self, name)\n",
      " |      Get an attribute value by name.\n",
      " |      \n",
      " |      Given an attribute 'name' it will get its value.\n",
      " |      There's always the possibility of using the methods:\n",
      " |      \n",
      " |          get_'name'()\n",
      " |      \n",
      " |      which are defined for all the existing attributes.\n",
      " |  \n",
      " |  get_attributes(self)\n",
      " |  \n",
      " |  get_parent_graph(self)\n",
      " |  \n",
      " |  get_sequence(self)\n",
      " |  \n",
      " |  set(self, name, value)\n",
      " |      Set an attribute value by name.\n",
      " |      \n",
      " |      Given an attribute 'name' it will set its value to 'value'.\n",
      " |      There's always the possibility of using the methods:\n",
      " |      \n",
      " |          set_'name'(value)\n",
      " |      \n",
      " |      which are defined for all the existing attributes.\n",
      " |  \n",
      " |  set_parent_graph(self, parent_graph)\n",
      " |  \n",
      " |  set_sequence(self, seq)\n",
      " |  \n",
      " |  ----------------------------------------------------------------------\n",
      " |  Data descriptors inherited from Common:\n",
      " |  \n",
      " |  __dict__\n",
      " |      dictionary for instance variables (if defined)\n",
      " |  \n",
      " |  __weakref__\n",
      " |      list of weak references to the object (if defined)\n",
      "\n"
     ]
    }
   ],
   "source": [
    "help(Edge)"
   ]
  },
  {
   "cell_type": "code",
   "execution_count": null,
   "metadata": {},
   "outputs": [],
   "source": [
    "def main(file):\n",
    "    graph = graph_from_dot(file)\n",
    "    subgraphs = [graph] + extract_subgraphs([graph])\n",
    "    for subgraph in subgraphs:\n",
    "        nodes = extract_nodes(subgraph)\n",
    "        \n",
    "    \n",
    "    \n",
    "    "
   ]
  }
 ],
 "metadata": {
  "kernelspec": {
   "display_name": "Python 3",
   "language": "python",
   "name": "python3"
  },
  "language_info": {
   "codemirror_mode": {
    "name": "ipython",
    "version": 3
   },
   "file_extension": ".py",
   "mimetype": "text/x-python",
   "name": "python",
   "nbconvert_exporter": "python",
   "pygments_lexer": "ipython3",
   "version": "3.7.1"
  }
 },
 "nbformat": 4,
 "nbformat_minor": 2
}
