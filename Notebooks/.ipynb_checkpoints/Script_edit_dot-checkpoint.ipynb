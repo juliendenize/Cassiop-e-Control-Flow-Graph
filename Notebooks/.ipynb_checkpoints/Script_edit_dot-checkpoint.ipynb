{
 "cells": [
  {
   "cell_type": "markdown",
   "metadata": {},
   "source": [
    "# <span style=\"color:purple\">Script edit dot</span>"
   ]
  },
  {
   "cell_type": "code",
   "execution_count": 325,
   "metadata": {},
   "outputs": [],
   "source": [
    "import pydot\n",
    "from pydot import Edge\n",
    "from pydot import Node\n",
    "import re\n",
    "global subgraphs, parents\n",
    "subgraphs={}\n",
    "parents={}"
   ]
  },
  {
   "cell_type": "markdown",
   "metadata": {},
   "source": [
    "## Our goal\n",
    "We want to change the following graph in order to have new nodes to visualize the flow between functions\n",
    "<img src=\"graph.png\" style=\"width:400px\">"
   ]
  },
  {
   "cell_type": "markdown",
   "metadata": {},
   "source": [
    "# Key functions \n",
    "\n",
    "#### Import a graph from dot and return the pydot graph"
   ]
  },
  {
   "cell_type": "code",
   "execution_count": 326,
   "metadata": {},
   "outputs": [],
   "source": [
    "def graph_from_dot(file):\n",
    "    \"\"\"\n",
    "       Import a graph from dot and return the pydot graph\n",
    "       \n",
    "       :param file: path to the file to import\n",
    "       :return: pydot graph\n",
    "       :rtype: Dot\n",
    "    \"\"\"\n",
    "    (graph, ) = pydot.graph_from_dot_file(str(file))\n",
    "    return graph"
   ]
  },
  {
   "cell_type": "code",
   "execution_count": 327,
   "metadata": {},
   "outputs": [],
   "source": [
    "G = graph_from_dot(\"../Tests/while_with_foo/test.c.011t.cfg.dot\");"
   ]
  },
  {
   "cell_type": "markdown",
   "metadata": {},
   "source": [
    "#### Extract subgraphs, edges, nodes"
   ]
  },
  {
   "cell_type": "code",
   "execution_count": 328,
   "metadata": {},
   "outputs": [],
   "source": [
    "def extract_subgraphs(subgraph_list):\n",
    "    global subgraphs, parents\n",
    "    \"\"\"\n",
    "       Extract subgraphs recursively from a list of subgraphs, and the hierarchy of the subgraphs\n",
    "       \n",
    "       :param graph: graph or subgraph from which subgraphs are to be extracted\n",
    "       :return: List of subgraphs\n",
    "       :rtype: List\n",
    "    \"\"\"\n",
    "    new_subgraphs = []\n",
    "    for subgraph in subgraph_list:\n",
    "        subgraph.set_name(subgraph.get_name().strip(\"\\\"\").replace(\"cluster_\", \"\"))\n",
    "        subgraphs[subgraph.get_name()] = subgraph\n",
    "        children_subgraphs = subgraph.get_subgraph_list() \n",
    "        new_subgraphs += children_subgraphs\n",
    "        for child in children_subgraphs:\n",
    "            parents[child.get_name().strip(\"\\\"\").replace(\"cluster_\", \"\")] = subgraph\n",
    "    if(new_subgraphs == []):\n",
    "        return\n",
    "    else:\n",
    "        return extract_subgraphs(new_subgraphs)"
   ]
  },
  {
   "cell_type": "code",
   "execution_count": 329,
   "metadata": {},
   "outputs": [
    {
     "name": "stdout",
     "output_type": "stream",
     "text": [
      "{'test.c.011t.cfg': <pydot.Dot object at 0x7f4bbc188cf8>, 'foo': <pydot.Subgraph object at 0x7f4bb4fe8ba8>, 'main': <pydot.Subgraph object at 0x7f4bb4e3bc18>, '1_1': <pydot.Subgraph object at 0x7f4bb4ddcba8>}\n"
     ]
    }
   ],
   "source": [
    "extract_subgraphs([G])\n",
    "print(subgraphs)"
   ]
  },
  {
   "cell_type": "code",
   "execution_count": 330,
   "metadata": {},
   "outputs": [],
   "source": [
    "def extract_nodes(graph):\n",
    "    \"\"\"\n",
    "       Extract nodes from a graph or subgraph\n",
    "       \n",
    "       :param graph: graph or subgraph from which nodes are to be extracted\n",
    "       :return: List of nodes\n",
    "       :rtype: List\n",
    "    \"\"\"\n",
    "    return graph.get_nodes()"
   ]
  },
  {
   "cell_type": "code",
   "execution_count": 331,
   "metadata": {},
   "outputs": [
    {
     "name": "stdout",
     "output_type": "stream",
     "text": [
      "[<pydot.Node object at 0x7f4bb4edea90>, <pydot.Node object at 0x7f4bb4edeb00>, <pydot.Node object at 0x7f4bb4ed3e80>, <pydot.Node object at 0x7f4bb4edff98>, <pydot.Node object at 0x7f4bb4ec3630>]\n"
     ]
    }
   ],
   "source": [
    "nodes_main = extract_nodes(subgraphs['main'])\n",
    "print(nodes_main)"
   ]
  },
  {
   "cell_type": "code",
   "execution_count": 332,
   "metadata": {},
   "outputs": [],
   "source": [
    "def extract_edges(graph):\n",
    "    \"\"\"\n",
    "       Extract edges from a graph or subgraph\n",
    "       \n",
    "       :param graph: graph or subgraph from which edges are to be extracted\n",
    "       :return: List of edges\n",
    "       :rtype: List\n",
    "    \"\"\"\n",
    "    return graph.get_edges()"
   ]
  },
  {
   "cell_type": "code",
   "execution_count": 333,
   "metadata": {},
   "outputs": [
    {
     "name": "stdout",
     "output_type": "stream",
     "text": [
      "[<pydot.Edge object at 0x7f4bb4eedc18>, <pydot.Edge object at 0x7f4bb4eedc50>, <pydot.Edge object at 0x7f4bb4eed358>, <pydot.Edge object at 0x7f4bb4ede5f8>, <pydot.Edge object at 0x7f4bbc038898>, <pydot.Edge object at 0x7f4bbc03def0>, <pydot.Edge object at 0x7f4bbc05c588>, <pydot.Edge object at 0x7f4bb4da9828>, <pydot.Edge object at 0x7f4bb4db4240>, <pydot.Edge object at 0x7f4bb4d828d0>, <pydot.Edge object at 0x7f4bb4d96f28>]\n"
     ]
    }
   ],
   "source": [
    "edges_main = extract_edges(subgraphs['main'])\n",
    "print(edges_main)"
   ]
  },
  {
   "cell_type": "markdown",
   "metadata": {},
   "source": [
    "#### Add an edge, a node"
   ]
  },
  {
   "cell_type": "code",
   "execution_count": 334,
   "metadata": {},
   "outputs": [],
   "source": [
    "def add_edge(graph, tail_node, head_node, label=\"[0%]\", style=\"solid, bold\", color=\"black\"):\n",
    "    \"\"\"\n",
    "       Add an edge to a graph or subgraph\n",
    "       \n",
    "       :param graph: graph or subgraph to which the edge is added\n",
    "       :param tail_node: origin of the edge\n",
    "       :param head_node: destination of the edge\n",
    "    \"\"\"\n",
    "    edge = Edge(tail_node.get_name()+\":s\", head_node.get_name()+\":n\", label=label, style=style, color=color)\n",
    "    graph.add_edge(edge)\n",
    "    return"
   ]
  },
  {
   "cell_type": "code",
   "execution_count": 335,
   "metadata": {},
   "outputs": [],
   "source": [
    "add_edge(subgraphs['main'], nodes_main[0], nodes_main[1], color=\"red\")"
   ]
  },
  {
   "cell_type": "code",
   "execution_count": 336,
   "metadata": {},
   "outputs": [],
   "source": [
    "def add_node(graph, node_name, label, shape='record', style='filled', fillcolor='lightgrey'):\n",
    "    \"\"\"\n",
    "       Add a node to a graph or subgraph\n",
    "       \n",
    "       :param graph: graph or subgraph to which the node is added\n",
    "       :param node_name: name of the node\n",
    "       :param label: label of the node\n",
    "       :param shape: shape of the node (default \"record\")\n",
    "       :param style: style of the node (default \"field\")\n",
    "       :param fillcolor: color of the node (default \"lightgrey\")\n",
    "    \"\"\"\n",
    "    node = Node(name=node_name, shape=shape, style=style, fillcolor=fillcolor, label=label)\n",
    "    graph.add_node(node)\n",
    "    return node"
   ]
  },
  {
   "cell_type": "code",
   "execution_count": 337,
   "metadata": {},
   "outputs": [
    {
     "data": {
      "text/plain": [
       "<pydot.Node at 0x7f4bb4eed940>"
      ]
     },
     "execution_count": 337,
     "metadata": {},
     "output_type": "execute_result"
    }
   ],
   "source": [
    "add_node(G, 'node_yolo', 'yolo')"
   ]
  },
  {
   "cell_type": "markdown",
   "metadata": {},
   "source": [
    "# Create the new node\n",
    "\n",
    "#### Analyse and create labels if a function call is found"
   ]
  },
  {
   "cell_type": "code",
   "execution_count": 338,
   "metadata": {},
   "outputs": [],
   "source": [
    "def analyse_label_function_calls(node):\n",
    "    \"\"\"\n",
    "        Find if it exists, the first call to a function in a node\n",
    "        \n",
    "        :param node: the node examined\n",
    "        :return: tuple containing the name of the function, the function call and its position in the label of the \n",
    "                 node\n",
    "        :rtype: tuple\n",
    "    \"\"\"\n",
    "    global subgraphs\n",
    "    regex = r\"(?:\\|_\\w+\\\\ \\=\\\\ |\\|)\\w+\\\\\\s\\(\\w*\\)\"\n",
    "    label = node.get_attributes()['label']\n",
    "    for match in re.finditer(regex, label, re.MULTILINE):\n",
    "        function_call = re.search(r'\\w+\\\\\\s\\(\\w*\\)', match.group()).group()\n",
    "        function_name = re.search(r'\\w+', function_call)\n",
    "        if function_name is not None:\n",
    "            if function_name.group() in subgraphs:\n",
    "                return (function_name.group(), function_call, match.start())\n",
    "    return (None, None, None)"
   ]
  },
  {
   "cell_type": "code",
   "execution_count": 339,
   "metadata": {},
   "outputs": [
    {
     "name": "stdout",
     "output_type": "stream",
     "text": [
      "('foo', 'foo\\\\ (b)', 25)\n",
      "\"{ FREQ:0 |\\<bb\\ 3\\>:\\l\\\n",
      "|_1\\ =\\ foo\\ (b);\\l\\\n",
      "|if\\ (_1\\ \\>\\ 3)\\l\\\n",
      "\\ \\ goto\\ \\<bb\\ 4\\>;\\ [0.00%]\\l\\\n",
      "else\\l\\\n",
      "\\ \\ goto\\ \\<bb\\ 5\\>;\\ [0.00%]\\l\\\n",
      "}\"\n"
     ]
    }
   ],
   "source": [
    "node = extract_nodes(subgraphs['1_1'])[0]\n",
    "analyse = analyse_label_function_calls(node)\n",
    "print(analyse)\n",
    "print(node.get_attributes()['label'])"
   ]
  },
  {
   "cell_type": "code",
   "execution_count": 340,
   "metadata": {},
   "outputs": [],
   "source": [
    "def create_labels(node, function_call, function_call_line):\n",
    "    \"\"\"\n",
    "        Create the labels for the new node, and for the node cut in half.\n",
    "        \n",
    "        :param node: the node cut\n",
    "        :param function_call: the string containing the function call used as a regex expression\n",
    "        :return: tuple containing the new label for the node cut, the label for the new node, and the value of\n",
    "                 the cut node's bb\n",
    "        :rtype: tuple\n",
    "    \"\"\"\n",
    "    \n",
    "    label_node = node.get_attributes()[\"label\"]\n",
    "    label_node_from_function_line = label_node[function_call_line:]\n",
    "    regex = re.escape(function_call) + r';\\\\l\\\\\\n'\n",
    "    match_function = re.search(regex, label_node_from_function_line, re.S)\n",
    "    \n",
    "    bb = int(re.search(r'\\d+', re.search(r'<bb\\\\\\ \\d+\\\\>', label_node).group()).group())\n",
    "    \n",
    "    label_node1 = label_node[0:function_call_line] + '|call\\ ' + function_call + ';\\l\\\\\\n}\"'\n",
    "    \n",
    "    match_variable = re.search(r'\\w+\\\\ =\\\\ ' + re.escape(function_call), label_node_from_function_line)\n",
    "\n",
    "    label_node2 = '\"{ FREQ:0 |\\<bb\\ ' + str(bb+1) + '\\>:\\l\\\\\\n|'\n",
    "    \n",
    "    if match_variable is not None:\n",
    "        variable = re.search(r'\\w+', match_variable.group()).group()\n",
    "        label_node2 += variable + '\\ =\\ '\n",
    "    label_node2 += 'return\\ ' + function_call + ';\\\\l\\\\\\n' + label_node_from_function_line[match_function.end():]\n",
    "    \n",
    "    return (label_node1, label_node2, int(bb))\n",
    "    \n",
    "    "
   ]
  },
  {
   "cell_type": "code",
   "execution_count": 341,
   "metadata": {},
   "outputs": [
    {
     "name": "stdout",
     "output_type": "stream",
     "text": [
      "---------\n",
      "\"{ FREQ:0 |\\<bb\\ 3\\>:\\l\\\n",
      "|call\\ foo\\ (b);\\l\\\n",
      "}\"\n",
      "\"{ FREQ:0 |\\<bb\\ 4\\>:\\l\\\n",
      "|_1\\ =\\ return\\ foo\\ (b);\\l\\\n",
      "|if\\ (_1\\ \\>\\ 3)\\l\\\n",
      "\\ \\ goto\\ \\<bb\\ 4\\>;\\ [0.00%]\\l\\\n",
      "else\\l\\\n",
      "\\ \\ goto\\ \\<bb\\ 5\\>;\\ [0.00%]\\l\\\n",
      "}\"\n",
      "3\n"
     ]
    }
   ],
   "source": [
    "(label_node1, label_node2, bb) = create_labels(node, analyse[1], analyse[2])\n",
    "print(\"---------\")\n",
    "print(label_node1)\n",
    "print(label_node2)\n",
    "print(bb)"
   ]
  },
  {
   "cell_type": "markdown",
   "metadata": {},
   "source": [
    "#### Update the value of the nodes: name and labels"
   ]
  },
  {
   "cell_type": "code",
   "execution_count": 342,
   "metadata": {},
   "outputs": [],
   "source": [
    "def update_node(node, attribute, value):\n",
    "    \"\"\"\n",
    "        Update the node's attribute value.\n",
    "        \n",
    "        :param node: the node updated\n",
    "        :param attribute: the attribute\n",
    "        :param value: the value\n",
    "    \"\"\"\n",
    "    node.set(attribute, value)\n",
    "    return"
   ]
  },
  {
   "cell_type": "code",
   "execution_count": 343,
   "metadata": {},
   "outputs": [
    {
     "name": "stdout",
     "output_type": "stream",
     "text": [
      "new_label of the node\n"
     ]
    }
   ],
   "source": [
    "label_before = node.get_attributes()[\"label\"]\n",
    "update_node(node, \"label\", \"new_label of the node\");\n",
    "print(node.get_attributes()[\"label\"])\n",
    "update_node(node, \"label\", label_before)"
   ]
  },
  {
   "cell_type": "code",
   "execution_count": 344,
   "metadata": {},
   "outputs": [],
   "source": [
    "def update_bb_string(string, bb):\n",
    "    \"\"\" \n",
    "        update recursivly the values of the bb found in the string. The first string is a node label\n",
    "        \n",
    "        :param string: the string\n",
    "        :param bb: the bb\n",
    "        :return: the new string\n",
    "        :rtype: string\n",
    "    \"\"\"\n",
    "    match = re.search(r'<bb\\\\\\ \\d+\\\\>', string)\n",
    "    \n",
    "    if match == None:\n",
    "        return string\n",
    "    match_bb = int(re.search(r'\\d+', match.group()).group())\n",
    "    \n",
    "    if match_bb > bb:\n",
    "        string = string.replace('<bb\\ ' + str(match_bb), '<bb\\ ' + str(match_bb + 1))\n",
    "    return string[0:match.end()] + update_bb_string(string[match.end():], bb)"
   ]
  },
  {
   "cell_type": "code",
   "execution_count": 345,
   "metadata": {},
   "outputs": [
    {
     "name": "stdout",
     "output_type": "stream",
     "text": [
      "\"{ FREQ:0 |\\<bb\\ 3\\>:\\l\\\n",
      "|_1\\ =\\ foo\\ (b);\\l\\\n",
      "|if\\ (_1\\ \\>\\ 3)\\l\\\n",
      "\\ \\ goto\\ \\<bb\\ 4\\>;\\ [0.00%]\\l\\\n",
      "else\\l\\\n",
      "\\ \\ goto\\ \\<bb\\ 5\\>;\\ [0.00%]\\l\\\n",
      "}\"\n",
      "----------\n",
      "\"{ FREQ:0 |\\<bb\\ 4\\>:\\l\\\n",
      "|_1\\ =\\ foo\\ (b);\\l\\\n",
      "|if\\ (_1\\ \\>\\ 3)\\l\\\n",
      "\\ \\ goto\\ \\<bb\\ 5\\>;\\ [0.00%]\\l\\\n",
      "else\\l\\\n",
      "\\ \\ goto\\ \\<bb\\ 6\\>;\\ [0.00%]\\l\\\n",
      "}\"\n"
     ]
    }
   ],
   "source": [
    "print(node.get_attributes()[\"label\"])\n",
    "print(\"----------\")\n",
    "print(update_bb_string(node.get_attributes()[\"label\"], 0))"
   ]
  },
  {
   "cell_type": "code",
   "execution_count": 346,
   "metadata": {},
   "outputs": [],
   "source": [
    "def update_name(node_name, bb):\n",
    "    current_number = int(re.search(r'\\d+', re.search(r'block_\\d+', node_name).group()).group())\n",
    "    if bb < current_number:\n",
    "        return node_name.replace('block_' + str(current_number), 'block_' + str(current_number+1))\n",
    "    return node_name"
   ]
  },
  {
   "cell_type": "code",
   "execution_count": 347,
   "metadata": {},
   "outputs": [
    {
     "name": "stdout",
     "output_type": "stream",
     "text": [
      "fn_1_basic_block_3\n",
      "----------\n",
      "fn_1_basic_block_4\n"
     ]
    }
   ],
   "source": [
    "print(node.get_name())\n",
    "print(\"----------\")\n",
    "print(update_name(node.get_name(), 0))"
   ]
  },
  {
   "cell_type": "code",
   "execution_count": 348,
   "metadata": {},
   "outputs": [],
   "source": [
    "def update_nodes(nodes, bb):\n",
    "    \"\"\"\n",
    "        Updates all the nodes whose bb are greater or equal to the bb given.\n",
    "        \n",
    "        :param nodes: the nodes to update\n",
    "        :param bb: the bb\n",
    "    \"\"\"\n",
    "    \n",
    "    for node in nodes:\n",
    "        node.set(\"label\", update_bb_string(node.get_attributes()[\"label\"], bb))\n",
    "        node.set_name(update_name(node.get_name(), bb))\n"
   ]
  },
  {
   "cell_type": "code",
   "execution_count": 349,
   "metadata": {},
   "outputs": [
    {
     "name": "stdout",
     "output_type": "stream",
     "text": [
      "\"{ FREQ:0 |\\<bb\\ 3\\>:\\l\\\n",
      "|_1\\ =\\ foo\\ (b);\\l\\\n",
      "|if\\ (_1\\ \\>\\ 3)\\l\\\n",
      "\\ \\ goto\\ \\<bb\\ 4\\>;\\ [0.00%]\\l\\\n",
      "else\\l\\\n",
      "\\ \\ goto\\ \\<bb\\ 5\\>;\\ [0.00%]\\l\\\n",
      "}\"\n",
      "fn_1_basic_block_3\n",
      "----------\n",
      "\"{ FREQ:0 |\\<bb\\ 3\\>:\\l\\\n",
      "|_1\\ =\\ foo\\ (b);\\l\\\n",
      "|if\\ (_1\\ \\>\\ 3)\\l\\\n",
      "\\ \\ goto\\ \\<bb\\ 5\\>;\\ [0.00%]\\l\\\n",
      "else\\l\\\n",
      "\\ \\ goto\\ \\<bb\\ 6\\>;\\ [0.00%]\\l\\\n",
      "}\"\n",
      "fn_1_basic_block_3\n"
     ]
    }
   ],
   "source": [
    "print(node.get_attributes()[\"label\"] + \"\\n\" + node.get_name())\n",
    "print(\"----------\")\n",
    "update_nodes([node], bb)\n",
    "print(node.get_attributes()[\"label\"] + \"\\n\" + node.get_name())"
   ]
  },
  {
   "cell_type": "markdown",
   "metadata": {},
   "source": [
    "#### On veut récupérer les noeuds qui pourront être update ce qui veut dire qu'il faut itérer dans les sous-graphes enfants et parents"
   ]
  },
  {
   "cell_type": "code",
   "execution_count": 350,
   "metadata": {},
   "outputs": [],
   "source": [
    "def get_nodes_to_update(subgraph, graph_name, starter=0):\n",
    "    \"\"\"\n",
    "        Retrive all the nodes to update from the parents to the children.\n",
    "        \n",
    "        :param subgraph: the current subgraph\n",
    "        :param graph_name: the name of the global graph\n",
    "        :param starter: the flag, 0 if you are the subgraph starter, 1 else\n",
    "        :return nodes: the nodes to update\n",
    "        :rtype: list\n",
    "    \"\"\"\n",
    "    global subgraphs, parents\n",
    "    \n",
    "    nodes = extract_nodes(subgraph)\n",
    "    \n",
    "    for child_subgraph in subgraph.get_subgraph_list():\n",
    "        nodes += get_nodes_to_update(child_subgraph, graph_name, 1)\n",
    "    \n",
    "    parent = parents[subgraph.get_name()].get_name()\n",
    "    while(parent != graph_name and starter == 0):\n",
    "        nodes += extract_nodes(parents[subgraph.get_name()])\n",
    "        parent = parents[parent].get_name()\n",
    "    return nodes"
   ]
  },
  {
   "cell_type": "code",
   "execution_count": 351,
   "metadata": {},
   "outputs": [
    {
     "name": "stdout",
     "output_type": "stream",
     "text": [
      "fn_1_basic_block_3 fn_1_basic_block_4 fn_1_basic_block_5 fn_1_basic_block_6 fn_1_basic_block_0 fn_1_basic_block_1 fn_1_basic_block_2 fn_1_basic_block_7 fn_1_basic_block_8 \n",
      "\n",
      "fn_1_basic_block_3 fn_1_basic_block_4 fn_1_basic_block_5 fn_1_basic_block_6 fn_1_basic_block_0 fn_1_basic_block_1 fn_1_basic_block_2 fn_1_basic_block_7 fn_1_basic_block_8 \n"
     ]
    }
   ],
   "source": [
    "nodes_while = get_nodes_to_update(subgraphs[\"1_1\"], G.get_name())\n",
    "string_while = \"\"\n",
    "for node in nodes_while:\n",
    "    string_while += node.get_name() + \" \"\n",
    "nodes_main = get_nodes_to_update(subgraphs[\"main\"], G.get_name())\n",
    "string_main=\"\"\n",
    "for node in nodes_while:\n",
    "    string_main += node.get_name() + \" \"\n",
    "print(string_while + \"\\n\")\n",
    "print(string_main)"
   ]
  },
  {
   "cell_type": "markdown",
   "metadata": {},
   "source": [
    "#### Create the new node"
   ]
  },
  {
   "cell_type": "code",
   "execution_count": 352,
   "metadata": {},
   "outputs": [],
   "source": [
    "def create_new_node(subgraph, prev_node, label, bb):\n",
    "    return add_node(subgraph, update_name(prev_node.get_name(), bb-1), label=update_bb_string(label, bb))"
   ]
  },
  {
   "cell_type": "code",
   "execution_count": 353,
   "metadata": {},
   "outputs": [
    {
     "name": "stdout",
     "output_type": "stream",
     "text": [
      "fn_1_basic_block_8\n",
      "fn_1_basic_block_9\n",
      "oiseau\n"
     ]
    }
   ],
   "source": [
    "new_node = create_new_node(subgraphs[\"main\"], node, \"oiseau\", 8)\n",
    "print(node.get_name())\n",
    "print(new_node.get_name())\n",
    "print(new_node.get_label())"
   ]
  },
  {
   "cell_type": "markdown",
   "metadata": {},
   "source": [
    "# Create the edges"
   ]
  },
  {
   "cell_type": "markdown",
   "metadata": {},
   "source": [
    "# The export\n",
    "\n",
    "#### For all the subgraph, we need to update their names because there is a syntax error during the output otherwise"
   ]
  },
  {
   "cell_type": "code",
   "execution_count": 354,
   "metadata": {},
   "outputs": [],
   "source": [
    "def recreate_subgraphs_name():\n",
    "    global subgraphs\n",
    "    for (name, subgraph) in subgraphs.items():\n",
    "        subgraph.set_name(\"\\\"\" + subgraph.get_name() + \"\\\"\")"
   ]
  },
  {
   "cell_type": "code",
   "execution_count": 355,
   "metadata": {},
   "outputs": [
    {
     "name": "stdout",
     "output_type": "stream",
     "text": [
      "\"foo\"\n"
     ]
    }
   ],
   "source": [
    "recreate_subgraphs_name()\n",
    "print(G.get_subgraph_list()[0].get_name())"
   ]
  },
  {
   "cell_type": "markdown",
   "metadata": {},
   "source": [
    "#### Export the graph"
   ]
  },
  {
   "cell_type": "code",
   "execution_count": 356,
   "metadata": {},
   "outputs": [],
   "source": [
    "def export_graph(graph, name_file, format_export):\n",
    "    im_name = ('{}.' + format_export).format('./' + name_file)\n",
    "    if (format_export == \"png\"):\n",
    "        graph.write_png(im_name)\n",
    "    elif (format_export ==  \"dot\"):\n",
    "        graph.write_dot(im_name)\n",
    "    else:\n",
    "        raise LookupError"
   ]
  },
  {
   "cell_type": "code",
   "execution_count": 357,
   "metadata": {},
   "outputs": [],
   "source": [
    "export_graph(G, \"test\", \"png\")"
   ]
  },
  {
   "cell_type": "markdown",
   "metadata": {},
   "source": [
    "<img src=\"test.png\" style=\"width:400px\">"
   ]
  },
  {
   "cell_type": "code",
   "execution_count": 358,
   "metadata": {},
   "outputs": [],
   "source": [
    "def main(file):\n",
    "    global subgraphs, parents\n",
    "    graph = graph_from_dot(file)\n",
    "    subgraphs = {}\n",
    "    parents = {}\n",
    "    extract_subgraphs([graph])\n",
    "    \n",
    "    for (name, subgraph) in subgraphs.items():\n",
    "        nodes = extract_nodes(subgraph)\n",
    "        for node in nodes:\n",
    "            (name_function, result, function_call_line) = analyse_label_function_calls(node)\n",
    "            if name_function is not None:\n",
    "                (label_node1, label_node2, bb) = create_labels(node, result, function_call_line)\n",
    "                node.set_label(label_node1)\n",
    "                nodes_to_update = get_nodes_to_update(subgraph, graph.get_name())\n",
    "                update_nodes(nodes_to_update, bb)\n",
    "                nodes.append(create_new_node(subgraph, node, label_node2, bb))\n",
    "    recreate_subgraphs_name()\n",
    "    export_graph(graph, \"main_output\", \"png\")\n",
    "    export_graph(graph, \"main_output\", \"dot\")\n",
    "    return"
   ]
  },
  {
   "cell_type": "code",
   "execution_count": 359,
   "metadata": {},
   "outputs": [],
   "source": [
    "main(\"../Tests/while_with_foo/test.c.011t.cfg.dot\")"
   ]
  },
  {
   "cell_type": "markdown",
   "metadata": {},
   "source": [
    "<img src=\"main_output.png\" style=\"width:400px\">"
   ]
  },
  {
   "cell_type": "code",
   "execution_count": null,
   "metadata": {},
   "outputs": [],
   "source": []
  }
 ],
 "metadata": {
  "kernelspec": {
   "display_name": "Python 3",
   "language": "python",
   "name": "python3"
  },
  "language_info": {
   "codemirror_mode": {
    "name": "ipython",
    "version": 3
   },
   "file_extension": ".py",
   "mimetype": "text/x-python",
   "name": "python",
   "nbconvert_exporter": "python",
   "pygments_lexer": "ipython3",
   "version": "3.7.2"
  }
 },
 "nbformat": 4,
 "nbformat_minor": 2
}
