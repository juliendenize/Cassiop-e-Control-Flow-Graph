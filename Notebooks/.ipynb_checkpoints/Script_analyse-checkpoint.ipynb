{
 "cells": [
  {
   "cell_type": "code",
   "execution_count": 6,
   "metadata": {},
   "outputs": [],
   "source": [
    "import networkx as nx\n",
    "import matplotlib.pyplot as plt\n",
    "import pydot\n",
    "from pydot import Edge\n",
    "from pydot import Node\n",
    "\n",
    "global subgraphs, nodes_subgraphs\n",
    "subgraphs = {}\n",
    "nodes_subgraphs = {}"
   ]
  },
  {
   "cell_type": "code",
   "execution_count": 7,
   "metadata": {},
   "outputs": [],
   "source": [
    "def get_graph_from_dot(file):\n",
    "    \"\"\"\n",
    "       Import a graph from dot and return the pydot graph\n",
    "       \n",
    "       :param file: path to the file to import\n",
    "       :return: pydot graph\n",
    "       :rtype: Dot\n",
    "    \"\"\"\n",
    "    (graph, ) = pydot.graph_from_dot_file(str(file))\n",
    "    return graph\n",
    "\n",
    "graph = get_graph_from_dot('./main_output.dot')"
   ]
  },
  {
   "cell_type": "code",
   "execution_count": 8,
   "metadata": {},
   "outputs": [],
   "source": [
    "def extract_subgraphs(subgraph_list):\n",
    "    global subgraphs\n",
    "    \"\"\"\n",
    "       Extract subgraphs recursively from a list of subgraphs, and the hierarchy of the subgraphs\n",
    "       \n",
    "       :param graph: graph or subgraph from which subgraphs are to be extracted\n",
    "       :return: List of subgraphs\n",
    "       :rtype: List\n",
    "    \"\"\"\n",
    "    new_subgraphs = []\n",
    "    for subgraph in subgraph_list:\n",
    "        subgraph.set_name(subgraph.get_name().strip(\"\\\"\").replace(\"cluster_\", \"\"))\n",
    "        subgraphs[subgraph.get_name()] = subgraph\n",
    "        children_subgraphs = subgraph.get_subgraph_list() \n",
    "        new_subgraphs += children_subgraphs\n",
    "    if(new_subgraphs == []):\n",
    "        return\n",
    "    else:\n",
    "        return extract_subgraphs(new_subgraphs)\n",
    "\n",
    "extract_subgraphs([graph])"
   ]
  },
  {
   "cell_type": "code",
   "execution_count": 9,
   "metadata": {},
   "outputs": [
    {
     "name": "stdout",
     "output_type": "stream",
     "text": [
      "{'fn_0_basic_block_0': <pydot.Subgraph object at 0x7fae0b117ef0>, 'fn_0_basic_block_1': <pydot.Subgraph object at 0x7fae0b117ef0>, 'fn_0_basic_block_2': <pydot.Subgraph object at 0x7fae0b117ef0>, 'fn_0_basic_block_3': <pydot.Subgraph object at 0x7fae0b117ef0>, 'fn_0_basic_block_4': <pydot.Subgraph object at 0x7fae0b117ef0>, 'fn_0_basic_block_5': <pydot.Subgraph object at 0x7fae0b117ef0>, 'fn_1_basic_block_0': <pydot.Subgraph object at 0x7fae0b37dcf8>, 'fn_1_basic_block_1': <pydot.Subgraph object at 0x7fae0b37dcf8>, 'fn_1_basic_block_2': <pydot.Subgraph object at 0x7fae0b37dcf8>, 'fn_1_basic_block_3': <pydot.Subgraph object at 0x7fae0b37dcf8>, 'fn_2_basic_block_0': <pydot.Subgraph object at 0x7fae0b34c160>, 'fn_2_basic_block_1': <pydot.Subgraph object at 0x7fae0b34c160>, 'fn_2_basic_block_2': <pydot.Subgraph object at 0x7fae0b34c160>, 'fn_2_basic_block_5': <pydot.Subgraph object at 0x7fae0b34c160>, 'fn_2_basic_block_7': <pydot.Subgraph object at 0x7fae0b34c160>, 'fn_2_basic_block_6': <pydot.Subgraph object at 0x7fae0b34c160>, 'fn_2_basic_block_8': <pydot.Subgraph object at 0x7fae0b34c160>, 'fn_2_basic_block_3': <pydot.Subgraph object at 0x7fae0b34c160>, 'fn_2_basic_block_4': <pydot.Subgraph object at 0x7fae0b34c160>}\n"
     ]
    }
   ],
   "source": [
    "def associate_node_subgraph (graph):\n",
    "    global nodes_subgraphs, subgraphs\n",
    "    \n",
    "    for key, subgraph in subgraphs.items():\n",
    "        if(type(subgraph) == pydot.Subgraph):\n",
    "            for node in subgraph.get_nodes():\n",
    "                if(node.get_name() != 'graph'):\n",
    "                    nodes_subgraphs[node.get_name()] = subgraph\n",
    "\n",
    "associate_node_subgraph(graph)\n",
    "print(nodes_subgraphs)"
   ]
  },
  {
   "cell_type": "code",
   "execution_count": 10,
   "metadata": {},
   "outputs": [
    {
     "name": "stdout",
     "output_type": "stream",
     "text": [
      "[<pydot.Edge object at 0x7fae0b0c60f0>, <pydot.Edge object at 0x7fae0b04f2e8>, <pydot.Edge object at 0x7fae0b052f28>, <pydot.Edge object at 0x7fae0b0c6550>, <pydot.Edge object at 0x7fae0b04dba8>, <pydot.Edge object at 0x7fae0b04d668>, <pydot.Edge object at 0x7fae0b0c90f0>, <pydot.Edge object at 0x7fae0b0b7860>, <pydot.Edge object at 0x7fae0b04b8d0>, <pydot.Edge object at 0x7fae0b23b550>, <pydot.Edge object at 0x7fae0b241eb8>, <pydot.Edge object at 0x7fae0b20d1d0>, <pydot.Edge object at 0x7fae0b20d0b8>, <pydot.Edge object at 0x7fae0b219ef0>, <pydot.Edge object at 0x7fae0b220c18>, <pydot.Edge object at 0x7fae0b23a2b0>, <pydot.Edge object at 0x7fae0b214e48>, <pydot.Edge object at 0x7fae0b214f60>, <pydot.Edge object at 0x7fae0b05a5f8>, <pydot.Edge object at 0x7fae0b060c50>, <pydot.Edge object at 0x7fae0b0692e8>, <pydot.Edge object at 0x7fae0b077e80>, <pydot.Edge object at 0x7fae0b077f98>]\n"
     ]
    }
   ],
   "source": [
    "def move_edges (graph_name):\n",
    "    global subgraphs\n",
    "    \n",
    "    for key, subgraph in subgraphs.items():\n",
    "        for edge in subgraph.get_edges():\n",
    "            node_head = edge.get_source()\n",
    "            node_tail = edge.get_destination()\n",
    "            subgraph.del_edge(node_head, node_tail, 0)\n",
    "            subgraphs[graph_name].add_edge(Edge(node_head[:-2], node_tail[:-2]))\n",
    "            \n",
    "move_edges(graph.get_name())\n",
    "print(graph.get_edges())"
   ]
  },
  {
   "cell_type": "code",
   "execution_count": 11,
   "metadata": {},
   "outputs": [
    {
     "name": "stdout",
     "output_type": "stream",
     "text": [
      "test.c.011t.cfg\n"
     ]
    }
   ],
   "source": [
    "def get_networkx_graph(graph):\n",
    "    G = nx.drawing.nx_pydot.from_pydot(graph)\n",
    "    nx.freeze(G)\n",
    "    return G\n",
    "\n",
    "G = get_networkx_graph(graph)\n",
    "print(G)"
   ]
  },
  {
   "cell_type": "code",
   "execution_count": 12,
   "metadata": {},
   "outputs": [
    {
     "name": "stdout",
     "output_type": "stream",
     "text": [
      "fn_0_basic_block_1\n",
      "fn_2_basic_block_4\n",
      "fn_1_basic_block_1\n",
      "fn_2_basic_block_3\n",
      "fn_2_basic_block_2\n",
      "fn_1_basic_block_0\n",
      "fn_0_basic_block_0\n",
      "fn_0_basic_block_2\n",
      "fn_0_basic_block_3\n",
      "fn_0_basic_block_4\n",
      "fn_0_basic_block_5\n",
      "fn_1_basic_block_2\n",
      "fn_1_basic_block_3\n",
      "fn_2_basic_block_0\n",
      "fn_2_basic_block_1\n",
      "fn_2_basic_block_5\n",
      "fn_2_basic_block_7\n",
      "fn_2_basic_block_6\n",
      "fn_2_basic_block_8\n"
     ]
    }
   ],
   "source": [
    "for node in G.nodes():\n",
    "    print(node)"
   ]
  },
  {
   "cell_type": "code",
   "execution_count": 13,
   "metadata": {},
   "outputs": [
    {
     "data": {
      "text/plain": [
       "'main'"
      ]
     },
     "execution_count": 13,
     "metadata": {},
     "output_type": "execute_result"
    }
   ],
   "source": [
    "def get_none_in_degree_nodes (G):\n",
    "    nodes = []\n",
    "    for (node, degree) in G.in_degree():\n",
    "        if (degree == 0):\n",
    "            nodes.append(node)\n",
    "    return nodes\n",
    "\n",
    "nodes = get_none_in_degree_nodes(G)\n",
    "nodes_subgraphs[nodes[0]].get_name()"
   ]
  },
  {
   "cell_type": "code",
   "execution_count": 14,
   "metadata": {},
   "outputs": [
    {
     "name": "stdout",
     "output_type": "stream",
     "text": [
      "{'fn_0_basic_block_1': 0.23202614379084968, 'fn_2_basic_block_4': 0.20915032679738563, 'fn_1_basic_block_1': 0.20915032679738563, 'fn_2_basic_block_3': 0.23202614379084968, 'fn_2_basic_block_2': 0.05228758169934641, 'fn_1_basic_block_0': 0.10130718954248366, 'fn_0_basic_block_0': 0.24836601307189543, 'fn_0_basic_block_2': 0.0784313725490196, 'fn_0_basic_block_3': 0.026143790849673203, 'fn_0_basic_block_4': 0.026143790849673203, 'fn_0_basic_block_5': 0.06862745098039216, 'fn_1_basic_block_2': 0.00980392156862745, 'fn_1_basic_block_3': 0.04575163398692811, 'fn_2_basic_block_0': 0.0, 'fn_2_basic_block_1': 0.0, 'fn_2_basic_block_5': 0.06699346405228758, 'fn_2_basic_block_7': 0.10130718954248366, 'fn_2_basic_block_6': 0.06699346405228758, 'fn_2_basic_block_8': 0.05228758169934641}\n"
     ]
    }
   ],
   "source": [
    "def get_betweeness_centrality (G):\n",
    "    return nx.betweenness_centrality(G)\n",
    "print(get_betweeness_centrality(G))"
   ]
  },
  {
   "cell_type": "code",
   "execution_count": 15,
   "metadata": {},
   "outputs": [],
   "source": [
    "def is_acyclic(G):\n",
    "    return nx.is_directed_acyclic_graph(G)"
   ]
  },
  {
   "cell_type": "code",
   "execution_count": 16,
   "metadata": {},
   "outputs": [],
   "source": [
    "def main (file):\n",
    "    global subgraphs, nodes_subgraphs\n",
    "    subgraphs = {}\n",
    "    nodes_subgraphs = {}\n",
    "    pydot_graph = get_graph_from_dot(file)\n",
    "    extract_subgraphs([pydot_graph])\n",
    "    associate_node_subgraph(pydot_graph)\n",
    "    move_edges(pydot_graph.get_name())\n",
    "    nx_graph = get_networkx_graph(pydot_graph)\n",
    "    \n",
    "    none_in_degree_nodes = get_none_in_degree_nodes(nx_graph)\n",
    "    is_acyclic_graph = is_acyclic(nx_graph)\n",
    "    \n",
    "    \n",
    "    \n",
    "    \n",
    "    \n",
    "    for node in none_in_degree_nodes:\n",
    "        print(\"Il y a un noeud sans entrée dans la fonction \" + nodes_subgraphs[node].get_name())\n",
    "        if (is_acyclic_graph):\n",
    "            print(\"Le graphe est acyclique\")\n",
    "        else:\n",
    "            print(\"Le graphe contient un cycle\")"
   ]
  },
  {
   "cell_type": "code",
   "execution_count": 17,
   "metadata": {},
   "outputs": [
    {
     "name": "stdout",
     "output_type": "stream",
     "text": [
      "Il y a un noeud sans entrée dans la fonction main\n"
     ]
    }
   ],
   "source": [
    "main('./main_output.dot')"
   ]
  },
  {
   "cell_type": "code",
   "execution_count": null,
   "metadata": {},
   "outputs": [],
   "source": []
  },
  {
   "cell_type": "code",
   "execution_count": null,
   "metadata": {},
   "outputs": [],
   "source": []
  }
 ],
 "metadata": {
  "kernelspec": {
   "display_name": "Python 3",
   "language": "python",
   "name": "python3"
  },
  "language_info": {
   "codemirror_mode": {
    "name": "ipython",
    "version": 3
   },
   "file_extension": ".py",
   "mimetype": "text/x-python",
   "name": "python",
   "nbconvert_exporter": "python",
   "pygments_lexer": "ipython3",
   "version": "3.7.2"
  }
 },
 "nbformat": 4,
 "nbformat_minor": 2
}
